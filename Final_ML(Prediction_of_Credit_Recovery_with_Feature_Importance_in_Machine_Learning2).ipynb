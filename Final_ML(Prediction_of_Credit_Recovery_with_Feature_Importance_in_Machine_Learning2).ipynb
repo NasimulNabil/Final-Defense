{
  "nbformat": 4,
  "nbformat_minor": 0,
  "metadata": {
    "colab": {
      "name": "Final -ML(Prediction_of_Credit_Recovery_with_Feature_Importance_in_Machine_Learning2).ipynb",
      "provenance": [],
      "collapsed_sections": [],
      "include_colab_link": true
    },
    "kernelspec": {
      "name": "python3",
      "display_name": "Python 3"
    },
    "language_info": {
      "name": "python"
    }
  },
  "cells": [
    {
      "cell_type": "markdown",
      "metadata": {
        "id": "view-in-github",
        "colab_type": "text"
      },
      "source": [
        "<a href=\"https://colab.research.google.com/github/NasimulNabil/Final-Defense/blob/main/Final_ML(Prediction_of_Credit_Recovery_with_Feature_Importance_in_Machine_Learning2).ipynb\" target=\"_parent\"><img src=\"https://colab.research.google.com/assets/colab-badge.svg\" alt=\"Open In Colab\"/></a>"
      ]
    },
    {
      "cell_type": "code",
      "metadata": {
        "colab": {
          "base_uri": "https://localhost:8080/",
          "height": 223
        },
        "id": "ZX9mSObmIDHx",
        "outputId": "f24986e0-3468-42d5-deb8-19d151488a4e"
      },
      "source": [
        "import pandas as pd\n",
        "import seaborn as sns\n",
        "import matplotlib.pyplot as plt\n",
        "\n",
        "df = pd.read_csv('/content/drive/MyDrive/Research/loan_data_feature.csv')\n",
        "df.head()"
      ],
      "execution_count": null,
      "outputs": [
        {
          "output_type": "execute_result",
          "data": {
            "text/html": [
              "<div>\n",
              "<style scoped>\n",
              "    .dataframe tbody tr th:only-of-type {\n",
              "        vertical-align: middle;\n",
              "    }\n",
              "\n",
              "    .dataframe tbody tr th {\n",
              "        vertical-align: top;\n",
              "    }\n",
              "\n",
              "    .dataframe thead th {\n",
              "        text-align: right;\n",
              "    }\n",
              "</style>\n",
              "<table border=\"1\" class=\"dataframe\">\n",
              "  <thead>\n",
              "    <tr style=\"text-align: right;\">\n",
              "      <th></th>\n",
              "      <th>long_term</th>\n",
              "      <th>emi_loan</th>\n",
              "      <th>individual_loan</th>\n",
              "      <th>consumer_loan</th>\n",
              "      <th>agri_loan</th>\n",
              "      <th>interest_free</th>\n",
              "      <th>staff_loan</th>\n",
              "      <th>secured_unsecured</th>\n",
              "      <th>annual_income_lavel</th>\n",
              "      <th>loan_type</th>\n",
              "      <th>good_credit_life</th>\n",
              "      <th>customer_relation_day</th>\n",
              "      <th>contract_value</th>\n",
              "      <th>contract_mat_day_remain</th>\n",
              "      <th>customer_age_year</th>\n",
              "      <th>int_rate</th>\n",
              "      <th>current_os_amount</th>\n",
              "      <th>total_sanction_amt</th>\n",
              "      <th>total_disb_amt</th>\n",
              "      <th>total_recov_amt</th>\n",
              "      <th>total_int_amt</th>\n",
              "      <th>total_repayable_amt</th>\n",
              "      <th>emi_amount</th>\n",
              "      <th>num_of_installment</th>\n",
              "      <th>pay_month_01</th>\n",
              "      <th>pay_month_02</th>\n",
              "      <th>pay_month_03</th>\n",
              "      <th>pay_month_04</th>\n",
              "      <th>pay_month_05</th>\n",
              "      <th>pay_month_06</th>\n",
              "      <th>bill_amount_01</th>\n",
              "      <th>bill_amount_02</th>\n",
              "      <th>bill_amount_03</th>\n",
              "      <th>bill_amount_04</th>\n",
              "      <th>bill_amount_05</th>\n",
              "      <th>bill_amount_06</th>\n",
              "      <th>number_of_loan_ac</th>\n",
              "      <th>good_credit</th>\n",
              "      <th>total_bl_countMoreThanOne</th>\n",
              "      <th>total_bl_countOne</th>\n",
              "      <th>repayment_frequencyMonth</th>\n",
              "      <th>repayment_frequencyMoreThanMonth</th>\n",
              "      <th>total_bill_amount</th>\n",
              "      <th>mean_bill_amount</th>\n",
              "      <th>total_pay_amount</th>\n",
              "      <th>mean_pay_amount</th>\n",
              "      <th>ratio_of_total_payment</th>\n",
              "      <th>ratio_of_bill_payment</th>\n",
              "      <th>ratio_of_disb_amt_and_good_credit</th>\n",
              "      <th>number_of_installment_paid</th>\n",
              "    </tr>\n",
              "  </thead>\n",
              "  <tbody>\n",
              "    <tr>\n",
              "      <th>0</th>\n",
              "      <td>1</td>\n",
              "      <td>0</td>\n",
              "      <td>1</td>\n",
              "      <td>0</td>\n",
              "      <td>0</td>\n",
              "      <td>0</td>\n",
              "      <td>1</td>\n",
              "      <td>1</td>\n",
              "      <td>1.0</td>\n",
              "      <td>2.0</td>\n",
              "      <td>732</td>\n",
              "      <td>1097.0</td>\n",
              "      <td>64800.0</td>\n",
              "      <td>394</td>\n",
              "      <td>22.0</td>\n",
              "      <td>9.0</td>\n",
              "      <td>37232.0</td>\n",
              "      <td>50000.0</td>\n",
              "      <td>50000.0</td>\n",
              "      <td>19350.0</td>\n",
              "      <td>6582.0</td>\n",
              "      <td>43200.0</td>\n",
              "      <td>1800.0</td>\n",
              "      <td>36</td>\n",
              "      <td>1.0</td>\n",
              "      <td>1.0</td>\n",
              "      <td>1.0</td>\n",
              "      <td>1</td>\n",
              "      <td>1</td>\n",
              "      <td>1</td>\n",
              "      <td>14850.0</td>\n",
              "      <td>14850.0</td>\n",
              "      <td>18450.0</td>\n",
              "      <td>20250.0</td>\n",
              "      <td>22050.0</td>\n",
              "      <td>23850.0</td>\n",
              "      <td>1</td>\n",
              "      <td>0</td>\n",
              "      <td>0</td>\n",
              "      <td>1</td>\n",
              "      <td>1</td>\n",
              "      <td>0</td>\n",
              "      <td>114300.0</td>\n",
              "      <td>19050.0000</td>\n",
              "      <td>6.0</td>\n",
              "      <td>1.000000</td>\n",
              "      <td>1.157407</td>\n",
              "      <td>19050.000000</td>\n",
              "      <td>68.306011</td>\n",
              "      <td>10.750000</td>\n",
              "    </tr>\n",
              "    <tr>\n",
              "      <th>1</th>\n",
              "      <td>1</td>\n",
              "      <td>1</td>\n",
              "      <td>1</td>\n",
              "      <td>0</td>\n",
              "      <td>0</td>\n",
              "      <td>0</td>\n",
              "      <td>1</td>\n",
              "      <td>0</td>\n",
              "      <td>1.0</td>\n",
              "      <td>3.0</td>\n",
              "      <td>606</td>\n",
              "      <td>1741.0</td>\n",
              "      <td>426000.0</td>\n",
              "      <td>487</td>\n",
              "      <td>33.0</td>\n",
              "      <td>13.0</td>\n",
              "      <td>278523.0</td>\n",
              "      <td>300000.0</td>\n",
              "      <td>300000.0</td>\n",
              "      <td>21500.0</td>\n",
              "      <td>300023.0</td>\n",
              "      <td>213000.0</td>\n",
              "      <td>14200.0</td>\n",
              "      <td>30</td>\n",
              "      <td>8000.0</td>\n",
              "      <td>1.0</td>\n",
              "      <td>1.0</td>\n",
              "      <td>1000</td>\n",
              "      <td>1000</td>\n",
              "      <td>1500</td>\n",
              "      <td>123500.0</td>\n",
              "      <td>137700.0</td>\n",
              "      <td>151900.0</td>\n",
              "      <td>165600.0</td>\n",
              "      <td>178800.0</td>\n",
              "      <td>191500.0</td>\n",
              "      <td>1</td>\n",
              "      <td>0</td>\n",
              "      <td>0</td>\n",
              "      <td>1</td>\n",
              "      <td>1</td>\n",
              "      <td>0</td>\n",
              "      <td>949000.0</td>\n",
              "      <td>158166.6667</td>\n",
              "      <td>11502.0</td>\n",
              "      <td>1917.000000</td>\n",
              "      <td>1.408451</td>\n",
              "      <td>82.507390</td>\n",
              "      <td>495.049505</td>\n",
              "      <td>1.514085</td>\n",
              "    </tr>\n",
              "    <tr>\n",
              "      <th>2</th>\n",
              "      <td>1</td>\n",
              "      <td>1</td>\n",
              "      <td>1</td>\n",
              "      <td>0</td>\n",
              "      <td>0</td>\n",
              "      <td>0</td>\n",
              "      <td>1</td>\n",
              "      <td>0</td>\n",
              "      <td>4.0</td>\n",
              "      <td>3.0</td>\n",
              "      <td>618</td>\n",
              "      <td>1026.0</td>\n",
              "      <td>511200.0</td>\n",
              "      <td>660</td>\n",
              "      <td>37.0</td>\n",
              "      <td>13.0</td>\n",
              "      <td>266854.0</td>\n",
              "      <td>300000.0</td>\n",
              "      <td>300000.0</td>\n",
              "      <td>33200.0</td>\n",
              "      <td>300054.0</td>\n",
              "      <td>213000.0</td>\n",
              "      <td>14200.0</td>\n",
              "      <td>36</td>\n",
              "      <td>1.0</td>\n",
              "      <td>1.0</td>\n",
              "      <td>1.0</td>\n",
              "      <td>5000</td>\n",
              "      <td>1</td>\n",
              "      <td>1</td>\n",
              "      <td>113300.0</td>\n",
              "      <td>127500.0</td>\n",
              "      <td>141700.0</td>\n",
              "      <td>151400.0</td>\n",
              "      <td>165600.0</td>\n",
              "      <td>179800.0</td>\n",
              "      <td>1</td>\n",
              "      <td>0</td>\n",
              "      <td>0</td>\n",
              "      <td>1</td>\n",
              "      <td>1</td>\n",
              "      <td>0</td>\n",
              "      <td>879300.0</td>\n",
              "      <td>146550.0000</td>\n",
              "      <td>5005.0</td>\n",
              "      <td>834.166667</td>\n",
              "      <td>1.408451</td>\n",
              "      <td>175.684316</td>\n",
              "      <td>485.436893</td>\n",
              "      <td>2.338028</td>\n",
              "    </tr>\n",
              "    <tr>\n",
              "      <th>3</th>\n",
              "      <td>1</td>\n",
              "      <td>1</td>\n",
              "      <td>1</td>\n",
              "      <td>0</td>\n",
              "      <td>0</td>\n",
              "      <td>0</td>\n",
              "      <td>1</td>\n",
              "      <td>0</td>\n",
              "      <td>4.0</td>\n",
              "      <td>3.0</td>\n",
              "      <td>564</td>\n",
              "      <td>878.0</td>\n",
              "      <td>511200.0</td>\n",
              "      <td>715</td>\n",
              "      <td>28.0</td>\n",
              "      <td>13.0</td>\n",
              "      <td>280000.0</td>\n",
              "      <td>300000.0</td>\n",
              "      <td>300000.0</td>\n",
              "      <td>20000.0</td>\n",
              "      <td>300000.0</td>\n",
              "      <td>184600.0</td>\n",
              "      <td>14200.0</td>\n",
              "      <td>36</td>\n",
              "      <td>1.0</td>\n",
              "      <td>1.0</td>\n",
              "      <td>1.0</td>\n",
              "      <td>1</td>\n",
              "      <td>1</td>\n",
              "      <td>1</td>\n",
              "      <td>93600.0</td>\n",
              "      <td>107800.0</td>\n",
              "      <td>122000.0</td>\n",
              "      <td>136200.0</td>\n",
              "      <td>150400.0</td>\n",
              "      <td>164600.0</td>\n",
              "      <td>1</td>\n",
              "      <td>0</td>\n",
              "      <td>0</td>\n",
              "      <td>1</td>\n",
              "      <td>1</td>\n",
              "      <td>0</td>\n",
              "      <td>774600.0</td>\n",
              "      <td>129100.0000</td>\n",
              "      <td>6.0</td>\n",
              "      <td>1.000000</td>\n",
              "      <td>1.625135</td>\n",
              "      <td>129100.000000</td>\n",
              "      <td>531.914894</td>\n",
              "      <td>1.408451</td>\n",
              "    </tr>\n",
              "    <tr>\n",
              "      <th>4</th>\n",
              "      <td>1</td>\n",
              "      <td>1</td>\n",
              "      <td>1</td>\n",
              "      <td>1</td>\n",
              "      <td>0</td>\n",
              "      <td>1</td>\n",
              "      <td>1</td>\n",
              "      <td>0</td>\n",
              "      <td>1.0</td>\n",
              "      <td>6.0</td>\n",
              "      <td>425</td>\n",
              "      <td>2020.0</td>\n",
              "      <td>540288.0</td>\n",
              "      <td>1065</td>\n",
              "      <td>45.0</td>\n",
              "      <td>13.0</td>\n",
              "      <td>436384.0</td>\n",
              "      <td>1175000.0</td>\n",
              "      <td>1175000.0</td>\n",
              "      <td>16000.0</td>\n",
              "      <td>52384.0</td>\n",
              "      <td>157584.0</td>\n",
              "      <td>11256.0</td>\n",
              "      <td>48</td>\n",
              "      <td>1.0</td>\n",
              "      <td>1.0</td>\n",
              "      <td>1.0</td>\n",
              "      <td>1</td>\n",
              "      <td>1</td>\n",
              "      <td>5000</td>\n",
              "      <td>90304.0</td>\n",
              "      <td>101560.0</td>\n",
              "      <td>112816.0</td>\n",
              "      <td>124072.0</td>\n",
              "      <td>135328.0</td>\n",
              "      <td>141584.0</td>\n",
              "      <td>5</td>\n",
              "      <td>1</td>\n",
              "      <td>0</td>\n",
              "      <td>1</td>\n",
              "      <td>1</td>\n",
              "      <td>0</td>\n",
              "      <td>705664.0</td>\n",
              "      <td>117610.6667</td>\n",
              "      <td>5005.0</td>\n",
              "      <td>834.166667</td>\n",
              "      <td>7.456341</td>\n",
              "      <td>140.991808</td>\n",
              "      <td>2764.705882</td>\n",
              "      <td>1.421464</td>\n",
              "    </tr>\n",
              "  </tbody>\n",
              "</table>\n",
              "</div>"
            ],
            "text/plain": [
              "   long_term  ...  number_of_installment_paid\n",
              "0          1  ...                   10.750000\n",
              "1          1  ...                    1.514085\n",
              "2          1  ...                    2.338028\n",
              "3          1  ...                    1.408451\n",
              "4          1  ...                    1.421464\n",
              "\n",
              "[5 rows x 50 columns]"
            ]
          },
          "metadata": {},
          "execution_count": 86
        }
      ]
    },
    {
      "cell_type": "code",
      "metadata": {
        "colab": {
          "base_uri": "https://localhost:8080/"
        },
        "id": "HkZxOj5GJSSX",
        "outputId": "4ee012ea-f076-4f4a-bca7-c988aebed4ec"
      },
      "source": [
        "df.shape"
      ],
      "execution_count": null,
      "outputs": [
        {
          "output_type": "execute_result",
          "data": {
            "text/plain": [
              "(4600, 50)"
            ]
          },
          "metadata": {},
          "execution_count": 87
        }
      ]
    },
    {
      "cell_type": "code",
      "metadata": {
        "colab": {
          "base_uri": "https://localhost:8080/"
        },
        "id": "--uEmCs2Jcil",
        "outputId": "15f9848c-cc47-4d69-99f8-4c578e5a5337"
      },
      "source": [
        "df.isnull().any()"
      ],
      "execution_count": null,
      "outputs": [
        {
          "output_type": "execute_result",
          "data": {
            "text/plain": [
              "long_term                            False\n",
              "emi_loan                             False\n",
              "individual_loan                      False\n",
              "consumer_loan                        False\n",
              "agri_loan                            False\n",
              "interest_free                        False\n",
              "staff_loan                           False\n",
              "secured_unsecured                    False\n",
              "annual_income_lavel                  False\n",
              "loan_type                            False\n",
              "good_credit_life                     False\n",
              "customer_relation_day                False\n",
              "contract_value                       False\n",
              "contract_mat_day_remain              False\n",
              "customer_age_year                    False\n",
              "int_rate                             False\n",
              "current_os_amount                    False\n",
              "total_sanction_amt                   False\n",
              "total_disb_amt                       False\n",
              "total_recov_amt                      False\n",
              "total_int_amt                        False\n",
              "total_repayable_amt                  False\n",
              "emi_amount                           False\n",
              "num_of_installment                   False\n",
              "pay_month_01                         False\n",
              "pay_month_02                         False\n",
              "pay_month_03                         False\n",
              "pay_month_04                         False\n",
              "pay_month_05                         False\n",
              "pay_month_06                         False\n",
              "bill_amount_01                       False\n",
              "bill_amount_02                       False\n",
              "bill_amount_03                       False\n",
              "bill_amount_04                       False\n",
              "bill_amount_05                       False\n",
              "bill_amount_06                       False\n",
              "number_of_loan_ac                    False\n",
              "good_credit                          False\n",
              "total_bl_countMoreThanOne            False\n",
              "total_bl_countOne                    False\n",
              "repayment_frequencyMonth             False\n",
              "repayment_frequencyMoreThanMonth     False\n",
              "total_bill_amount                    False\n",
              "mean_bill_amount                     False\n",
              "total_pay_amount                     False\n",
              "mean_pay_amount                      False\n",
              "ratio_of_total_payment               False\n",
              "ratio_of_bill_payment                False\n",
              "ratio_of_disb_amt_and_good_credit    False\n",
              "number_of_installment_paid           False\n",
              "dtype: bool"
            ]
          },
          "metadata": {},
          "execution_count": 88
        }
      ]
    },
    {
      "cell_type": "code",
      "metadata": {
        "colab": {
          "base_uri": "https://localhost:8080/",
          "height": 315
        },
        "id": "hqm2udw5Jelk",
        "outputId": "4d260085-8386-47e8-d495-cce77649a8db"
      },
      "source": [
        "df.describe()"
      ],
      "execution_count": null,
      "outputs": [
        {
          "output_type": "execute_result",
          "data": {
            "text/html": [
              "<div>\n",
              "<style scoped>\n",
              "    .dataframe tbody tr th:only-of-type {\n",
              "        vertical-align: middle;\n",
              "    }\n",
              "\n",
              "    .dataframe tbody tr th {\n",
              "        vertical-align: top;\n",
              "    }\n",
              "\n",
              "    .dataframe thead th {\n",
              "        text-align: right;\n",
              "    }\n",
              "</style>\n",
              "<table border=\"1\" class=\"dataframe\">\n",
              "  <thead>\n",
              "    <tr style=\"text-align: right;\">\n",
              "      <th></th>\n",
              "      <th>long_term</th>\n",
              "      <th>emi_loan</th>\n",
              "      <th>individual_loan</th>\n",
              "      <th>consumer_loan</th>\n",
              "      <th>agri_loan</th>\n",
              "      <th>interest_free</th>\n",
              "      <th>staff_loan</th>\n",
              "      <th>secured_unsecured</th>\n",
              "      <th>annual_income_lavel</th>\n",
              "      <th>loan_type</th>\n",
              "      <th>good_credit_life</th>\n",
              "      <th>customer_relation_day</th>\n",
              "      <th>contract_value</th>\n",
              "      <th>contract_mat_day_remain</th>\n",
              "      <th>customer_age_year</th>\n",
              "      <th>int_rate</th>\n",
              "      <th>current_os_amount</th>\n",
              "      <th>total_sanction_amt</th>\n",
              "      <th>total_disb_amt</th>\n",
              "      <th>total_recov_amt</th>\n",
              "      <th>total_int_amt</th>\n",
              "      <th>total_repayable_amt</th>\n",
              "      <th>emi_amount</th>\n",
              "      <th>num_of_installment</th>\n",
              "      <th>pay_month_01</th>\n",
              "      <th>pay_month_02</th>\n",
              "      <th>pay_month_03</th>\n",
              "      <th>pay_month_04</th>\n",
              "      <th>pay_month_05</th>\n",
              "      <th>pay_month_06</th>\n",
              "      <th>bill_amount_01</th>\n",
              "      <th>bill_amount_02</th>\n",
              "      <th>bill_amount_03</th>\n",
              "      <th>bill_amount_04</th>\n",
              "      <th>bill_amount_05</th>\n",
              "      <th>bill_amount_06</th>\n",
              "      <th>number_of_loan_ac</th>\n",
              "      <th>good_credit</th>\n",
              "      <th>total_bl_countMoreThanOne</th>\n",
              "      <th>total_bl_countOne</th>\n",
              "      <th>repayment_frequencyMonth</th>\n",
              "      <th>repayment_frequencyMoreThanMonth</th>\n",
              "      <th>total_bill_amount</th>\n",
              "      <th>mean_bill_amount</th>\n",
              "      <th>total_pay_amount</th>\n",
              "      <th>mean_pay_amount</th>\n",
              "      <th>ratio_of_total_payment</th>\n",
              "      <th>ratio_of_bill_payment</th>\n",
              "      <th>ratio_of_disb_amt_and_good_credit</th>\n",
              "      <th>number_of_installment_paid</th>\n",
              "    </tr>\n",
              "  </thead>\n",
              "  <tbody>\n",
              "    <tr>\n",
              "      <th>count</th>\n",
              "      <td>4600.0</td>\n",
              "      <td>4600.000000</td>\n",
              "      <td>4600.000000</td>\n",
              "      <td>4600.000000</td>\n",
              "      <td>4600.000000</td>\n",
              "      <td>4600.000000</td>\n",
              "      <td>4600.000000</td>\n",
              "      <td>4600.000000</td>\n",
              "      <td>4600.000000</td>\n",
              "      <td>4600.000000</td>\n",
              "      <td>4600.000000</td>\n",
              "      <td>4600.000000</td>\n",
              "      <td>4.600000e+03</td>\n",
              "      <td>4.600000e+03</td>\n",
              "      <td>4600.000000</td>\n",
              "      <td>4600.000000</td>\n",
              "      <td>4600.000000</td>\n",
              "      <td>4.600000e+03</td>\n",
              "      <td>4.600000e+03</td>\n",
              "      <td>4600.000000</td>\n",
              "      <td>4600.000000</td>\n",
              "      <td>4.600000e+03</td>\n",
              "      <td>4600.000000</td>\n",
              "      <td>4600.000000</td>\n",
              "      <td>4600.000000</td>\n",
              "      <td>4600.000000</td>\n",
              "      <td>4600.000000</td>\n",
              "      <td>4600.000000</td>\n",
              "      <td>4600.000000</td>\n",
              "      <td>4600.000000</td>\n",
              "      <td>4.600000e+03</td>\n",
              "      <td>4.600000e+03</td>\n",
              "      <td>4.600000e+03</td>\n",
              "      <td>4.600000e+03</td>\n",
              "      <td>4.600000e+03</td>\n",
              "      <td>4.600000e+03</td>\n",
              "      <td>4600.000000</td>\n",
              "      <td>4600.000000</td>\n",
              "      <td>4600.000000</td>\n",
              "      <td>4600.000000</td>\n",
              "      <td>4600.000000</td>\n",
              "      <td>4600.000000</td>\n",
              "      <td>4.600000e+03</td>\n",
              "      <td>4.600000e+03</td>\n",
              "      <td>4600.000000</td>\n",
              "      <td>4600.000000</td>\n",
              "      <td>4600.000000</td>\n",
              "      <td>4.600000e+03</td>\n",
              "      <td>4600.000000</td>\n",
              "      <td>4600.000000</td>\n",
              "    </tr>\n",
              "    <tr>\n",
              "      <th>mean</th>\n",
              "      <td>1.0</td>\n",
              "      <td>0.713696</td>\n",
              "      <td>0.888696</td>\n",
              "      <td>0.119783</td>\n",
              "      <td>0.014783</td>\n",
              "      <td>0.120435</td>\n",
              "      <td>0.888696</td>\n",
              "      <td>0.780435</td>\n",
              "      <td>1.817607</td>\n",
              "      <td>2.028982</td>\n",
              "      <td>517.769348</td>\n",
              "      <td>1386.743149</td>\n",
              "      <td>1.777041e+06</td>\n",
              "      <td>1.308415e+03</td>\n",
              "      <td>42.201919</td>\n",
              "      <td>9.622935</td>\n",
              "      <td>78411.473448</td>\n",
              "      <td>1.264629e+05</td>\n",
              "      <td>1.185913e+05</td>\n",
              "      <td>16941.131185</td>\n",
              "      <td>9466.971070</td>\n",
              "      <td>2.433128e+05</td>\n",
              "      <td>17466.870096</td>\n",
              "      <td>56.819130</td>\n",
              "      <td>826.763252</td>\n",
              "      <td>1005.599228</td>\n",
              "      <td>1132.079954</td>\n",
              "      <td>783.709783</td>\n",
              "      <td>944.139130</td>\n",
              "      <td>1140.625870</td>\n",
              "      <td>1.456378e+05</td>\n",
              "      <td>1.635493e+05</td>\n",
              "      <td>1.708275e+05</td>\n",
              "      <td>1.845232e+05</td>\n",
              "      <td>1.992130e+05</td>\n",
              "      <td>2.119296e+05</td>\n",
              "      <td>1.431739</td>\n",
              "      <td>0.196087</td>\n",
              "      <td>0.070652</td>\n",
              "      <td>0.929348</td>\n",
              "      <td>0.973043</td>\n",
              "      <td>0.026957</td>\n",
              "      <td>1.075681e+06</td>\n",
              "      <td>1.792801e+05</td>\n",
              "      <td>5832.917217</td>\n",
              "      <td>972.152870</td>\n",
              "      <td>2.088943</td>\n",
              "      <td>4.194499e+04</td>\n",
              "      <td>272.730531</td>\n",
              "      <td>3.477550</td>\n",
              "    </tr>\n",
              "    <tr>\n",
              "      <th>std</th>\n",
              "      <td>0.0</td>\n",
              "      <td>0.452083</td>\n",
              "      <td>0.314543</td>\n",
              "      <td>0.324742</td>\n",
              "      <td>0.120695</td>\n",
              "      <td>0.325505</td>\n",
              "      <td>0.314543</td>\n",
              "      <td>0.413997</td>\n",
              "      <td>0.852243</td>\n",
              "      <td>1.825929</td>\n",
              "      <td>137.531517</td>\n",
              "      <td>1649.788843</td>\n",
              "      <td>4.414133e+07</td>\n",
              "      <td>2.885902e+04</td>\n",
              "      <td>11.742906</td>\n",
              "      <td>1.903935</td>\n",
              "      <td>76894.946036</td>\n",
              "      <td>1.793228e+05</td>\n",
              "      <td>1.673392e+05</td>\n",
              "      <td>29524.363935</td>\n",
              "      <td>16731.457321</td>\n",
              "      <td>7.318280e+05</td>\n",
              "      <td>53569.402777</td>\n",
              "      <td>948.088474</td>\n",
              "      <td>3078.644522</td>\n",
              "      <td>5601.062043</td>\n",
              "      <td>4760.222867</td>\n",
              "      <td>2633.568507</td>\n",
              "      <td>3667.455761</td>\n",
              "      <td>6315.678007</td>\n",
              "      <td>4.620690e+05</td>\n",
              "      <td>5.154544e+05</td>\n",
              "      <td>5.594252e+05</td>\n",
              "      <td>6.102264e+05</td>\n",
              "      <td>6.586448e+05</td>\n",
              "      <td>7.120261e+05</td>\n",
              "      <td>1.300021</td>\n",
              "      <td>0.397078</td>\n",
              "      <td>0.256271</td>\n",
              "      <td>0.256271</td>\n",
              "      <td>0.161974</td>\n",
              "      <td>0.161974</td>\n",
              "      <td>3.500029e+06</td>\n",
              "      <td>5.833382e+05</td>\n",
              "      <td>16012.690282</td>\n",
              "      <td>2668.781714</td>\n",
              "      <td>3.329046</td>\n",
              "      <td>1.778123e+05</td>\n",
              "      <td>716.843344</td>\n",
              "      <td>4.581254</td>\n",
              "    </tr>\n",
              "    <tr>\n",
              "      <th>min</th>\n",
              "      <td>1.0</td>\n",
              "      <td>0.000000</td>\n",
              "      <td>0.000000</td>\n",
              "      <td>0.000000</td>\n",
              "      <td>0.000000</td>\n",
              "      <td>0.000000</td>\n",
              "      <td>0.000000</td>\n",
              "      <td>0.000000</td>\n",
              "      <td>1.000000</td>\n",
              "      <td>1.000000</td>\n",
              "      <td>100.000000</td>\n",
              "      <td>236.000000</td>\n",
              "      <td>1.200000e+04</td>\n",
              "      <td>0.000000e+00</td>\n",
              "      <td>1.000000</td>\n",
              "      <td>5.000000</td>\n",
              "      <td>10155.000000</td>\n",
              "      <td>1.200000e+04</td>\n",
              "      <td>1.079200e+04</td>\n",
              "      <td>0.000000</td>\n",
              "      <td>0.000000</td>\n",
              "      <td>6.000000e+03</td>\n",
              "      <td>450.000000</td>\n",
              "      <td>3.000000</td>\n",
              "      <td>0.000000</td>\n",
              "      <td>1.000000</td>\n",
              "      <td>1.000000</td>\n",
              "      <td>0.000000</td>\n",
              "      <td>0.000000</td>\n",
              "      <td>1.000000</td>\n",
              "      <td>-5.940000e+04</td>\n",
              "      <td>-7.465000e+04</td>\n",
              "      <td>-1.000000e+05</td>\n",
              "      <td>-1.056000e+05</td>\n",
              "      <td>-1.028000e+05</td>\n",
              "      <td>-1.084000e+05</td>\n",
              "      <td>1.000000</td>\n",
              "      <td>0.000000</td>\n",
              "      <td>0.000000</td>\n",
              "      <td>0.000000</td>\n",
              "      <td>0.000000</td>\n",
              "      <td>0.000000</td>\n",
              "      <td>-4.670000e+05</td>\n",
              "      <td>-7.783333e+04</td>\n",
              "      <td>5.000000</td>\n",
              "      <td>0.833333</td>\n",
              "      <td>0.004193</td>\n",
              "      <td>-2.235000e+03</td>\n",
              "      <td>18.891688</td>\n",
              "      <td>0.000000</td>\n",
              "    </tr>\n",
              "    <tr>\n",
              "      <th>25%</th>\n",
              "      <td>1.0</td>\n",
              "      <td>0.000000</td>\n",
              "      <td>1.000000</td>\n",
              "      <td>0.000000</td>\n",
              "      <td>0.000000</td>\n",
              "      <td>0.000000</td>\n",
              "      <td>1.000000</td>\n",
              "      <td>1.000000</td>\n",
              "      <td>1.000000</td>\n",
              "      <td>1.000000</td>\n",
              "      <td>417.000000</td>\n",
              "      <td>668.750000</td>\n",
              "      <td>6.000000e+04</td>\n",
              "      <td>3.330000e+02</td>\n",
              "      <td>34.000000</td>\n",
              "      <td>9.000000</td>\n",
              "      <td>40266.750000</td>\n",
              "      <td>5.000000e+04</td>\n",
              "      <td>5.000000e+04</td>\n",
              "      <td>0.000000</td>\n",
              "      <td>2571.000000</td>\n",
              "      <td>2.700000e+04</td>\n",
              "      <td>2000.000000</td>\n",
              "      <td>24.000000</td>\n",
              "      <td>1.000000</td>\n",
              "      <td>1.000000</td>\n",
              "      <td>1.000000</td>\n",
              "      <td>1.000000</td>\n",
              "      <td>1.000000</td>\n",
              "      <td>1.000000</td>\n",
              "      <td>1.400000e+04</td>\n",
              "      <td>1.600000e+04</td>\n",
              "      <td>1.735000e+04</td>\n",
              "      <td>1.870000e+04</td>\n",
              "      <td>2.014000e+04</td>\n",
              "      <td>2.160000e+04</td>\n",
              "      <td>1.000000</td>\n",
              "      <td>0.000000</td>\n",
              "      <td>0.000000</td>\n",
              "      <td>1.000000</td>\n",
              "      <td>1.000000</td>\n",
              "      <td>0.000000</td>\n",
              "      <td>1.122750e+05</td>\n",
              "      <td>1.871250e+04</td>\n",
              "      <td>6.000000</td>\n",
              "      <td>1.000000</td>\n",
              "      <td>1.111111</td>\n",
              "      <td>6.964260e+01</td>\n",
              "      <td>87.299384</td>\n",
              "      <td>0.000000</td>\n",
              "    </tr>\n",
              "    <tr>\n",
              "      <th>50%</th>\n",
              "      <td>1.0</td>\n",
              "      <td>1.000000</td>\n",
              "      <td>1.000000</td>\n",
              "      <td>0.000000</td>\n",
              "      <td>0.000000</td>\n",
              "      <td>0.000000</td>\n",
              "      <td>1.000000</td>\n",
              "      <td>1.000000</td>\n",
              "      <td>2.000000</td>\n",
              "      <td>1.000000</td>\n",
              "      <td>488.000000</td>\n",
              "      <td>828.000000</td>\n",
              "      <td>7.200000e+04</td>\n",
              "      <td>5.690000e+02</td>\n",
              "      <td>42.000000</td>\n",
              "      <td>9.000000</td>\n",
              "      <td>50250.000000</td>\n",
              "      <td>5.000000e+04</td>\n",
              "      <td>5.113600e+04</td>\n",
              "      <td>6000.000000</td>\n",
              "      <td>4563.500000</td>\n",
              "      <td>3.800000e+04</td>\n",
              "      <td>2500.000000</td>\n",
              "      <td>36.000000</td>\n",
              "      <td>1.000000</td>\n",
              "      <td>1.000000</td>\n",
              "      <td>1.000000</td>\n",
              "      <td>1.000000</td>\n",
              "      <td>1.000000</td>\n",
              "      <td>1.000000</td>\n",
              "      <td>1.815000e+04</td>\n",
              "      <td>2.015000e+04</td>\n",
              "      <td>2.215000e+04</td>\n",
              "      <td>2.400000e+04</td>\n",
              "      <td>2.600000e+04</td>\n",
              "      <td>2.783200e+04</td>\n",
              "      <td>1.000000</td>\n",
              "      <td>0.000000</td>\n",
              "      <td>0.000000</td>\n",
              "      <td>1.000000</td>\n",
              "      <td>1.000000</td>\n",
              "      <td>0.000000</td>\n",
              "      <td>1.389000e+05</td>\n",
              "      <td>2.315000e+04</td>\n",
              "      <td>6.000000</td>\n",
              "      <td>1.000000</td>\n",
              "      <td>1.597813</td>\n",
              "      <td>1.725000e+04</td>\n",
              "      <td>118.203310</td>\n",
              "      <td>1.500000</td>\n",
              "    </tr>\n",
              "    <tr>\n",
              "      <th>75%</th>\n",
              "      <td>1.0</td>\n",
              "      <td>1.000000</td>\n",
              "      <td>1.000000</td>\n",
              "      <td>0.000000</td>\n",
              "      <td>0.000000</td>\n",
              "      <td>0.000000</td>\n",
              "      <td>1.000000</td>\n",
              "      <td>1.000000</td>\n",
              "      <td>2.000000</td>\n",
              "      <td>2.000000</td>\n",
              "      <td>584.000000</td>\n",
              "      <td>1186.250000</td>\n",
              "      <td>2.448000e+05</td>\n",
              "      <td>7.200000e+02</td>\n",
              "      <td>48.000000</td>\n",
              "      <td>9.000000</td>\n",
              "      <td>70081.500000</td>\n",
              "      <td>1.250000e+05</td>\n",
              "      <td>1.016730e+05</td>\n",
              "      <td>19700.000000</td>\n",
              "      <td>7395.500000</td>\n",
              "      <td>8.700000e+04</td>\n",
              "      <td>5503.750000</td>\n",
              "      <td>36.000000</td>\n",
              "      <td>1.000000</td>\n",
              "      <td>1.000000</td>\n",
              "      <td>1.000000</td>\n",
              "      <td>1.000000</td>\n",
              "      <td>1.000000</td>\n",
              "      <td>1.000000</td>\n",
              "      <td>4.228500e+04</td>\n",
              "      <td>4.793100e+04</td>\n",
              "      <td>4.371250e+04</td>\n",
              "      <td>4.501250e+04</td>\n",
              "      <td>4.800000e+04</td>\n",
              "      <td>4.760000e+04</td>\n",
              "      <td>1.000000</td>\n",
              "      <td>0.000000</td>\n",
              "      <td>0.000000</td>\n",
              "      <td>1.000000</td>\n",
              "      <td>1.000000</td>\n",
              "      <td>0.000000</td>\n",
              "      <td>2.850000e+05</td>\n",
              "      <td>4.750000e+04</td>\n",
              "      <td>4012.250000</td>\n",
              "      <td>668.708333</td>\n",
              "      <td>2.151625</td>\n",
              "      <td>2.422500e+04</td>\n",
              "      <td>234.662251</td>\n",
              "      <td>5.376325</td>\n",
              "    </tr>\n",
              "    <tr>\n",
              "      <th>max</th>\n",
              "      <td>1.0</td>\n",
              "      <td>1.000000</td>\n",
              "      <td>1.000000</td>\n",
              "      <td>1.000000</td>\n",
              "      <td>1.000000</td>\n",
              "      <td>1.000000</td>\n",
              "      <td>1.000000</td>\n",
              "      <td>1.000000</td>\n",
              "      <td>4.000000</td>\n",
              "      <td>6.000000</td>\n",
              "      <td>1278.000000</td>\n",
              "      <td>14646.000000</td>\n",
              "      <td>2.500000e+09</td>\n",
              "      <td>1.521479e+06</td>\n",
              "      <td>111.000000</td>\n",
              "      <td>15.500000</td>\n",
              "      <td>671725.000000</td>\n",
              "      <td>2.125000e+06</td>\n",
              "      <td>2.125000e+06</td>\n",
              "      <td>467675.000000</td>\n",
              "      <td>362876.000000</td>\n",
              "      <td>7.200000e+06</td>\n",
              "      <td>410000.000000</td>\n",
              "      <td>50000.000000</td>\n",
              "      <td>100000.000000</td>\n",
              "      <td>302000.000000</td>\n",
              "      <td>211300.000000</td>\n",
              "      <td>50000.000000</td>\n",
              "      <td>125000.000000</td>\n",
              "      <td>300000.000000</td>\n",
              "      <td>5.101500e+06</td>\n",
              "      <td>5.501500e+06</td>\n",
              "      <td>5.901500e+06</td>\n",
              "      <td>6.301500e+06</td>\n",
              "      <td>6.701500e+06</td>\n",
              "      <td>7.101500e+06</td>\n",
              "      <td>24.000000</td>\n",
              "      <td>1.000000</td>\n",
              "      <td>1.000000</td>\n",
              "      <td>1.000000</td>\n",
              "      <td>1.000000</td>\n",
              "      <td>1.000000</td>\n",
              "      <td>3.660900e+07</td>\n",
              "      <td>6.101500e+06</td>\n",
              "      <td>400004.000000</td>\n",
              "      <td>66667.333330</td>\n",
              "      <td>80.208333</td>\n",
              "      <td>6.101500e+06</td>\n",
              "      <td>16500.000000</td>\n",
              "      <td>47.714286</td>\n",
              "    </tr>\n",
              "  </tbody>\n",
              "</table>\n",
              "</div>"
            ],
            "text/plain": [
              "       long_term  ...  number_of_installment_paid\n",
              "count     4600.0  ...                 4600.000000\n",
              "mean         1.0  ...                    3.477550\n",
              "std          0.0  ...                    4.581254\n",
              "min          1.0  ...                    0.000000\n",
              "25%          1.0  ...                    0.000000\n",
              "50%          1.0  ...                    1.500000\n",
              "75%          1.0  ...                    5.376325\n",
              "max          1.0  ...                   47.714286\n",
              "\n",
              "[8 rows x 50 columns]"
            ]
          },
          "metadata": {},
          "execution_count": 89
        }
      ]
    },
    {
      "cell_type": "code",
      "metadata": {
        "colab": {
          "base_uri": "https://localhost:8080/"
        },
        "id": "uTX71Q35JjPt",
        "outputId": "b3399b09-fb1d-4bc7-be2a-a38c8d6f7b05"
      },
      "source": [
        "df.columns"
      ],
      "execution_count": null,
      "outputs": [
        {
          "output_type": "execute_result",
          "data": {
            "text/plain": [
              "Index(['long_term', 'emi_loan', 'individual_loan', 'consumer_loan',\n",
              "       'agri_loan', 'interest_free', 'staff_loan', 'secured_unsecured',\n",
              "       'annual_income_lavel', 'loan_type', 'good_credit_life',\n",
              "       'customer_relation_day', 'contract_value', 'contract_mat_day_remain',\n",
              "       'customer_age_year', 'int_rate', 'current_os_amount',\n",
              "       'total_sanction_amt', 'total_disb_amt', 'total_recov_amt',\n",
              "       'total_int_amt', 'total_repayable_amt', 'emi_amount',\n",
              "       'num_of_installment', 'pay_month_01', 'pay_month_02', 'pay_month_03',\n",
              "       'pay_month_04', 'pay_month_05', 'pay_month_06', 'bill_amount_01',\n",
              "       'bill_amount_02', 'bill_amount_03', 'bill_amount_04', 'bill_amount_05',\n",
              "       'bill_amount_06', 'number_of_loan_ac', 'good_credit',\n",
              "       'total_bl_countMoreThanOne', 'total_bl_countOne',\n",
              "       'repayment_frequencyMonth', 'repayment_frequencyMoreThanMonth',\n",
              "       'total_bill_amount', 'mean_bill_amount', 'total_pay_amount',\n",
              "       'mean_pay_amount', 'ratio_of_total_payment', 'ratio_of_bill_payment',\n",
              "       'ratio_of_disb_amt_and_good_credit', 'number_of_installment_paid'],\n",
              "      dtype='object')"
            ]
          },
          "metadata": {},
          "execution_count": 90
        }
      ]
    },
    {
      "cell_type": "code",
      "metadata": {
        "colab": {
          "base_uri": "https://localhost:8080/",
          "height": 389
        },
        "id": "iKCFW5mfJm29",
        "outputId": "38aaef07-16f8-4b23-bcdb-1681f26e7b3b"
      },
      "source": [
        "fig, ax1 = plt.subplots(figsize=(6,6))\n",
        "graph = sns.countplot(ax=ax1,x='good_credit', data=df)\n",
        "i=0\n",
        "for p in graph.patches:\n",
        "    height = p.get_height()\n",
        "    graph.text(p.get_x()+p.get_width()/2.,height + 30, \n",
        "        df['good_credit'].value_counts()[i],ha=\"center\",fontsize = 12)\n",
        "    i += 1"
      ],
      "execution_count": null,
      "outputs": [
        {
          "output_type": "display_data",
          "data": {
            "image/png": "[encoded data removed]",
            "text/plain": [
              "<Figure size 432x432 with 1 Axes>"
            ]
          },
          "metadata": {
            "needs_background": "light"
          }
        }
      ]
    },
    {
      "cell_type": "code",
      "metadata": {
        "colab": {
          "base_uri": "https://localhost:8080/",
          "height": 223
        },
        "id": "AiFiT0x3J18s",
        "outputId": "83dcd55b-2db8-41a8-bd08-59db6ee131df"
      },
      "source": [
        "x = df.drop(['good_credit'],axis=1)\n",
        "x.head()"
      ],
      "execution_count": null,
      "outputs": [
        {
          "output_type": "execute_result",
          "data": {
            "text/html": [
              "<div>\n",
              "<style scoped>\n",
              "    .dataframe tbody tr th:only-of-type {\n",
              "        vertical-align: middle;\n",
              "    }\n",
              "\n",
              "    .dataframe tbody tr th {\n",
              "        vertical-align: top;\n",
              "    }\n",
              "\n",
              "    .dataframe thead th {\n",
              "        text-align: right;\n",
              "    }\n",
              "</style>\n",
              "<table border=\"1\" class=\"dataframe\">\n",
              "  <thead>\n",
              "    <tr style=\"text-align: right;\">\n",
              "      <th></th>\n",
              "      <th>long_term</th>\n",
              "      <th>emi_loan</th>\n",
              "      <th>individual_loan</th>\n",
              "      <th>consumer_loan</th>\n",
              "      <th>agri_loan</th>\n",
              "      <th>interest_free</th>\n",
              "      <th>staff_loan</th>\n",
              "      <th>secured_unsecured</th>\n",
              "      <th>annual_income_lavel</th>\n",
              "      <th>loan_type</th>\n",
              "      <th>good_credit_life</th>\n",
              "      <th>customer_relation_day</th>\n",
              "      <th>contract_value</th>\n",
              "      <th>contract_mat_day_remain</th>\n",
              "      <th>customer_age_year</th>\n",
              "      <th>int_rate</th>\n",
              "      <th>current_os_amount</th>\n",
              "      <th>total_sanction_amt</th>\n",
              "      <th>total_disb_amt</th>\n",
              "      <th>total_recov_amt</th>\n",
              "      <th>total_int_amt</th>\n",
              "      <th>total_repayable_amt</th>\n",
              "      <th>emi_amount</th>\n",
              "      <th>num_of_installment</th>\n",
              "      <th>pay_month_01</th>\n",
              "      <th>pay_month_02</th>\n",
              "      <th>pay_month_03</th>\n",
              "      <th>pay_month_04</th>\n",
              "      <th>pay_month_05</th>\n",
              "      <th>pay_month_06</th>\n",
              "      <th>bill_amount_01</th>\n",
              "      <th>bill_amount_02</th>\n",
              "      <th>bill_amount_03</th>\n",
              "      <th>bill_amount_04</th>\n",
              "      <th>bill_amount_05</th>\n",
              "      <th>bill_amount_06</th>\n",
              "      <th>number_of_loan_ac</th>\n",
              "      <th>total_bl_countMoreThanOne</th>\n",
              "      <th>total_bl_countOne</th>\n",
              "      <th>repayment_frequencyMonth</th>\n",
              "      <th>repayment_frequencyMoreThanMonth</th>\n",
              "      <th>total_bill_amount</th>\n",
              "      <th>mean_bill_amount</th>\n",
              "      <th>total_pay_amount</th>\n",
              "      <th>mean_pay_amount</th>\n",
              "      <th>ratio_of_total_payment</th>\n",
              "      <th>ratio_of_bill_payment</th>\n",
              "      <th>ratio_of_disb_amt_and_good_credit</th>\n",
              "      <th>number_of_installment_paid</th>\n",
              "    </tr>\n",
              "  </thead>\n",
              "  <tbody>\n",
              "    <tr>\n",
              "      <th>0</th>\n",
              "      <td>1</td>\n",
              "      <td>0</td>\n",
              "      <td>1</td>\n",
              "      <td>0</td>\n",
              "      <td>0</td>\n",
              "      <td>0</td>\n",
              "      <td>1</td>\n",
              "      <td>1</td>\n",
              "      <td>1.0</td>\n",
              "      <td>2.0</td>\n",
              "      <td>732</td>\n",
              "      <td>1097.0</td>\n",
              "      <td>64800.0</td>\n",
              "      <td>394</td>\n",
              "      <td>22.0</td>\n",
              "      <td>9.0</td>\n",
              "      <td>37232.0</td>\n",
              "      <td>50000.0</td>\n",
              "      <td>50000.0</td>\n",
              "      <td>19350.0</td>\n",
              "      <td>6582.0</td>\n",
              "      <td>43200.0</td>\n",
              "      <td>1800.0</td>\n",
              "      <td>36</td>\n",
              "      <td>1.0</td>\n",
              "      <td>1.0</td>\n",
              "      <td>1.0</td>\n",
              "      <td>1</td>\n",
              "      <td>1</td>\n",
              "      <td>1</td>\n",
              "      <td>14850.0</td>\n",
              "      <td>14850.0</td>\n",
              "      <td>18450.0</td>\n",
              "      <td>20250.0</td>\n",
              "      <td>22050.0</td>\n",
              "      <td>23850.0</td>\n",
              "      <td>1</td>\n",
              "      <td>0</td>\n",
              "      <td>1</td>\n",
              "      <td>1</td>\n",
              "      <td>0</td>\n",
              "      <td>114300.0</td>\n",
              "      <td>19050.0000</td>\n",
              "      <td>6.0</td>\n",
              "      <td>1.000000</td>\n",
              "      <td>1.157407</td>\n",
              "      <td>19050.000000</td>\n",
              "      <td>68.306011</td>\n",
              "      <td>10.750000</td>\n",
              "    </tr>\n",
              "    <tr>\n",
              "      <th>1</th>\n",
              "      <td>1</td>\n",
              "      <td>1</td>\n",
              "      <td>1</td>\n",
              "      <td>0</td>\n",
              "      <td>0</td>\n",
              "      <td>0</td>\n",
              "      <td>1</td>\n",
              "      <td>0</td>\n",
              "      <td>1.0</td>\n",
              "      <td>3.0</td>\n",
              "      <td>606</td>\n",
              "      <td>1741.0</td>\n",
              "      <td>426000.0</td>\n",
              "      <td>487</td>\n",
              "      <td>33.0</td>\n",
              "      <td>13.0</td>\n",
              "      <td>278523.0</td>\n",
              "      <td>300000.0</td>\n",
              "      <td>300000.0</td>\n",
              "      <td>21500.0</td>\n",
              "      <td>300023.0</td>\n",
              "      <td>213000.0</td>\n",
              "      <td>14200.0</td>\n",
              "      <td>30</td>\n",
              "      <td>8000.0</td>\n",
              "      <td>1.0</td>\n",
              "      <td>1.0</td>\n",
              "      <td>1000</td>\n",
              "      <td>1000</td>\n",
              "      <td>1500</td>\n",
              "      <td>123500.0</td>\n",
              "      <td>137700.0</td>\n",
              "      <td>151900.0</td>\n",
              "      <td>165600.0</td>\n",
              "      <td>178800.0</td>\n",
              "      <td>191500.0</td>\n",
              "      <td>1</td>\n",
              "      <td>0</td>\n",
              "      <td>1</td>\n",
              "      <td>1</td>\n",
              "      <td>0</td>\n",
              "      <td>949000.0</td>\n",
              "      <td>158166.6667</td>\n",
              "      <td>11502.0</td>\n",
              "      <td>1917.000000</td>\n",
              "      <td>1.408451</td>\n",
              "      <td>82.507390</td>\n",
              "      <td>495.049505</td>\n",
              "      <td>1.514085</td>\n",
              "    </tr>\n",
              "    <tr>\n",
              "      <th>2</th>\n",
              "      <td>1</td>\n",
              "      <td>1</td>\n",
              "      <td>1</td>\n",
              "      <td>0</td>\n",
              "      <td>0</td>\n",
              "      <td>0</td>\n",
              "      <td>1</td>\n",
              "      <td>0</td>\n",
              "      <td>4.0</td>\n",
              "      <td>3.0</td>\n",
              "      <td>618</td>\n",
              "      <td>1026.0</td>\n",
              "      <td>511200.0</td>\n",
              "      <td>660</td>\n",
              "      <td>37.0</td>\n",
              "      <td>13.0</td>\n",
              "      <td>266854.0</td>\n",
              "      <td>300000.0</td>\n",
              "      <td>300000.0</td>\n",
              "      <td>33200.0</td>\n",
              "      <td>300054.0</td>\n",
              "      <td>213000.0</td>\n",
              "      <td>14200.0</td>\n",
              "      <td>36</td>\n",
              "      <td>1.0</td>\n",
              "      <td>1.0</td>\n",
              "      <td>1.0</td>\n",
              "      <td>5000</td>\n",
              "      <td>1</td>\n",
              "      <td>1</td>\n",
              "      <td>113300.0</td>\n",
              "      <td>127500.0</td>\n",
              "      <td>141700.0</td>\n",
              "      <td>151400.0</td>\n",
              "      <td>165600.0</td>\n",
              "      <td>179800.0</td>\n",
              "      <td>1</td>\n",
              "      <td>0</td>\n",
              "      <td>1</td>\n",
              "      <td>1</td>\n",
              "      <td>0</td>\n",
              "      <td>879300.0</td>\n",
              "      <td>146550.0000</td>\n",
              "      <td>5005.0</td>\n",
              "      <td>834.166667</td>\n",
              "      <td>1.408451</td>\n",
              "      <td>175.684316</td>\n",
              "      <td>485.436893</td>\n",
              "      <td>2.338028</td>\n",
              "    </tr>\n",
              "    <tr>\n",
              "      <th>3</th>\n",
              "      <td>1</td>\n",
              "      <td>1</td>\n",
              "      <td>1</td>\n",
              "      <td>0</td>\n",
              "      <td>0</td>\n",
              "      <td>0</td>\n",
              "      <td>1</td>\n",
              "      <td>0</td>\n",
              "      <td>4.0</td>\n",
              "      <td>3.0</td>\n",
              "      <td>564</td>\n",
              "      <td>878.0</td>\n",
              "      <td>511200.0</td>\n",
              "      <td>715</td>\n",
              "      <td>28.0</td>\n",
              "      <td>13.0</td>\n",
              "      <td>280000.0</td>\n",
              "      <td>300000.0</td>\n",
              "      <td>300000.0</td>\n",
              "      <td>20000.0</td>\n",
              "      <td>300000.0</td>\n",
              "      <td>184600.0</td>\n",
              "      <td>14200.0</td>\n",
              "      <td>36</td>\n",
              "      <td>1.0</td>\n",
              "      <td>1.0</td>\n",
              "      <td>1.0</td>\n",
              "      <td>1</td>\n",
              "      <td>1</td>\n",
              "      <td>1</td>\n",
              "      <td>93600.0</td>\n",
              "      <td>107800.0</td>\n",
              "      <td>122000.0</td>\n",
              "      <td>136200.0</td>\n",
              "      <td>150400.0</td>\n",
              "      <td>164600.0</td>\n",
              "      <td>1</td>\n",
              "      <td>0</td>\n",
              "      <td>1</td>\n",
              "      <td>1</td>\n",
              "      <td>0</td>\n",
              "      <td>774600.0</td>\n",
              "      <td>129100.0000</td>\n",
              "      <td>6.0</td>\n",
              "      <td>1.000000</td>\n",
              "      <td>1.625135</td>\n",
              "      <td>129100.000000</td>\n",
              "      <td>531.914894</td>\n",
              "      <td>1.408451</td>\n",
              "    </tr>\n",
              "    <tr>\n",
              "      <th>4</th>\n",
              "      <td>1</td>\n",
              "      <td>1</td>\n",
              "      <td>1</td>\n",
              "      <td>1</td>\n",
              "      <td>0</td>\n",
              "      <td>1</td>\n",
              "      <td>1</td>\n",
              "      <td>0</td>\n",
              "      <td>1.0</td>\n",
              "      <td>6.0</td>\n",
              "      <td>425</td>\n",
              "      <td>2020.0</td>\n",
              "      <td>540288.0</td>\n",
              "      <td>1065</td>\n",
              "      <td>45.0</td>\n",
              "      <td>13.0</td>\n",
              "      <td>436384.0</td>\n",
              "      <td>1175000.0</td>\n",
              "      <td>1175000.0</td>\n",
              "      <td>16000.0</td>\n",
              "      <td>52384.0</td>\n",
              "      <td>157584.0</td>\n",
              "      <td>11256.0</td>\n",
              "      <td>48</td>\n",
              "      <td>1.0</td>\n",
              "      <td>1.0</td>\n",
              "      <td>1.0</td>\n",
              "      <td>1</td>\n",
              "      <td>1</td>\n",
              "      <td>5000</td>\n",
              "      <td>90304.0</td>\n",
              "      <td>101560.0</td>\n",
              "      <td>112816.0</td>\n",
              "      <td>124072.0</td>\n",
              "      <td>135328.0</td>\n",
              "      <td>141584.0</td>\n",
              "      <td>5</td>\n",
              "      <td>0</td>\n",
              "      <td>1</td>\n",
              "      <td>1</td>\n",
              "      <td>0</td>\n",
              "      <td>705664.0</td>\n",
              "      <td>117610.6667</td>\n",
              "      <td>5005.0</td>\n",
              "      <td>834.166667</td>\n",
              "      <td>7.456341</td>\n",
              "      <td>140.991808</td>\n",
              "      <td>2764.705882</td>\n",
              "      <td>1.421464</td>\n",
              "    </tr>\n",
              "  </tbody>\n",
              "</table>\n",
              "</div>"
            ],
            "text/plain": [
              "   long_term  ...  number_of_installment_paid\n",
              "0          1  ...                   10.750000\n",
              "1          1  ...                    1.514085\n",
              "2          1  ...                    2.338028\n",
              "3          1  ...                    1.408451\n",
              "4          1  ...                    1.421464\n",
              "\n",
              "[5 rows x 49 columns]"
            ]
          },
          "metadata": {},
          "execution_count": 92
        }
      ]
    },
    {
      "cell_type": "code",
      "metadata": {
        "colab": {
          "base_uri": "https://localhost:8080/"
        },
        "id": "o_pn5_UnJ6lk",
        "outputId": "fce2c950-6727-4acf-c837-4465ea182c32"
      },
      "source": [
        "x.shape"
      ],
      "execution_count": null,
      "outputs": [
        {
          "output_type": "execute_result",
          "data": {
            "text/plain": [
              "(4600, 49)"
            ]
          },
          "metadata": {},
          "execution_count": 93
        }
      ]
    },
    {
      "cell_type": "code",
      "metadata": {
        "colab": {
          "base_uri": "https://localhost:8080/"
        },
        "id": "bGLOscCBJ9vs",
        "outputId": "905a6a66-30ab-402f-e44d-6b1a872d7a5b"
      },
      "source": [
        "y = df['good_credit']\n",
        "y"
      ],
      "execution_count": null,
      "outputs": [
        {
          "output_type": "execute_result",
          "data": {
            "text/plain": [
              "0       0\n",
              "1       0\n",
              "2       0\n",
              "3       0\n",
              "4       1\n",
              "       ..\n",
              "4595    0\n",
              "4596    0\n",
              "4597    0\n",
              "4598    0\n",
              "4599    0\n",
              "Name: good_credit, Length: 4600, dtype: int64"
            ]
          },
          "metadata": {},
          "execution_count": 94
        }
      ]
    },
    {
      "cell_type": "code",
      "metadata": {
        "colab": {
          "base_uri": "https://localhost:8080/"
        },
        "id": "V2HnTOW7KAwU",
        "outputId": "09d1bbf1-0bc7-4e19-b5a4-b79db534914e"
      },
      "source": [
        "y.value_counts()"
      ],
      "execution_count": null,
      "outputs": [
        {
          "output_type": "execute_result",
          "data": {
            "text/plain": [
              "0    3698\n",
              "1     902\n",
              "Name: good_credit, dtype: int64"
            ]
          },
          "metadata": {},
          "execution_count": 95
        }
      ]
    },
    {
      "cell_type": "markdown",
      "metadata": {
        "id": "LhushcgVKJp9"
      },
      "source": [
        "### **SMOTE Technique**"
      ]
    },
    {
      "cell_type": "code",
      "metadata": {
        "colab": {
          "base_uri": "https://localhost:8080/"
        },
        "id": "vScVciCTKD8W",
        "outputId": "88b22adb-caaa-4560-892b-8856b7ca7a99"
      },
      "source": [
        "import numpy as np\n",
        "from imblearn.over_sampling import SMOTE\n",
        "\n",
        "smote = SMOTE(sampling_strategy='minority')\n",
        "x_sm, y_sm = smote.fit_resample(x,y)\n",
        "unique, counts = np.unique(y_sm, return_counts=True)\n",
        "dict(zip(unique, counts))"
      ],
      "execution_count": null,
      "outputs": [
        {
          "output_type": "execute_result",
          "data": {
            "text/plain": [
              "{0: 3698, 1: 3698}"
            ]
          },
          "metadata": {},
          "execution_count": 96
        }
      ]
    },
    {
      "cell_type": "code",
      "metadata": {
        "colab": {
          "base_uri": "https://localhost:8080/",
          "height": 389
        },
        "id": "pIwJCCkLKYLm",
        "outputId": "fa5851e4-e694-4932-9480-d5650b889129"
      },
      "source": [
        "fig, ax1 = plt.subplots(figsize=(6,6))\n",
        "graph = sns.countplot(x=y_sm)\n",
        "i = 0\n",
        "for p in graph.patches:\n",
        "    height = p.get_height()\n",
        "    graph.text(p.get_x()+p.get_width()/2.,height + 30, \n",
        "        counts[i],ha=\"center\",fontsize = 12)\n",
        "    i += 1"
      ],
      "execution_count": null,
      "outputs": [
        {
          "output_type": "display_data",
          "data": {
            "image/png": "[encoded data removed]",
            "text/plain": [
              "<Figure size 432x432 with 1 Axes>"
            ]
          },
          "metadata": {
            "needs_background": "light"
          }
        }
      ]
    },
    {
      "cell_type": "markdown",
      "metadata": {
        "id": "sivWTWsaKdzM"
      },
      "source": [
        "### **Feature Scaling**"
      ]
    },
    {
      "cell_type": "code",
      "metadata": {
        "id": "6fDuHEZ7KavE"
      },
      "source": [
        "from sklearn.preprocessing import StandardScaler\n",
        "standardization = StandardScaler()\n",
        "scale_inputs = standardization.fit_transform(x_sm)"
      ],
      "execution_count": null,
      "outputs": []
    },
    {
      "cell_type": "code",
      "metadata": {
        "colab": {
          "base_uri": "https://localhost:8080/"
        },
        "id": "ftnwlY79Kphl",
        "outputId": "b3421df0-b796-4d05-e829-0aadcdf87df7"
      },
      "source": [
        "x_sm = scale_inputs\n",
        "x_sm"
      ],
      "execution_count": null,
      "outputs": [
        {
          "output_type": "execute_result",
          "data": {
            "text/plain": [
              "array([[ 0.        , -1.44102016,  0.37245415, ..., -0.10480828,\n",
              "        -0.29644945,  1.35415299],\n",
              "       [ 0.        ,  0.69395282,  0.37245415, ..., -0.2178762 ,\n",
              "         0.11184549, -0.52391554],\n",
              "       [ 0.        ,  0.69395282,  0.37245415, ..., -0.21732076,\n",
              "         0.10264844, -0.35637149],\n",
              "       ...,\n",
              "       [ 0.        ,  0.69395282,  0.37245415, ..., -0.21540855,\n",
              "         0.45198502, -0.74135051],\n",
              "       [ 0.        ,  0.69395282,  0.37245415, ..., -0.21580251,\n",
              "         0.02682285, -0.71857178],\n",
              "       [ 0.        , -1.44102016,  0.37245415, ..., -0.13375686,\n",
              "        -0.24679442, -0.78416739]])"
            ]
          },
          "metadata": {},
          "execution_count": 99
        }
      ]
    },
    {
      "cell_type": "markdown",
      "metadata": {
        "id": "Ig4cgAcMK2gk"
      },
      "source": [
        "### **Train Test Split**"
      ]
    },
    {
      "cell_type": "code",
      "metadata": {
        "id": "c8VxSgbvKsQs"
      },
      "source": [
        "from sklearn.model_selection import train_test_split\n",
        "x_train,x_test,y_train,y_test = train_test_split(x_sm,y_sm,test_size=0.2,random_state=42,stratify=y_sm)\n",
        "# x_train,x_test,y_train,y_test = train_test_split(x,y,test_size=0.2)"
      ],
      "execution_count": null,
      "outputs": []
    },
    {
      "cell_type": "code",
      "metadata": {
        "colab": {
          "base_uri": "https://localhost:8080/"
        },
        "id": "g71Wl3LJK8B1",
        "outputId": "4aaefcac-e14d-4f7f-e6b8-8a98c152d6fe"
      },
      "source": [
        "print(x_train.shape)\n",
        "print(x_test.shape)"
      ],
      "execution_count": null,
      "outputs": [
        {
          "output_type": "stream",
          "name": "stdout",
          "text": [
            "(5916, 49)\n",
            "(1480, 49)\n"
          ]
        }
      ]
    },
    {
      "cell_type": "code",
      "metadata": {
        "colab": {
          "base_uri": "https://localhost:8080/"
        },
        "id": "7gmnIY3NK-bU",
        "outputId": "c249dac1-7598-4ce4-bf64-a0cf6cd5ed64"
      },
      "source": [
        "unique, counts = np.unique(y_train, return_counts=True)\n",
        "dict(zip(unique, counts))"
      ],
      "execution_count": null,
      "outputs": [
        {
          "output_type": "execute_result",
          "data": {
            "text/plain": [
              "{0: 2958, 1: 2958}"
            ]
          },
          "metadata": {},
          "execution_count": 102
        }
      ]
    },
    {
      "cell_type": "code",
      "metadata": {
        "colab": {
          "base_uri": "https://localhost:8080/"
        },
        "id": "rfSWifSgLCa8",
        "outputId": "288ed443-8150-435f-94a7-449d63438203"
      },
      "source": [
        "unique, counts = np.unique(y_test, return_counts=True)\n",
        "dict(zip(unique, counts))"
      ],
      "execution_count": null,
      "outputs": [
        {
          "output_type": "execute_result",
          "data": {
            "text/plain": [
              "{0: 740, 1: 740}"
            ]
          },
          "metadata": {},
          "execution_count": 103
        }
      ]
    },
    {
      "cell_type": "markdown",
      "metadata": {
        "id": "hNBT_rbSRKAC"
      },
      "source": [
        "### **LightGBM Features Importance**"
      ]
    },
    {
      "cell_type": "code",
      "metadata": {
        "colab": {
          "base_uri": "https://localhost:8080/"
        },
        "id": "hkmwF42GLE8d",
        "outputId": "42bb75f7-4b2d-4c5d-df4e-a4ebedd775d7"
      },
      "source": [
        "from lightgbm import LGBMClassifier\n",
        "\n",
        "clf = LGBMClassifier()\n",
        "clf.fit(x_train, y_train)"
      ],
      "execution_count": null,
      "outputs": [
        {
          "output_type": "execute_result",
          "data": {
            "text/plain": [
              "LGBMClassifier()"
            ]
          },
          "metadata": {},
          "execution_count": 104
        }
      ]
    },
    {
      "cell_type": "code",
      "metadata": {
        "colab": {
          "base_uri": "https://localhost:8080/"
        },
        "id": "PRrJVLrhQfgy",
        "outputId": "3cf59426-319d-4376-fb8d-ec2b59f3d143"
      },
      "source": [
        "clf.score(x_test,y_test)"
      ],
      "execution_count": null,
      "outputs": [
        {
          "output_type": "execute_result",
          "data": {
            "text/plain": [
              "0.9155405405405406"
            ]
          },
          "metadata": {},
          "execution_count": 105
        }
      ]
    },
    {
      "cell_type": "code",
      "metadata": {
        "id": "iO-wcPogaKue"
      },
      "source": [
        "# from sklearn.ensemble import RandomForestClassifier\n",
        "# clf = RandomForestClassifier()\n",
        "# clf.fit(x_train,y_train)\n",
        "# clf.score(x_test,y_test)"
      ],
      "execution_count": null,
      "outputs": []
    },
    {
      "cell_type": "code",
      "metadata": {
        "id": "pPew6XS2a2em"
      },
      "source": [
        "# from xgboost import XGBClassifier\n",
        "# clf = XGBClassifier()\n",
        "# clf.fit(x_train,y_train)\n",
        "# clf.score(x_test,y_test)"
      ],
      "execution_count": null,
      "outputs": []
    },
    {
      "cell_type": "code",
      "metadata": {
        "colab": {
          "base_uri": "https://localhost:8080/",
          "height": 746
        },
        "id": "juN0baeDQjT6",
        "outputId": "29eba12c-290b-4b73-dae2-c4f277d99cc6"
      },
      "source": [
        "import warnings\n",
        "warnings.simplefilter(action='ignore', category=FutureWarning)\n",
        "\n",
        "# sorted(zip(clf.feature_importances_, X.columns), reverse=True)\n",
        "feature_imp = pd.DataFrame(sorted(zip(clf.feature_importances_,x.columns)), columns=['Value','Feature'])\n",
        "\n",
        "plt.figure(figsize=(15, 10))\n",
        "sns.barplot(x=\"Value\", y=\"Feature\", data=feature_imp.sort_values(by=\"Value\", ascending=False))\n",
        "plt.title('LightGBM Important Features')\n",
        "plt.tight_layout()\n",
        "plt.show()\n",
        "plt.savefig('lgbm_importances-01.png')"
      ],
      "execution_count": null,
      "outputs": [
        {
          "output_type": "display_data",
          "data": {
            "image/png": "[encoded data removed]",
            "text/plain": [
              "<Figure size 1080x720 with 1 Axes>"
            ]
          },
          "metadata": {
            "needs_background": "light"
          }
        },
        {
          "output_type": "display_data",
          "data": {
            "text/plain": [
              "<Figure size 432x288 with 0 Axes>"
            ]
          },
          "metadata": {}
        }
      ]
    },
    {
      "cell_type": "code",
      "metadata": {
        "colab": {
          "base_uri": "https://localhost:8080/"
        },
        "id": "xMVFwnK3aX4W",
        "outputId": "f4ae2caa-f8c0-41e4-98c5-c354100c32e6"
      },
      "source": [
        "x.drop(['mean_pay_amount','long_term','mean_bill_amount','interest_free','repayment_frequencyMonth','staff_loan','agri_loan'],axis=1,inplace=True)\n",
        "x.shape"
      ],
      "execution_count": null,
      "outputs": [
        {
          "output_type": "execute_result",
          "data": {
            "text/plain": [
              "(4600, 42)"
            ]
          },
          "metadata": {},
          "execution_count": 107
        }
      ]
    },
    {
      "cell_type": "code",
      "metadata": {
        "colab": {
          "base_uri": "https://localhost:8080/"
        },
        "id": "jkmLt_2qcpkd",
        "outputId": "c89a8c88-9aea-423f-e934-c37bc2ee9f66"
      },
      "source": [
        "from imblearn.over_sampling import SMOTE\n",
        "\n",
        "smote = SMOTE(sampling_strategy='minority')\n",
        "x_sm, y_sm = smote.fit_resample(x,y)\n",
        "unique, counts = np.unique(y_sm, return_counts=True)\n",
        "dict(zip(unique, counts))"
      ],
      "execution_count": null,
      "outputs": [
        {
          "output_type": "execute_result",
          "data": {
            "text/plain": [
              "{0: 3698, 1: 3698}"
            ]
          },
          "metadata": {},
          "execution_count": 108
        }
      ]
    },
    {
      "cell_type": "code",
      "metadata": {
        "id": "APjKJNhrdvRl"
      },
      "source": [
        "from sklearn.preprocessing import StandardScaler\n",
        "standardization = StandardScaler()\n",
        "scale_inputs = standardization.fit_transform(x_sm)"
      ],
      "execution_count": null,
      "outputs": []
    },
    {
      "cell_type": "code",
      "metadata": {
        "colab": {
          "base_uri": "https://localhost:8080/"
        },
        "id": "5I41InWseyk8",
        "outputId": "2e3f1e69-5987-4225-b959-0d539d458af8"
      },
      "source": [
        "x_sm = scale_inputs\n",
        "x_sm"
      ],
      "execution_count": null,
      "outputs": [
        {
          "output_type": "execute_result",
          "data": {
            "text/plain": [
              "array([[-1.43042948,  0.37127638, -0.40042337, ..., -0.11018163,\n",
              "        -0.30710107,  1.33360403],\n",
              "       [ 0.69909074,  0.37127638, -0.40042337, ..., -0.21217086,\n",
              "         0.13703612, -0.53219278],\n",
              "       [ 0.69909074,  0.37127638, -0.40042337, ..., -0.21166985,\n",
              "         0.12703171, -0.3657435 ],\n",
              "       ...,\n",
              "       [-1.43042948,  0.37127638, -0.40042337, ..., -0.03515974,\n",
              "        -0.28067215, -0.83806111],\n",
              "       [ 0.69909074,  0.37127638,  2.49735672, ..., -0.21261649,\n",
              "         2.50482222,  2.46449462],\n",
              "       [-1.43042948,  0.37127638, -0.40042337, ..., -0.0573349 ,\n",
              "        -0.28025736, -0.21300698]])"
            ]
          },
          "metadata": {},
          "execution_count": 110
        }
      ]
    },
    {
      "cell_type": "code",
      "metadata": {
        "id": "DF9z4F0Ze2RU"
      },
      "source": [
        "from sklearn.model_selection import train_test_split\n",
        "x_train,x_test,y_train,y_test = train_test_split(x_sm,y_sm,test_size=0.2,random_state=42,stratify=y_sm)"
      ],
      "execution_count": null,
      "outputs": []
    },
    {
      "cell_type": "code",
      "metadata": {
        "colab": {
          "base_uri": "https://localhost:8080/"
        },
        "id": "hZ0rZt8ke-S0",
        "outputId": "8f7b9c7b-4928-448a-91d9-afb9c0429030"
      },
      "source": [
        "print(x_train.shape)\n",
        "print(x_test.shape)"
      ],
      "execution_count": null,
      "outputs": [
        {
          "output_type": "stream",
          "name": "stdout",
          "text": [
            "(5916, 42)\n",
            "(1480, 42)\n"
          ]
        }
      ]
    },
    {
      "cell_type": "markdown",
      "metadata": {
        "id": "Zz4OTuUqhYyE"
      },
      "source": [
        "### **Machine Learning Algorithms**"
      ]
    },
    {
      "cell_type": "code",
      "metadata": {
        "id": "OI50QlbyfBsU"
      },
      "source": [
        "from sklearn.linear_model import LogisticRegression\n",
        "from sklearn.tree import DecisionTreeClassifier\n",
        "from sklearn.ensemble import RandomForestClassifier\n",
        "from sklearn.neighbors import KNeighborsClassifier\n",
        "from sklearn.svm import SVC\n",
        "from sklearn.naive_bayes import GaussianNB,BernoulliNB\n",
        "from xgboost import XGBClassifier\n",
        "from sklearn.ensemble import AdaBoostClassifier\n",
        "from sklearn.discriminant_analysis import LinearDiscriminantAnalysis\n",
        "from lightgbm import LGBMClassifier\n",
        "from sklearn.metrics import precision_score,recall_score,f1_score,roc_auc_score,auc,classification_report,mean_absolute_error,mean_squared_error,matthews_corrcoef\n",
        "import math\n",
        "import matplotlib.pyplot as plt\n",
        "import numpy as np\n",
        "import tensorflow as tf"
      ],
      "execution_count": null,
      "outputs": []
    },
    {
      "cell_type": "code",
      "metadata": {
        "colab": {
          "base_uri": "https://localhost:8080/"
        },
        "id": "WCyFxI0TfZBt",
        "outputId": "1465fe74-b5d3-4ab3-d9cf-c98f78d216fd"
      },
      "source": [
        "lr = LogisticRegression()\n",
        "rf = RandomForestClassifier()\n",
        "knn = KNeighborsClassifier()\n",
        "dt = DecisionTreeClassifier()\n",
        "svm = SVC(probability=True)\n",
        "gnb = GaussianNB()\n",
        "bnb = BernoulliNB()\n",
        "xgb = XGBClassifier()\n",
        "ada = AdaBoostClassifier()\n",
        "lda = LinearDiscriminantAnalysis()\n",
        "models = {\n",
        "     'Logistic Regression': lr,\n",
        "     'Random Forest': rf,\n",
        "     'KNN': knn,\n",
        "     'Decision Tree': dt,\n",
        "     'Support Vector Machine': svm,\n",
        "     'Gaussian Naive Bayes': gnb,\n",
        "     'Bernoulli Naive Bayes': bnb,\n",
        "     'XGBoost': xgb,\n",
        "     'AdaBoost': ada,\n",
        "     'Linear Discriminant Analysis': lda,\n",
        "}\n",
        "results = []\n",
        "\n",
        "\n",
        "for name,model in models.items():\n",
        "    model.fit(x_train,y_train)\n",
        "    score = model.score(x_test,y_test)\n",
        "    predictions = model.predict(x_test)\n",
        "    mae = mean_absolute_error(y_test,predictions)\n",
        "    mse = mean_squared_error(y_test,predictions)\n",
        "    rmse = math.sqrt(mse)\n",
        "    mcc = matthews_corrcoef(y_test,predictions)\n",
        "    results.append({\n",
        "        'model': name,\n",
        "        'Accuracy_Score':score,\n",
        "        'Precision': precision_score(y_test,predictions),\n",
        "        'Recall': recall_score(y_test,predictions),\n",
        "        'F1-Score': f1_score(y_test,predictions),\n",
        "        'AUC': roc_auc_score(y_test,model.predict_proba(x_test)[:, 1]),\n",
        "        'MAE': mae,\n",
        "        'RMSE': rmse,\n",
        "        'MCC': mcc\n",
        "    })\n",
        "    msg = \"%s : %f \" % (name, score)\n",
        "    print(msg)"
      ],
      "execution_count": null,
      "outputs": [
        {
          "output_type": "stream",
          "name": "stderr",
          "text": [
            "/usr/local/lib/python3.7/dist-packages/sklearn/linear_model/_logistic.py:818: ConvergenceWarning: lbfgs failed to converge (status=1):\n",
            "STOP: TOTAL NO. of ITERATIONS REACHED LIMIT.\n",
            "\n",
            "Increase the number of iterations (max_iter) or scale the data as shown in:\n",
            "    https://scikit-learn.org/stable/modules/preprocessing.html\n",
            "Please also refer to the documentation for alternative solver options:\n",
            "    https://scikit-learn.org/stable/modules/linear_model.html#logistic-regression\n",
            "  extra_warning_msg=_LOGISTIC_SOLVER_CONVERGENCE_MSG,\n"
          ]
        },
        {
          "output_type": "stream",
          "name": "stdout",
          "text": [
            "Logistic Regression : 0.769595 \n",
            "Random Forest : 0.926351 \n",
            "KNN : 0.834459 \n",
            "Decision Tree : 0.860135 \n",
            "Support Vector Machine : 0.811486 \n",
            "Gaussian Naive Bayes : 0.511486 \n",
            "Bernoulli Naive Bayes : 0.643919 \n",
            "XGBoost : 0.885135 \n",
            "AdaBoost : 0.856081 \n",
            "Linear Discriminant Analysis : 0.752027 \n"
          ]
        }
      ]
    },
    {
      "cell_type": "code",
      "metadata": {
        "colab": {
          "base_uri": "https://localhost:8080/"
        },
        "id": "oW5sU06bgaSc",
        "outputId": "5df51cf9-d93e-4407-d8f1-e0342f359b44"
      },
      "source": [
        "print(\"Actual value : \")\n",
        "print(y_test[:20])\n",
        "\n",
        "for name,model in models.items():\n",
        "  predictions = model.predict(x_test)\n",
        "  print(name)\n",
        "  print(predictions[:20])\n",
        "  print()"
      ],
      "execution_count": null,
      "outputs": [
        {
          "output_type": "stream",
          "name": "stdout",
          "text": [
            "Actual value : \n",
            "468     1\n",
            "113     0\n",
            "196     1\n",
            "4520    0\n",
            "1981    0\n",
            "1924    0\n",
            "1115    0\n",
            "2497    0\n",
            "6924    1\n",
            "4805    1\n",
            "2595    1\n",
            "3631    0\n",
            "3833    0\n",
            "47      0\n",
            "1464    0\n",
            "6474    1\n",
            "1815    0\n",
            "2716    0\n",
            "4510    0\n",
            "1974    1\n",
            "Name: good_credit, dtype: int64\n",
            "Logistic Regression\n",
            "[1 1 1 0 0 0 0 0 1 1 1 0 0 0 0 1 1 0 0 0]\n",
            "\n",
            "Random Forest\n",
            "[1 0 1 0 0 0 0 0 1 1 1 0 0 0 0 1 0 0 0 0]\n",
            "\n",
            "KNN\n",
            "[1 1 1 0 0 1 0 0 1 1 1 0 0 0 0 1 0 0 0 0]\n",
            "\n",
            "Decision Tree\n",
            "[0 1 1 0 0 0 1 0 1 1 1 0 0 0 1 1 0 1 0 0]\n",
            "\n",
            "Support Vector Machine\n",
            "[1 0 1 1 0 0 0 0 1 1 1 0 0 0 0 1 0 0 0 0]\n",
            "\n",
            "Gaussian Naive Bayes\n",
            "[1 1 1 1 1 1 1 1 1 1 1 1 1 1 1 1 1 1 1 1]\n",
            "\n",
            "Bernoulli Naive Bayes\n",
            "[0 0 1 0 0 0 0 0 1 1 0 0 0 1 1 0 0 1 0 0]\n",
            "\n",
            "XGBoost\n",
            "[0 0 1 0 0 1 0 0 1 1 1 0 0 0 0 1 0 0 0 0]\n",
            "\n",
            "AdaBoost\n",
            "[0 0 1 0 0 1 0 0 1 1 1 0 0 0 0 1 1 1 0 0]\n",
            "\n",
            "Linear Discriminant Analysis\n",
            "[1 1 1 0 0 1 0 0 1 1 1 0 0 0 0 1 1 0 0 0]\n",
            "\n"
          ]
        }
      ]
    },
    {
      "cell_type": "code",
      "metadata": {
        "colab": {
          "base_uri": "https://localhost:8080/"
        },
        "id": "MhiKR_PdhqT8",
        "outputId": "d7d6dde4-e953-4cca-97bd-418708033782"
      },
      "source": [
        "for name,model in models.items():\n",
        "  predictions = model.predict(x_test)\n",
        "  print(name)\n",
        "  print(classification_report(y_test,predictions))\n",
        "  print()"
      ],
      "execution_count": null,
      "outputs": [
        {
          "output_type": "stream",
          "name": "stdout",
          "text": [
            "Logistic Regression\n",
            "              precision    recall  f1-score   support\n",
            "\n",
            "           0       0.74      0.83      0.78       740\n",
            "           1       0.80      0.71      0.76       740\n",
            "\n",
            "    accuracy                           0.77      1480\n",
            "   macro avg       0.77      0.77      0.77      1480\n",
            "weighted avg       0.77      0.77      0.77      1480\n",
            "\n",
            "\n",
            "Random Forest\n",
            "              precision    recall  f1-score   support\n",
            "\n",
            "           0       0.91      0.95      0.93       740\n",
            "           1       0.94      0.91      0.92       740\n",
            "\n",
            "    accuracy                           0.93      1480\n",
            "   macro avg       0.93      0.93      0.93      1480\n",
            "weighted avg       0.93      0.93      0.93      1480\n",
            "\n",
            "\n",
            "KNN\n",
            "              precision    recall  f1-score   support\n",
            "\n",
            "           0       0.85      0.82      0.83       740\n",
            "           1       0.82      0.85      0.84       740\n",
            "\n",
            "    accuracy                           0.83      1480\n",
            "   macro avg       0.83      0.83      0.83      1480\n",
            "weighted avg       0.83      0.83      0.83      1480\n",
            "\n",
            "\n",
            "Decision Tree\n",
            "              precision    recall  f1-score   support\n",
            "\n",
            "           0       0.86      0.86      0.86       740\n",
            "           1       0.86      0.86      0.86       740\n",
            "\n",
            "    accuracy                           0.86      1480\n",
            "   macro avg       0.86      0.86      0.86      1480\n",
            "weighted avg       0.86      0.86      0.86      1480\n",
            "\n",
            "\n",
            "Support Vector Machine\n",
            "              precision    recall  f1-score   support\n",
            "\n",
            "           0       0.78      0.86      0.82       740\n",
            "           1       0.85      0.76      0.80       740\n",
            "\n",
            "    accuracy                           0.81      1480\n",
            "   macro avg       0.81      0.81      0.81      1480\n",
            "weighted avg       0.81      0.81      0.81      1480\n",
            "\n",
            "\n",
            "Gaussian Naive Bayes\n",
            "              precision    recall  f1-score   support\n",
            "\n",
            "           0       0.74      0.04      0.07       740\n",
            "           1       0.51      0.99      0.67       740\n",
            "\n",
            "    accuracy                           0.51      1480\n",
            "   macro avg       0.62      0.51      0.37      1480\n",
            "weighted avg       0.62      0.51      0.37      1480\n",
            "\n",
            "\n",
            "Bernoulli Naive Bayes\n",
            "              precision    recall  f1-score   support\n",
            "\n",
            "           0       0.61      0.78      0.69       740\n",
            "           1       0.70      0.51      0.59       740\n",
            "\n",
            "    accuracy                           0.64      1480\n",
            "   macro avg       0.66      0.64      0.64      1480\n",
            "weighted avg       0.66      0.64      0.64      1480\n",
            "\n",
            "\n",
            "XGBoost\n",
            "              precision    recall  f1-score   support\n",
            "\n",
            "           0       0.84      0.95      0.89       740\n",
            "           1       0.94      0.82      0.88       740\n",
            "\n",
            "    accuracy                           0.89      1480\n",
            "   macro avg       0.89      0.89      0.88      1480\n",
            "weighted avg       0.89      0.89      0.88      1480\n",
            "\n",
            "\n",
            "AdaBoost\n",
            "              precision    recall  f1-score   support\n",
            "\n",
            "           0       0.83      0.89      0.86       740\n",
            "           1       0.88      0.82      0.85       740\n",
            "\n",
            "    accuracy                           0.86      1480\n",
            "   macro avg       0.86      0.86      0.86      1480\n",
            "weighted avg       0.86      0.86      0.86      1480\n",
            "\n",
            "\n",
            "Linear Discriminant Analysis\n",
            "              precision    recall  f1-score   support\n",
            "\n",
            "           0       0.72      0.83      0.77       740\n",
            "           1       0.80      0.68      0.73       740\n",
            "\n",
            "    accuracy                           0.75      1480\n",
            "   macro avg       0.76      0.75      0.75      1480\n",
            "weighted avg       0.76      0.75      0.75      1480\n",
            "\n",
            "\n"
          ]
        }
      ]
    },
    {
      "cell_type": "code",
      "metadata": {
        "colab": {
          "base_uri": "https://localhost:8080/",
          "height": 580
        },
        "id": "6njunU7mh0pr",
        "outputId": "c1a84ec4-6c20-479d-b4b0-049eb802a946"
      },
      "source": [
        "from sklearn.metrics import plot_confusion_matrix\n",
        "\n",
        "fig, axes = plt.subplots(nrows=2, ncols=5, figsize=(20,8))\n",
        "\n",
        "for cls, ax in zip(models.values(), axes.flatten()):\n",
        "    predictions = cls.predict(x_test)\n",
        "    con_matrix = tf.math.confusion_matrix(labels=y_test,predictions=predictions)\n",
        "    sns.heatmap(con_matrix,annot=True,ax=ax,fmt='d')\n",
        "    plt.xlabel('Predicted Output')\n",
        "    plt.ylabel('True Output')\n",
        "    ax.title.set_text(type(cls).__name__)\n",
        "plt.tight_layout()  \n",
        "plt.show()"
      ],
      "execution_count": null,
      "outputs": [
        {
          "output_type": "display_data",
          "data": {
            "image/png": "[encoded data removed]",
            "text/plain": [
              "<Figure size 1440x576 with 20 Axes>"
            ]
          },
          "metadata": {
            "needs_background": "light"
          }
        }
      ]
    },
    {
      "cell_type": "code",
      "metadata": {
        "colab": {
          "base_uri": "https://localhost:8080/",
          "height": 513
        },
        "id": "5XFm-2Vqh--D",
        "outputId": "47b89951-4a6f-4ede-86d3-5cd00f61cc7b"
      },
      "source": [
        "from sklearn.metrics import roc_curve\n",
        "\n",
        "plt.figure(figsize=(13,8))\n",
        "for name,model in models.items():\n",
        "\n",
        "    fpr, tpr, thresholds = roc_curve(y_test, model.predict_proba(x_test)[:,1])\n",
        "    auc = roc_auc_score(y_test,model.predict_proba(x_test)[:, 1])\n",
        "    plt.plot(fpr, tpr, label='%s ROC (area = %0.2f)' % (name, auc))\n",
        "    \n",
        "plt.plot([0, 1], [0, 1],'k--')\n",
        "plt.xlim([0.0, 1.0])\n",
        "plt.ylim([0.0, 1.05])\n",
        "plt.xlabel('False Positive Rate')\n",
        "plt.ylabel('True Positive Rate')\n",
        "plt.title('Receiver Operating Characteristic Curve')\n",
        "plt.legend(loc=\"lower right\")\n",
        "plt.grid()\n",
        "plt.show()"
      ],
      "execution_count": null,
      "outputs": [
        {
          "output_type": "display_data",
          "data": {
            "image/png": "[encoded data removed]",
            "text/plain": [
              "<Figure size 936x576 with 1 Axes>"
            ]
          },
          "metadata": {
            "needs_background": "light"
          }
        }
      ]
    },
    {
      "cell_type": "code",
      "metadata": {
        "colab": {
          "base_uri": "https://localhost:8080/",
          "height": 357
        },
        "id": "Ibvw3bpriXp6",
        "outputId": "3de198e8-ffa3-4873-afbe-c65bc0d54eaf"
      },
      "source": [
        "df = pd.DataFrame(results,columns = ['model','Accuracy_Score','Precision','Recall','F1-Score','AUC','MAE','RMSE','MCC'])\n",
        "df"
      ],
      "execution_count": null,
      "outputs": [
        {
          "output_type": "execute_result",
          "data": {
            "text/html": [
              "<div>\n",
              "<style scoped>\n",
              "    .dataframe tbody tr th:only-of-type {\n",
              "        vertical-align: middle;\n",
              "    }\n",
              "\n",
              "    .dataframe tbody tr th {\n",
              "        vertical-align: top;\n",
              "    }\n",
              "\n",
              "    .dataframe thead th {\n",
              "        text-align: right;\n",
              "    }\n",
              "</style>\n",
              "<table border=\"1\" class=\"dataframe\">\n",
              "  <thead>\n",
              "    <tr style=\"text-align: right;\">\n",
              "      <th></th>\n",
              "      <th>model</th>\n",
              "      <th>Accuracy_Score</th>\n",
              "      <th>Precision</th>\n",
              "      <th>Recall</th>\n",
              "      <th>F1-Score</th>\n",
              "      <th>AUC</th>\n",
              "      <th>MAE</th>\n",
              "      <th>RMSE</th>\n",
              "      <th>MCC</th>\n",
              "    </tr>\n",
              "  </thead>\n",
              "  <tbody>\n",
              "    <tr>\n",
              "      <th>0</th>\n",
              "      <td>Logistic Regression</td>\n",
              "      <td>0.769595</td>\n",
              "      <td>0.804580</td>\n",
              "      <td>0.712162</td>\n",
              "      <td>0.755556</td>\n",
              "      <td>0.830940</td>\n",
              "      <td>0.230405</td>\n",
              "      <td>0.480006</td>\n",
              "      <td>0.542782</td>\n",
              "    </tr>\n",
              "    <tr>\n",
              "      <th>1</th>\n",
              "      <td>Random Forest</td>\n",
              "      <td>0.926351</td>\n",
              "      <td>0.944993</td>\n",
              "      <td>0.905405</td>\n",
              "      <td>0.924776</td>\n",
              "      <td>0.975757</td>\n",
              "      <td>0.073649</td>\n",
              "      <td>0.271383</td>\n",
              "      <td>0.853452</td>\n",
              "    </tr>\n",
              "    <tr>\n",
              "      <th>2</th>\n",
              "      <td>KNN</td>\n",
              "      <td>0.834459</td>\n",
              "      <td>0.823529</td>\n",
              "      <td>0.851351</td>\n",
              "      <td>0.837209</td>\n",
              "      <td>0.913068</td>\n",
              "      <td>0.165541</td>\n",
              "      <td>0.406867</td>\n",
              "      <td>0.669301</td>\n",
              "    </tr>\n",
              "    <tr>\n",
              "      <th>3</th>\n",
              "      <td>Decision Tree</td>\n",
              "      <td>0.860135</td>\n",
              "      <td>0.856760</td>\n",
              "      <td>0.864865</td>\n",
              "      <td>0.860794</td>\n",
              "      <td>0.860135</td>\n",
              "      <td>0.139865</td>\n",
              "      <td>0.373985</td>\n",
              "      <td>0.720302</td>\n",
              "    </tr>\n",
              "    <tr>\n",
              "      <th>4</th>\n",
              "      <td>Support Vector Machine</td>\n",
              "      <td>0.811486</td>\n",
              "      <td>0.846617</td>\n",
              "      <td>0.760811</td>\n",
              "      <td>0.801423</td>\n",
              "      <td>0.883965</td>\n",
              "      <td>0.188514</td>\n",
              "      <td>0.434181</td>\n",
              "      <td>0.626197</td>\n",
              "    </tr>\n",
              "    <tr>\n",
              "      <th>5</th>\n",
              "      <td>Gaussian Naive Bayes</td>\n",
              "      <td>0.511486</td>\n",
              "      <td>0.505882</td>\n",
              "      <td>0.987838</td>\n",
              "      <td>0.669108</td>\n",
              "      <td>0.687614</td>\n",
              "      <td>0.488514</td>\n",
              "      <td>0.698937</td>\n",
              "      <td>0.075593</td>\n",
              "    </tr>\n",
              "    <tr>\n",
              "      <th>6</th>\n",
              "      <td>Bernoulli Naive Bayes</td>\n",
              "      <td>0.643919</td>\n",
              "      <td>0.696858</td>\n",
              "      <td>0.509459</td>\n",
              "      <td>0.588603</td>\n",
              "      <td>0.680909</td>\n",
              "      <td>0.356081</td>\n",
              "      <td>0.596725</td>\n",
              "      <td>0.298847</td>\n",
              "    </tr>\n",
              "    <tr>\n",
              "      <th>7</th>\n",
              "      <td>XGBoost</td>\n",
              "      <td>0.885135</td>\n",
              "      <td>0.938462</td>\n",
              "      <td>0.824324</td>\n",
              "      <td>0.877698</td>\n",
              "      <td>0.945026</td>\n",
              "      <td>0.114865</td>\n",
              "      <td>0.338917</td>\n",
              "      <td>0.776031</td>\n",
              "    </tr>\n",
              "    <tr>\n",
              "      <th>8</th>\n",
              "      <td>AdaBoost</td>\n",
              "      <td>0.856081</td>\n",
              "      <td>0.880231</td>\n",
              "      <td>0.824324</td>\n",
              "      <td>0.851361</td>\n",
              "      <td>0.919554</td>\n",
              "      <td>0.143919</td>\n",
              "      <td>0.379366</td>\n",
              "      <td>0.713603</td>\n",
              "    </tr>\n",
              "    <tr>\n",
              "      <th>9</th>\n",
              "      <td>Linear Discriminant Analysis</td>\n",
              "      <td>0.752027</td>\n",
              "      <td>0.796502</td>\n",
              "      <td>0.677027</td>\n",
              "      <td>0.731921</td>\n",
              "      <td>0.823470</td>\n",
              "      <td>0.247973</td>\n",
              "      <td>0.497969</td>\n",
              "      <td>0.509822</td>\n",
              "    </tr>\n",
              "  </tbody>\n",
              "</table>\n",
              "</div>"
            ],
            "text/plain": [
              "                          model  Accuracy_Score  ...      RMSE       MCC\n",
              "0           Logistic Regression        0.769595  ...  0.480006  0.542782\n",
              "1                 Random Forest        0.926351  ...  0.271383  0.853452\n",
              "2                           KNN        0.834459  ...  0.406867  0.669301\n",
              "3                 Decision Tree        0.860135  ...  0.373985  0.720302\n",
              "4        Support Vector Machine        0.811486  ...  0.434181  0.626197\n",
              "5          Gaussian Naive Bayes        0.511486  ...  0.698937  0.075593\n",
              "6         Bernoulli Naive Bayes        0.643919  ...  0.596725  0.298847\n",
              "7                       XGBoost        0.885135  ...  0.338917  0.776031\n",
              "8                      AdaBoost        0.856081  ...  0.379366  0.713603\n",
              "9  Linear Discriminant Analysis        0.752027  ...  0.497969  0.509822\n",
              "\n",
              "[10 rows x 9 columns]"
            ]
          },
          "metadata": {},
          "execution_count": 123
        }
      ]
    },
    {
      "cell_type": "code",
      "metadata": {
        "colab": {
          "base_uri": "https://localhost:8080/",
          "height": 585
        },
        "id": "0jvcS9EJiltz",
        "outputId": "64e33813-f84e-454b-b9b3-554ba5a84adc"
      },
      "source": [
        "x = np.arange(len(df['model']))  # the label locations\n",
        "width = 0.23  # the width of the bars\n",
        "\n",
        "fig, ax = plt.subplots(figsize=(15, 8))\n",
        "# rects1 = ax.bar(x + width/2, df['Precision'], width, label='F1-Score')\n",
        "rects1 = ax.bar(x-width, df['MAE'], width, label='MAE')\n",
        "rects2 = ax.bar(x - width/15, df['MCC'], width, label='MCC')\n",
        "rects3 = ax.bar(x + width/1.2, df['F1-Score'], width, label='F1-Score')\n",
        "rects4 = ax.bar(x + width/1.2 + width/1.2, df['Accuracy_Score'], width, label='Accuracy')\n",
        "\n",
        "# ax.set_ylabel('MAE, MCC, F1 and Accuracy')\n",
        "ax.set_title('MAE, MCC, F1 and Accuracy Score')\n",
        "ax.set_xticks(x)\n",
        "plt.xticks(rotation=30)\n",
        "ax.set_xticklabels(df['model'])\n",
        "for i in range(len(df['model'])):\n",
        "  plt.text(i-width,round(df['MAE'][i],2), round(df['MAE'][i],2),ha=\"center\",size=13,bbox = {\n",
        "      'faceColor': 'white',  \n",
        "      'alpha': 1,\n",
        "      'pad': 1\n",
        "   })\n",
        "  plt.text(i - width/15,round(df['MCC'][i],2), round(df['MCC'][i],2),ha=\"center\",size=13,bbox = {  \n",
        "      'faceColor': 'white',  \n",
        "      'alpha': 1,\n",
        "      'pad': 1\n",
        "   })\n",
        "  plt.text(i + 0.2/1.2,round(df['F1-Score'][i],2), round(df['F1-Score'][i],2),ha=\"center\",size=13,bbox = {  \n",
        "      'faceColor': 'white',  \n",
        "      'alpha': 1,\n",
        "      'pad': 1\n",
        "   })\n",
        "  plt.text(i + width/1.2 + 0.30,round(df['Accuracy_Score'][i],2), round(df['Accuracy_Score'][i],2),ha=\"center\",size=13,bbox = {\n",
        "      'faceColor': 'white',  \n",
        "      'alpha': 1,\n",
        "      'pad': 1\n",
        "   })\n",
        "ax.legend()\n",
        "\n",
        "fig.tight_layout()  \n",
        "\n",
        "plt.show()"
      ],
      "execution_count": null,
      "outputs": [
        {
          "output_type": "display_data",
          "data": {
            "image/png": "[encoded data removed]",
            "text/plain": [
              "<Figure size 1080x576 with 1 Axes>"
            ]
          },
          "metadata": {
            "needs_background": "light"
          }
        }
      ]
    },
    {
      "cell_type": "code",
      "metadata": {
        "id": "BFlzKHC2i-dj"
      },
      "source": [
        ""
      ],
      "execution_count": null,
      "outputs": []
    }
  ]
}