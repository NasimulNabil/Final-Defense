{
  "nbformat": 4,
  "nbformat_minor": 0,
  "metadata": {
    "colab": {
      "name": "Final-Deep (Prediction_of_Credit_Recovery_with_Feature_Imporatance_in_Deep_Learning).ipynb",
      "provenance": [],
      "collapsed_sections": [],
      "include_colab_link": true
    },
    "kernelspec": {
      "name": "python3",
      "display_name": "Python 3"
    },
    "language_info": {
      "name": "python"
    }
  },
  "cells": [
    {
      "cell_type": "markdown",
      "metadata": {
        "id": "view-in-github",
        "colab_type": "text"
      },
      "source": [
        "<a href=\"https://colab.research.google.com/github/NasimulNabil/Final-Defense/blob/main/Final_Deep_(Prediction_of_Credit_Recovery_with_Feature_Imporatance_in_Deep_Learning).ipynb\" target=\"_parent\"><img src=\"https://colab.research.google.com/assets/colab-badge.svg\" alt=\"Open In Colab\"/></a>"
      ]
    },
    {
      "cell_type": "code",
      "metadata": {
        "colab": {
          "base_uri": "https://localhost:8080/",
          "height": 223
        },
        "id": "0dA7UI9nZave",
        "outputId": "2e0f2dfb-25c7-40f7-9884-b80db596d922"
      },
      "source": [
        "import pandas as pd\n",
        "import seaborn as sns\n",
        "import matplotlib.pyplot as plt\n",
        "\n",
        "df = pd.read_csv('/content/drive/MyDrive/Research/loan_data_feature.csv')\n",
        "df.head()"
      ],
      "execution_count": null,
      "outputs": [
        {
          "output_type": "execute_result",
          "data": {
            "text/html": [
              "<div>\n",
              "<style scoped>\n",
              "    .dataframe tbody tr th:only-of-type {\n",
              "        vertical-align: middle;\n",
              "    }\n",
              "\n",
              "    .dataframe tbody tr th {\n",
              "        vertical-align: top;\n",
              "    }\n",
              "\n",
              "    .dataframe thead th {\n",
              "        text-align: right;\n",
              "    }\n",
              "</style>\n",
              "<table border=\"1\" class=\"dataframe\">\n",
              "  <thead>\n",
              "    <tr style=\"text-align: right;\">\n",
              "      <th></th>\n",
              "      <th>long_term</th>\n",
              "      <th>emi_loan</th>\n",
              "      <th>individual_loan</th>\n",
              "      <th>consumer_loan</th>\n",
              "      <th>agri_loan</th>\n",
              "      <th>interest_free</th>\n",
              "      <th>staff_loan</th>\n",
              "      <th>secured_unsecured</th>\n",
              "      <th>annual_income_lavel</th>\n",
              "      <th>loan_type</th>\n",
              "      <th>good_credit_life</th>\n",
              "      <th>customer_relation_day</th>\n",
              "      <th>contract_value</th>\n",
              "      <th>contract_mat_day_remain</th>\n",
              "      <th>customer_age_year</th>\n",
              "      <th>int_rate</th>\n",
              "      <th>current_os_amount</th>\n",
              "      <th>total_sanction_amt</th>\n",
              "      <th>total_disb_amt</th>\n",
              "      <th>total_recov_amt</th>\n",
              "      <th>total_int_amt</th>\n",
              "      <th>total_repayable_amt</th>\n",
              "      <th>emi_amount</th>\n",
              "      <th>num_of_installment</th>\n",
              "      <th>pay_month_01</th>\n",
              "      <th>pay_month_02</th>\n",
              "      <th>pay_month_03</th>\n",
              "      <th>pay_month_04</th>\n",
              "      <th>pay_month_05</th>\n",
              "      <th>pay_month_06</th>\n",
              "      <th>bill_amount_01</th>\n",
              "      <th>bill_amount_02</th>\n",
              "      <th>bill_amount_03</th>\n",
              "      <th>bill_amount_04</th>\n",
              "      <th>bill_amount_05</th>\n",
              "      <th>bill_amount_06</th>\n",
              "      <th>number_of_loan_ac</th>\n",
              "      <th>good_credit</th>\n",
              "      <th>total_bl_countMoreThanOne</th>\n",
              "      <th>total_bl_countOne</th>\n",
              "      <th>repayment_frequencyMonth</th>\n",
              "      <th>repayment_frequencyMoreThanMonth</th>\n",
              "      <th>total_bill_amount</th>\n",
              "      <th>mean_bill_amount</th>\n",
              "      <th>total_pay_amount</th>\n",
              "      <th>mean_pay_amount</th>\n",
              "      <th>ratio_of_total_payment</th>\n",
              "      <th>ratio_of_bill_payment</th>\n",
              "      <th>ratio_of_disb_amt_and_good_credit</th>\n",
              "      <th>number_of_installment_paid</th>\n",
              "    </tr>\n",
              "  </thead>\n",
              "  <tbody>\n",
              "    <tr>\n",
              "      <th>0</th>\n",
              "      <td>1</td>\n",
              "      <td>0</td>\n",
              "      <td>1</td>\n",
              "      <td>0</td>\n",
              "      <td>0</td>\n",
              "      <td>0</td>\n",
              "      <td>1</td>\n",
              "      <td>1</td>\n",
              "      <td>1.0</td>\n",
              "      <td>2.0</td>\n",
              "      <td>732</td>\n",
              "      <td>1097.0</td>\n",
              "      <td>64800.0</td>\n",
              "      <td>394</td>\n",
              "      <td>22.0</td>\n",
              "      <td>9.0</td>\n",
              "      <td>37232.0</td>\n",
              "      <td>50000.0</td>\n",
              "      <td>50000.0</td>\n",
              "      <td>19350.0</td>\n",
              "      <td>6582.0</td>\n",
              "      <td>43200.0</td>\n",
              "      <td>1800.0</td>\n",
              "      <td>36</td>\n",
              "      <td>1.0</td>\n",
              "      <td>1.0</td>\n",
              "      <td>1.0</td>\n",
              "      <td>1</td>\n",
              "      <td>1</td>\n",
              "      <td>1</td>\n",
              "      <td>14850.0</td>\n",
              "      <td>14850.0</td>\n",
              "      <td>18450.0</td>\n",
              "      <td>20250.0</td>\n",
              "      <td>22050.0</td>\n",
              "      <td>23850.0</td>\n",
              "      <td>1</td>\n",
              "      <td>0</td>\n",
              "      <td>0</td>\n",
              "      <td>1</td>\n",
              "      <td>1</td>\n",
              "      <td>0</td>\n",
              "      <td>114300.0</td>\n",
              "      <td>19050.0000</td>\n",
              "      <td>6.0</td>\n",
              "      <td>1.000000</td>\n",
              "      <td>1.157407</td>\n",
              "      <td>19050.000000</td>\n",
              "      <td>68.306011</td>\n",
              "      <td>10.750000</td>\n",
              "    </tr>\n",
              "    <tr>\n",
              "      <th>1</th>\n",
              "      <td>1</td>\n",
              "      <td>1</td>\n",
              "      <td>1</td>\n",
              "      <td>0</td>\n",
              "      <td>0</td>\n",
              "      <td>0</td>\n",
              "      <td>1</td>\n",
              "      <td>0</td>\n",
              "      <td>1.0</td>\n",
              "      <td>3.0</td>\n",
              "      <td>606</td>\n",
              "      <td>1741.0</td>\n",
              "      <td>426000.0</td>\n",
              "      <td>487</td>\n",
              "      <td>33.0</td>\n",
              "      <td>13.0</td>\n",
              "      <td>278523.0</td>\n",
              "      <td>300000.0</td>\n",
              "      <td>300000.0</td>\n",
              "      <td>21500.0</td>\n",
              "      <td>300023.0</td>\n",
              "      <td>213000.0</td>\n",
              "      <td>14200.0</td>\n",
              "      <td>30</td>\n",
              "      <td>8000.0</td>\n",
              "      <td>1.0</td>\n",
              "      <td>1.0</td>\n",
              "      <td>1000</td>\n",
              "      <td>1000</td>\n",
              "      <td>1500</td>\n",
              "      <td>123500.0</td>\n",
              "      <td>137700.0</td>\n",
              "      <td>151900.0</td>\n",
              "      <td>165600.0</td>\n",
              "      <td>178800.0</td>\n",
              "      <td>191500.0</td>\n",
              "      <td>1</td>\n",
              "      <td>0</td>\n",
              "      <td>0</td>\n",
              "      <td>1</td>\n",
              "      <td>1</td>\n",
              "      <td>0</td>\n",
              "      <td>949000.0</td>\n",
              "      <td>158166.6667</td>\n",
              "      <td>11502.0</td>\n",
              "      <td>1917.000000</td>\n",
              "      <td>1.408451</td>\n",
              "      <td>82.507390</td>\n",
              "      <td>495.049505</td>\n",
              "      <td>1.514085</td>\n",
              "    </tr>\n",
              "    <tr>\n",
              "      <th>2</th>\n",
              "      <td>1</td>\n",
              "      <td>1</td>\n",
              "      <td>1</td>\n",
              "      <td>0</td>\n",
              "      <td>0</td>\n",
              "      <td>0</td>\n",
              "      <td>1</td>\n",
              "      <td>0</td>\n",
              "      <td>4.0</td>\n",
              "      <td>3.0</td>\n",
              "      <td>618</td>\n",
              "      <td>1026.0</td>\n",
              "      <td>511200.0</td>\n",
              "      <td>660</td>\n",
              "      <td>37.0</td>\n",
              "      <td>13.0</td>\n",
              "      <td>266854.0</td>\n",
              "      <td>300000.0</td>\n",
              "      <td>300000.0</td>\n",
              "      <td>33200.0</td>\n",
              "      <td>300054.0</td>\n",
              "      <td>213000.0</td>\n",
              "      <td>14200.0</td>\n",
              "      <td>36</td>\n",
              "      <td>1.0</td>\n",
              "      <td>1.0</td>\n",
              "      <td>1.0</td>\n",
              "      <td>5000</td>\n",
              "      <td>1</td>\n",
              "      <td>1</td>\n",
              "      <td>113300.0</td>\n",
              "      <td>127500.0</td>\n",
              "      <td>141700.0</td>\n",
              "      <td>151400.0</td>\n",
              "      <td>165600.0</td>\n",
              "      <td>179800.0</td>\n",
              "      <td>1</td>\n",
              "      <td>0</td>\n",
              "      <td>0</td>\n",
              "      <td>1</td>\n",
              "      <td>1</td>\n",
              "      <td>0</td>\n",
              "      <td>879300.0</td>\n",
              "      <td>146550.0000</td>\n",
              "      <td>5005.0</td>\n",
              "      <td>834.166667</td>\n",
              "      <td>1.408451</td>\n",
              "      <td>175.684316</td>\n",
              "      <td>485.436893</td>\n",
              "      <td>2.338028</td>\n",
              "    </tr>\n",
              "    <tr>\n",
              "      <th>3</th>\n",
              "      <td>1</td>\n",
              "      <td>1</td>\n",
              "      <td>1</td>\n",
              "      <td>0</td>\n",
              "      <td>0</td>\n",
              "      <td>0</td>\n",
              "      <td>1</td>\n",
              "      <td>0</td>\n",
              "      <td>4.0</td>\n",
              "      <td>3.0</td>\n",
              "      <td>564</td>\n",
              "      <td>878.0</td>\n",
              "      <td>511200.0</td>\n",
              "      <td>715</td>\n",
              "      <td>28.0</td>\n",
              "      <td>13.0</td>\n",
              "      <td>280000.0</td>\n",
              "      <td>300000.0</td>\n",
              "      <td>300000.0</td>\n",
              "      <td>20000.0</td>\n",
              "      <td>300000.0</td>\n",
              "      <td>184600.0</td>\n",
              "      <td>14200.0</td>\n",
              "      <td>36</td>\n",
              "      <td>1.0</td>\n",
              "      <td>1.0</td>\n",
              "      <td>1.0</td>\n",
              "      <td>1</td>\n",
              "      <td>1</td>\n",
              "      <td>1</td>\n",
              "      <td>93600.0</td>\n",
              "      <td>107800.0</td>\n",
              "      <td>122000.0</td>\n",
              "      <td>136200.0</td>\n",
              "      <td>150400.0</td>\n",
              "      <td>164600.0</td>\n",
              "      <td>1</td>\n",
              "      <td>0</td>\n",
              "      <td>0</td>\n",
              "      <td>1</td>\n",
              "      <td>1</td>\n",
              "      <td>0</td>\n",
              "      <td>774600.0</td>\n",
              "      <td>129100.0000</td>\n",
              "      <td>6.0</td>\n",
              "      <td>1.000000</td>\n",
              "      <td>1.625135</td>\n",
              "      <td>129100.000000</td>\n",
              "      <td>531.914894</td>\n",
              "      <td>1.408451</td>\n",
              "    </tr>\n",
              "    <tr>\n",
              "      <th>4</th>\n",
              "      <td>1</td>\n",
              "      <td>1</td>\n",
              "      <td>1</td>\n",
              "      <td>1</td>\n",
              "      <td>0</td>\n",
              "      <td>1</td>\n",
              "      <td>1</td>\n",
              "      <td>0</td>\n",
              "      <td>1.0</td>\n",
              "      <td>6.0</td>\n",
              "      <td>425</td>\n",
              "      <td>2020.0</td>\n",
              "      <td>540288.0</td>\n",
              "      <td>1065</td>\n",
              "      <td>45.0</td>\n",
              "      <td>13.0</td>\n",
              "      <td>436384.0</td>\n",
              "      <td>1175000.0</td>\n",
              "      <td>1175000.0</td>\n",
              "      <td>16000.0</td>\n",
              "      <td>52384.0</td>\n",
              "      <td>157584.0</td>\n",
              "      <td>11256.0</td>\n",
              "      <td>48</td>\n",
              "      <td>1.0</td>\n",
              "      <td>1.0</td>\n",
              "      <td>1.0</td>\n",
              "      <td>1</td>\n",
              "      <td>1</td>\n",
              "      <td>5000</td>\n",
              "      <td>90304.0</td>\n",
              "      <td>101560.0</td>\n",
              "      <td>112816.0</td>\n",
              "      <td>124072.0</td>\n",
              "      <td>135328.0</td>\n",
              "      <td>141584.0</td>\n",
              "      <td>5</td>\n",
              "      <td>1</td>\n",
              "      <td>0</td>\n",
              "      <td>1</td>\n",
              "      <td>1</td>\n",
              "      <td>0</td>\n",
              "      <td>705664.0</td>\n",
              "      <td>117610.6667</td>\n",
              "      <td>5005.0</td>\n",
              "      <td>834.166667</td>\n",
              "      <td>7.456341</td>\n",
              "      <td>140.991808</td>\n",
              "      <td>2764.705882</td>\n",
              "      <td>1.421464</td>\n",
              "    </tr>\n",
              "  </tbody>\n",
              "</table>\n",
              "</div>"
            ],
            "text/plain": [
              "   long_term  ...  number_of_installment_paid\n",
              "0          1  ...                   10.750000\n",
              "1          1  ...                    1.514085\n",
              "2          1  ...                    2.338028\n",
              "3          1  ...                    1.408451\n",
              "4          1  ...                    1.421464\n",
              "\n",
              "[5 rows x 50 columns]"
            ]
          },
          "metadata": {},
          "execution_count": 1
        }
      ]
    },
    {
      "cell_type": "code",
      "metadata": {
        "colab": {
          "base_uri": "https://localhost:8080/"
        },
        "id": "8VOYPfn5Zwqu",
        "outputId": "5c2826e7-7f13-4984-9fa2-0ce589527f95"
      },
      "source": [
        "df.drop(['mean_pay_amount','long_term','mean_bill_amount','interest_free','repayment_frequencyMonth','staff_loan','agri_loan'],axis=1,inplace=True)\n",
        "df.shape"
      ],
      "execution_count": null,
      "outputs": [
        {
          "output_type": "execute_result",
          "data": {
            "text/plain": [
              "(4600, 43)"
            ]
          },
          "metadata": {},
          "execution_count": 2
        }
      ]
    },
    {
      "cell_type": "code",
      "metadata": {
        "colab": {
          "base_uri": "https://localhost:8080/",
          "height": 223
        },
        "id": "0zr1AAfvaBk1",
        "outputId": "39496302-e780-4e2c-9b40-ff249d70fe30"
      },
      "source": [
        "x = df.drop(['good_credit'],axis=1)\n",
        "x.head()"
      ],
      "execution_count": null,
      "outputs": [
        {
          "output_type": "execute_result",
          "data": {
            "text/html": [
              "<div>\n",
              "<style scoped>\n",
              "    .dataframe tbody tr th:only-of-type {\n",
              "        vertical-align: middle;\n",
              "    }\n",
              "\n",
              "    .dataframe tbody tr th {\n",
              "        vertical-align: top;\n",
              "    }\n",
              "\n",
              "    .dataframe thead th {\n",
              "        text-align: right;\n",
              "    }\n",
              "</style>\n",
              "<table border=\"1\" class=\"dataframe\">\n",
              "  <thead>\n",
              "    <tr style=\"text-align: right;\">\n",
              "      <th></th>\n",
              "      <th>emi_loan</th>\n",
              "      <th>individual_loan</th>\n",
              "      <th>consumer_loan</th>\n",
              "      <th>secured_unsecured</th>\n",
              "      <th>annual_income_lavel</th>\n",
              "      <th>loan_type</th>\n",
              "      <th>good_credit_life</th>\n",
              "      <th>customer_relation_day</th>\n",
              "      <th>contract_value</th>\n",
              "      <th>contract_mat_day_remain</th>\n",
              "      <th>customer_age_year</th>\n",
              "      <th>int_rate</th>\n",
              "      <th>current_os_amount</th>\n",
              "      <th>total_sanction_amt</th>\n",
              "      <th>total_disb_amt</th>\n",
              "      <th>total_recov_amt</th>\n",
              "      <th>total_int_amt</th>\n",
              "      <th>total_repayable_amt</th>\n",
              "      <th>emi_amount</th>\n",
              "      <th>num_of_installment</th>\n",
              "      <th>pay_month_01</th>\n",
              "      <th>pay_month_02</th>\n",
              "      <th>pay_month_03</th>\n",
              "      <th>pay_month_04</th>\n",
              "      <th>pay_month_05</th>\n",
              "      <th>pay_month_06</th>\n",
              "      <th>bill_amount_01</th>\n",
              "      <th>bill_amount_02</th>\n",
              "      <th>bill_amount_03</th>\n",
              "      <th>bill_amount_04</th>\n",
              "      <th>bill_amount_05</th>\n",
              "      <th>bill_amount_06</th>\n",
              "      <th>number_of_loan_ac</th>\n",
              "      <th>total_bl_countMoreThanOne</th>\n",
              "      <th>total_bl_countOne</th>\n",
              "      <th>repayment_frequencyMoreThanMonth</th>\n",
              "      <th>total_bill_amount</th>\n",
              "      <th>total_pay_amount</th>\n",
              "      <th>ratio_of_total_payment</th>\n",
              "      <th>ratio_of_bill_payment</th>\n",
              "      <th>ratio_of_disb_amt_and_good_credit</th>\n",
              "      <th>number_of_installment_paid</th>\n",
              "    </tr>\n",
              "  </thead>\n",
              "  <tbody>\n",
              "    <tr>\n",
              "      <th>0</th>\n",
              "      <td>0</td>\n",
              "      <td>1</td>\n",
              "      <td>0</td>\n",
              "      <td>1</td>\n",
              "      <td>1.0</td>\n",
              "      <td>2.0</td>\n",
              "      <td>732</td>\n",
              "      <td>1097.0</td>\n",
              "      <td>64800.0</td>\n",
              "      <td>394</td>\n",
              "      <td>22.0</td>\n",
              "      <td>9.0</td>\n",
              "      <td>37232.0</td>\n",
              "      <td>50000.0</td>\n",
              "      <td>50000.0</td>\n",
              "      <td>19350.0</td>\n",
              "      <td>6582.0</td>\n",
              "      <td>43200.0</td>\n",
              "      <td>1800.0</td>\n",
              "      <td>36</td>\n",
              "      <td>1.0</td>\n",
              "      <td>1.0</td>\n",
              "      <td>1.0</td>\n",
              "      <td>1</td>\n",
              "      <td>1</td>\n",
              "      <td>1</td>\n",
              "      <td>14850.0</td>\n",
              "      <td>14850.0</td>\n",
              "      <td>18450.0</td>\n",
              "      <td>20250.0</td>\n",
              "      <td>22050.0</td>\n",
              "      <td>23850.0</td>\n",
              "      <td>1</td>\n",
              "      <td>0</td>\n",
              "      <td>1</td>\n",
              "      <td>0</td>\n",
              "      <td>114300.0</td>\n",
              "      <td>6.0</td>\n",
              "      <td>1.157407</td>\n",
              "      <td>19050.000000</td>\n",
              "      <td>68.306011</td>\n",
              "      <td>10.750000</td>\n",
              "    </tr>\n",
              "    <tr>\n",
              "      <th>1</th>\n",
              "      <td>1</td>\n",
              "      <td>1</td>\n",
              "      <td>0</td>\n",
              "      <td>0</td>\n",
              "      <td>1.0</td>\n",
              "      <td>3.0</td>\n",
              "      <td>606</td>\n",
              "      <td>1741.0</td>\n",
              "      <td>426000.0</td>\n",
              "      <td>487</td>\n",
              "      <td>33.0</td>\n",
              "      <td>13.0</td>\n",
              "      <td>278523.0</td>\n",
              "      <td>300000.0</td>\n",
              "      <td>300000.0</td>\n",
              "      <td>21500.0</td>\n",
              "      <td>300023.0</td>\n",
              "      <td>213000.0</td>\n",
              "      <td>14200.0</td>\n",
              "      <td>30</td>\n",
              "      <td>8000.0</td>\n",
              "      <td>1.0</td>\n",
              "      <td>1.0</td>\n",
              "      <td>1000</td>\n",
              "      <td>1000</td>\n",
              "      <td>1500</td>\n",
              "      <td>123500.0</td>\n",
              "      <td>137700.0</td>\n",
              "      <td>151900.0</td>\n",
              "      <td>165600.0</td>\n",
              "      <td>178800.0</td>\n",
              "      <td>191500.0</td>\n",
              "      <td>1</td>\n",
              "      <td>0</td>\n",
              "      <td>1</td>\n",
              "      <td>0</td>\n",
              "      <td>949000.0</td>\n",
              "      <td>11502.0</td>\n",
              "      <td>1.408451</td>\n",
              "      <td>82.507390</td>\n",
              "      <td>495.049505</td>\n",
              "      <td>1.514085</td>\n",
              "    </tr>\n",
              "    <tr>\n",
              "      <th>2</th>\n",
              "      <td>1</td>\n",
              "      <td>1</td>\n",
              "      <td>0</td>\n",
              "      <td>0</td>\n",
              "      <td>4.0</td>\n",
              "      <td>3.0</td>\n",
              "      <td>618</td>\n",
              "      <td>1026.0</td>\n",
              "      <td>511200.0</td>\n",
              "      <td>660</td>\n",
              "      <td>37.0</td>\n",
              "      <td>13.0</td>\n",
              "      <td>266854.0</td>\n",
              "      <td>300000.0</td>\n",
              "      <td>300000.0</td>\n",
              "      <td>33200.0</td>\n",
              "      <td>300054.0</td>\n",
              "      <td>213000.0</td>\n",
              "      <td>14200.0</td>\n",
              "      <td>36</td>\n",
              "      <td>1.0</td>\n",
              "      <td>1.0</td>\n",
              "      <td>1.0</td>\n",
              "      <td>5000</td>\n",
              "      <td>1</td>\n",
              "      <td>1</td>\n",
              "      <td>113300.0</td>\n",
              "      <td>127500.0</td>\n",
              "      <td>141700.0</td>\n",
              "      <td>151400.0</td>\n",
              "      <td>165600.0</td>\n",
              "      <td>179800.0</td>\n",
              "      <td>1</td>\n",
              "      <td>0</td>\n",
              "      <td>1</td>\n",
              "      <td>0</td>\n",
              "      <td>879300.0</td>\n",
              "      <td>5005.0</td>\n",
              "      <td>1.408451</td>\n",
              "      <td>175.684316</td>\n",
              "      <td>485.436893</td>\n",
              "      <td>2.338028</td>\n",
              "    </tr>\n",
              "    <tr>\n",
              "      <th>3</th>\n",
              "      <td>1</td>\n",
              "      <td>1</td>\n",
              "      <td>0</td>\n",
              "      <td>0</td>\n",
              "      <td>4.0</td>\n",
              "      <td>3.0</td>\n",
              "      <td>564</td>\n",
              "      <td>878.0</td>\n",
              "      <td>511200.0</td>\n",
              "      <td>715</td>\n",
              "      <td>28.0</td>\n",
              "      <td>13.0</td>\n",
              "      <td>280000.0</td>\n",
              "      <td>300000.0</td>\n",
              "      <td>300000.0</td>\n",
              "      <td>20000.0</td>\n",
              "      <td>300000.0</td>\n",
              "      <td>184600.0</td>\n",
              "      <td>14200.0</td>\n",
              "      <td>36</td>\n",
              "      <td>1.0</td>\n",
              "      <td>1.0</td>\n",
              "      <td>1.0</td>\n",
              "      <td>1</td>\n",
              "      <td>1</td>\n",
              "      <td>1</td>\n",
              "      <td>93600.0</td>\n",
              "      <td>107800.0</td>\n",
              "      <td>122000.0</td>\n",
              "      <td>136200.0</td>\n",
              "      <td>150400.0</td>\n",
              "      <td>164600.0</td>\n",
              "      <td>1</td>\n",
              "      <td>0</td>\n",
              "      <td>1</td>\n",
              "      <td>0</td>\n",
              "      <td>774600.0</td>\n",
              "      <td>6.0</td>\n",
              "      <td>1.625135</td>\n",
              "      <td>129100.000000</td>\n",
              "      <td>531.914894</td>\n",
              "      <td>1.408451</td>\n",
              "    </tr>\n",
              "    <tr>\n",
              "      <th>4</th>\n",
              "      <td>1</td>\n",
              "      <td>1</td>\n",
              "      <td>1</td>\n",
              "      <td>0</td>\n",
              "      <td>1.0</td>\n",
              "      <td>6.0</td>\n",
              "      <td>425</td>\n",
              "      <td>2020.0</td>\n",
              "      <td>540288.0</td>\n",
              "      <td>1065</td>\n",
              "      <td>45.0</td>\n",
              "      <td>13.0</td>\n",
              "      <td>436384.0</td>\n",
              "      <td>1175000.0</td>\n",
              "      <td>1175000.0</td>\n",
              "      <td>16000.0</td>\n",
              "      <td>52384.0</td>\n",
              "      <td>157584.0</td>\n",
              "      <td>11256.0</td>\n",
              "      <td>48</td>\n",
              "      <td>1.0</td>\n",
              "      <td>1.0</td>\n",
              "      <td>1.0</td>\n",
              "      <td>1</td>\n",
              "      <td>1</td>\n",
              "      <td>5000</td>\n",
              "      <td>90304.0</td>\n",
              "      <td>101560.0</td>\n",
              "      <td>112816.0</td>\n",
              "      <td>124072.0</td>\n",
              "      <td>135328.0</td>\n",
              "      <td>141584.0</td>\n",
              "      <td>5</td>\n",
              "      <td>0</td>\n",
              "      <td>1</td>\n",
              "      <td>0</td>\n",
              "      <td>705664.0</td>\n",
              "      <td>5005.0</td>\n",
              "      <td>7.456341</td>\n",
              "      <td>140.991808</td>\n",
              "      <td>2764.705882</td>\n",
              "      <td>1.421464</td>\n",
              "    </tr>\n",
              "  </tbody>\n",
              "</table>\n",
              "</div>"
            ],
            "text/plain": [
              "   emi_loan  ...  number_of_installment_paid\n",
              "0         0  ...                   10.750000\n",
              "1         1  ...                    1.514085\n",
              "2         1  ...                    2.338028\n",
              "3         1  ...                    1.408451\n",
              "4         1  ...                    1.421464\n",
              "\n",
              "[5 rows x 42 columns]"
            ]
          },
          "metadata": {},
          "execution_count": 3
        }
      ]
    },
    {
      "cell_type": "code",
      "metadata": {
        "colab": {
          "base_uri": "https://localhost:8080/"
        },
        "id": "EdlfEhpEaIK1",
        "outputId": "68567346-3e4a-4aee-d161-ae8e7d4a008e"
      },
      "source": [
        "y = df['good_credit']\n",
        "y"
      ],
      "execution_count": null,
      "outputs": [
        {
          "output_type": "execute_result",
          "data": {
            "text/plain": [
              "0       0\n",
              "1       0\n",
              "2       0\n",
              "3       0\n",
              "4       1\n",
              "       ..\n",
              "4595    0\n",
              "4596    0\n",
              "4597    0\n",
              "4598    0\n",
              "4599    0\n",
              "Name: good_credit, Length: 4600, dtype: int64"
            ]
          },
          "metadata": {},
          "execution_count": 4
        }
      ]
    },
    {
      "cell_type": "code",
      "metadata": {
        "colab": {
          "base_uri": "https://localhost:8080/"
        },
        "id": "7xllwmHXaLRc",
        "outputId": "4da2fded-8eef-431a-8e4e-16c7f6b5e580"
      },
      "source": [
        "import numpy as np\n",
        "from imblearn.over_sampling import SMOTE\n",
        "\n",
        "smote = SMOTE(sampling_strategy='minority')\n",
        "x_sm, y_sm = smote.fit_resample(x,y)\n",
        "unique, counts = np.unique(y_sm, return_counts=True)\n",
        "dict(zip(unique, counts))"
      ],
      "execution_count": null,
      "outputs": [
        {
          "output_type": "execute_result",
          "data": {
            "text/plain": [
              "{0: 3698, 1: 3698}"
            ]
          },
          "metadata": {},
          "execution_count": 5
        }
      ]
    },
    {
      "cell_type": "code",
      "metadata": {
        "id": "9Gmss_-4aPI1"
      },
      "source": [
        "from sklearn.preprocessing import StandardScaler\n",
        "standardization = StandardScaler()\n",
        "scale_inputs = standardization.fit_transform(x_sm)"
      ],
      "execution_count": null,
      "outputs": []
    },
    {
      "cell_type": "code",
      "metadata": {
        "colab": {
          "base_uri": "https://localhost:8080/"
        },
        "id": "UGSpsVTvaTdE",
        "outputId": "96c03cf5-c23e-43fe-bb6b-73eb46f0bc88"
      },
      "source": [
        "x_sm = scale_inputs\n",
        "x_sm"
      ],
      "execution_count": null,
      "outputs": [
        {
          "output_type": "execute_result",
          "data": {
            "text/plain": [
              "array([[-1.43218543,  0.36962427, -0.40811949, ..., -0.12000342,\n",
              "        -0.28877098,  1.33288956],\n",
              "       [ 0.69823361,  0.36962427, -0.40811949, ..., -0.22662386,\n",
              "         0.10644307, -0.52941623],\n",
              "       [ 0.69823361,  0.36962427, -0.40811949, ..., -0.2261001 ,\n",
              "         0.09754067, -0.36327839],\n",
              "       ...,\n",
              "       [ 0.69823361,  0.36962427, -0.40811949, ..., -0.2270901 ,\n",
              "         0.51070672,  1.89292168],\n",
              "       [ 0.69823361,  0.36962427, -0.40811949, ..., -0.11522538,\n",
              "        -0.27164349, -0.58602616],\n",
              "       [-1.43218543,  0.36962427, -0.40811949, ..., -0.17430688,\n",
              "        -0.2801202 , -0.83471226]])"
            ]
          },
          "metadata": {},
          "execution_count": 7
        }
      ]
    },
    {
      "cell_type": "code",
      "metadata": {
        "id": "IVdzMCzcaWTl"
      },
      "source": [
        "from sklearn.model_selection import train_test_split\n",
        "x_train,x_test,y_train,y_test = train_test_split(x_sm,y_sm,test_size=0.2,random_state=42,stratify=y_sm)"
      ],
      "execution_count": null,
      "outputs": []
    },
    {
      "cell_type": "code",
      "metadata": {
        "colab": {
          "base_uri": "https://localhost:8080/"
        },
        "id": "0FtVDqFoadzE",
        "outputId": "6b35b9e2-e3ac-43a5-d3bc-df4ce3cb74bc"
      },
      "source": [
        "print(x_train.shape)\n",
        "print(x_test.shape)"
      ],
      "execution_count": null,
      "outputs": [
        {
          "output_type": "stream",
          "name": "stdout",
          "text": [
            "(5916, 42)\n",
            "(1480, 42)\n"
          ]
        }
      ]
    },
    {
      "cell_type": "markdown",
      "metadata": {
        "id": "iIsae-TQbNBU"
      },
      "source": [
        "### **ANN**"
      ]
    },
    {
      "cell_type": "code",
      "metadata": {
        "colab": {
          "base_uri": "https://localhost:8080/"
        },
        "id": "uPe-rwgBaiRM",
        "outputId": "2171469a-9786-4ea2-b0d5-bc809078db73"
      },
      "source": [
        "import tensorflow as tf\n",
        "from tensorflow import keras\n",
        "\n",
        "ann = keras.Sequential([\n",
        "        keras.layers.Dense(500,input_shape=(42,),activation='relu'),\n",
        "        keras.layers.Dense(500,activation='relu'),\n",
        "        keras.layers.Dense(1,activation='sigmoid'),                            \n",
        "])\n",
        "\n",
        "ann.compile(loss='binary_crossentropy', optimizer='adam', metrics=['accuracy'])\n",
        "history = ann.fit(x_train, y_train, epochs=100)"
      ],
      "execution_count": null,
      "outputs": [
        {
          "output_type": "stream",
          "name": "stdout",
          "text": [
            "Epoch 1/100\n",
            "185/185 [==============================] - 1s 5ms/step - loss: 0.4901 - accuracy: 0.7557\n",
            "Epoch 2/100\n",
            "185/185 [==============================] - 1s 5ms/step - loss: 0.4165 - accuracy: 0.8049\n",
            "Epoch 3/100\n",
            "185/185 [==============================] - 1s 5ms/step - loss: 0.3911 - accuracy: 0.8200\n",
            "Epoch 4/100\n",
            "185/185 [==============================] - 1s 5ms/step - loss: 0.3693 - accuracy: 0.8252\n",
            "Epoch 5/100\n",
            "185/185 [==============================] - 1s 5ms/step - loss: 0.3555 - accuracy: 0.8318\n",
            "Epoch 6/100\n",
            "185/185 [==============================] - 1s 5ms/step - loss: 0.3389 - accuracy: 0.8448\n",
            "Epoch 7/100\n",
            "185/185 [==============================] - 1s 4ms/step - loss: 0.3246 - accuracy: 0.8534\n",
            "Epoch 8/100\n",
            "185/185 [==============================] - 1s 4ms/step - loss: 0.3057 - accuracy: 0.8646\n",
            "Epoch 9/100\n",
            "185/185 [==============================] - 1s 4ms/step - loss: 0.2975 - accuracy: 0.8663\n",
            "Epoch 10/100\n",
            "185/185 [==============================] - 1s 5ms/step - loss: 0.2981 - accuracy: 0.8656\n",
            "Epoch 11/100\n",
            "185/185 [==============================] - 1s 5ms/step - loss: 0.2697 - accuracy: 0.8813\n",
            "Epoch 12/100\n",
            "185/185 [==============================] - 1s 5ms/step - loss: 0.2593 - accuracy: 0.8867\n",
            "Epoch 13/100\n",
            "185/185 [==============================] - 1s 4ms/step - loss: 0.2451 - accuracy: 0.8938\n",
            "Epoch 14/100\n",
            "185/185 [==============================] - 1s 5ms/step - loss: 0.2374 - accuracy: 0.9011\n",
            "Epoch 15/100\n",
            "185/185 [==============================] - 1s 5ms/step - loss: 0.2391 - accuracy: 0.9018\n",
            "Epoch 16/100\n",
            "185/185 [==============================] - 1s 5ms/step - loss: 0.2286 - accuracy: 0.9016\n",
            "Epoch 17/100\n",
            "185/185 [==============================] - 1s 5ms/step - loss: 0.2170 - accuracy: 0.9080\n",
            "Epoch 18/100\n",
            "185/185 [==============================] - 1s 4ms/step - loss: 0.2019 - accuracy: 0.9177\n",
            "Epoch 19/100\n",
            "185/185 [==============================] - 1s 4ms/step - loss: 0.1885 - accuracy: 0.9217\n",
            "Epoch 20/100\n",
            "185/185 [==============================] - 1s 5ms/step - loss: 0.1905 - accuracy: 0.9224\n",
            "Epoch 21/100\n",
            "185/185 [==============================] - 1s 5ms/step - loss: 0.1819 - accuracy: 0.9248\n",
            "Epoch 22/100\n",
            "185/185 [==============================] - 1s 5ms/step - loss: 0.1695 - accuracy: 0.9314\n",
            "Epoch 23/100\n",
            "185/185 [==============================] - 1s 5ms/step - loss: 0.1652 - accuracy: 0.9327\n",
            "Epoch 24/100\n",
            "185/185 [==============================] - 1s 5ms/step - loss: 0.1729 - accuracy: 0.9324\n",
            "Epoch 25/100\n",
            "185/185 [==============================] - 1s 5ms/step - loss: 0.1627 - accuracy: 0.9336\n",
            "Epoch 26/100\n",
            "185/185 [==============================] - 1s 5ms/step - loss: 0.1520 - accuracy: 0.9378\n",
            "Epoch 27/100\n",
            "185/185 [==============================] - 1s 5ms/step - loss: 0.1334 - accuracy: 0.9462\n",
            "Epoch 28/100\n",
            "185/185 [==============================] - 1s 5ms/step - loss: 0.1395 - accuracy: 0.9444\n",
            "Epoch 29/100\n",
            "185/185 [==============================] - 1s 4ms/step - loss: 0.1302 - accuracy: 0.9468\n",
            "Epoch 30/100\n",
            "185/185 [==============================] - 1s 4ms/step - loss: 0.1276 - accuracy: 0.9500\n",
            "Epoch 31/100\n",
            "185/185 [==============================] - 1s 4ms/step - loss: 0.1252 - accuracy: 0.9493\n",
            "Epoch 32/100\n",
            "185/185 [==============================] - 1s 4ms/step - loss: 0.1242 - accuracy: 0.9495\n",
            "Epoch 33/100\n",
            "185/185 [==============================] - 1s 4ms/step - loss: 0.1111 - accuracy: 0.9566\n",
            "Epoch 34/100\n",
            "185/185 [==============================] - 1s 4ms/step - loss: 0.1117 - accuracy: 0.9554\n",
            "Epoch 35/100\n",
            "185/185 [==============================] - 1s 5ms/step - loss: 0.1095 - accuracy: 0.9579\n",
            "Epoch 36/100\n",
            "185/185 [==============================] - 1s 5ms/step - loss: 0.1062 - accuracy: 0.9549\n",
            "Epoch 37/100\n",
            "185/185 [==============================] - 1s 4ms/step - loss: 0.0953 - accuracy: 0.9599\n",
            "Epoch 38/100\n",
            "185/185 [==============================] - 1s 5ms/step - loss: 0.1027 - accuracy: 0.9616\n",
            "Epoch 39/100\n",
            "185/185 [==============================] - 1s 4ms/step - loss: 0.1568 - accuracy: 0.9432\n",
            "Epoch 40/100\n",
            "185/185 [==============================] - 1s 4ms/step - loss: 0.1335 - accuracy: 0.9532\n",
            "Epoch 41/100\n",
            "185/185 [==============================] - 1s 4ms/step - loss: 0.1017 - accuracy: 0.9632\n",
            "Epoch 42/100\n",
            "185/185 [==============================] - 1s 5ms/step - loss: 0.0891 - accuracy: 0.9665\n",
            "Epoch 43/100\n",
            "185/185 [==============================] - 1s 5ms/step - loss: 0.0837 - accuracy: 0.9689\n",
            "Epoch 44/100\n",
            "185/185 [==============================] - 1s 5ms/step - loss: 0.0813 - accuracy: 0.9694\n",
            "Epoch 45/100\n",
            "185/185 [==============================] - 1s 5ms/step - loss: 0.0759 - accuracy: 0.9714\n",
            "Epoch 46/100\n",
            "185/185 [==============================] - 1s 5ms/step - loss: 0.0833 - accuracy: 0.9662\n",
            "Epoch 47/100\n",
            "185/185 [==============================] - 1s 4ms/step - loss: 0.0774 - accuracy: 0.9713\n",
            "Epoch 48/100\n",
            "185/185 [==============================] - 1s 4ms/step - loss: 0.0811 - accuracy: 0.9699\n",
            "Epoch 49/100\n",
            "185/185 [==============================] - 1s 4ms/step - loss: 0.0758 - accuracy: 0.9726\n",
            "Epoch 50/100\n",
            "185/185 [==============================] - 1s 4ms/step - loss: 0.0677 - accuracy: 0.9748\n",
            "Epoch 51/100\n",
            "185/185 [==============================] - 1s 4ms/step - loss: 0.0904 - accuracy: 0.9694\n",
            "Epoch 52/100\n",
            "185/185 [==============================] - 1s 5ms/step - loss: 0.1059 - accuracy: 0.9630\n",
            "Epoch 53/100\n",
            "185/185 [==============================] - 1s 5ms/step - loss: 0.0794 - accuracy: 0.9706\n",
            "Epoch 54/100\n",
            "185/185 [==============================] - 1s 5ms/step - loss: 0.0765 - accuracy: 0.9738\n",
            "Epoch 55/100\n",
            "185/185 [==============================] - 1s 5ms/step - loss: 0.0677 - accuracy: 0.9755\n",
            "Epoch 56/100\n",
            "185/185 [==============================] - 1s 5ms/step - loss: 0.0642 - accuracy: 0.9767\n",
            "Epoch 57/100\n",
            "185/185 [==============================] - 1s 5ms/step - loss: 0.0627 - accuracy: 0.9760\n",
            "Epoch 58/100\n",
            "185/185 [==============================] - 1s 5ms/step - loss: 0.0660 - accuracy: 0.9758\n",
            "Epoch 59/100\n",
            "185/185 [==============================] - 1s 5ms/step - loss: 0.0631 - accuracy: 0.9750\n",
            "Epoch 60/100\n",
            "185/185 [==============================] - 1s 5ms/step - loss: 0.0683 - accuracy: 0.9714\n",
            "Epoch 61/100\n",
            "185/185 [==============================] - 1s 5ms/step - loss: 0.0613 - accuracy: 0.9775\n",
            "Epoch 62/100\n",
            "185/185 [==============================] - 1s 5ms/step - loss: 0.0505 - accuracy: 0.9812\n",
            "Epoch 63/100\n",
            "185/185 [==============================] - 1s 5ms/step - loss: 0.0609 - accuracy: 0.9784\n",
            "Epoch 64/100\n",
            "185/185 [==============================] - 1s 5ms/step - loss: 0.0626 - accuracy: 0.9767\n",
            "Epoch 65/100\n",
            "185/185 [==============================] - 1s 5ms/step - loss: 0.0602 - accuracy: 0.9773\n",
            "Epoch 66/100\n",
            "185/185 [==============================] - 1s 5ms/step - loss: 0.0719 - accuracy: 0.9741\n",
            "Epoch 67/100\n",
            "185/185 [==============================] - 1s 5ms/step - loss: 0.0957 - accuracy: 0.9733\n",
            "Epoch 68/100\n",
            "185/185 [==============================] - 1s 5ms/step - loss: 0.0939 - accuracy: 0.9714\n",
            "Epoch 69/100\n",
            "185/185 [==============================] - 1s 5ms/step - loss: 0.0485 - accuracy: 0.9826\n",
            "Epoch 70/100\n",
            "185/185 [==============================] - 1s 4ms/step - loss: 0.0499 - accuracy: 0.9814\n",
            "Epoch 71/100\n",
            "185/185 [==============================] - 1s 5ms/step - loss: 0.0494 - accuracy: 0.9817\n",
            "Epoch 72/100\n",
            "185/185 [==============================] - 1s 4ms/step - loss: 0.0494 - accuracy: 0.9833\n",
            "Epoch 73/100\n",
            "185/185 [==============================] - 1s 5ms/step - loss: 0.0653 - accuracy: 0.9763\n",
            "Epoch 74/100\n",
            "185/185 [==============================] - 1s 5ms/step - loss: 0.0743 - accuracy: 0.9736\n",
            "Epoch 75/100\n",
            "185/185 [==============================] - 1s 5ms/step - loss: 0.0503 - accuracy: 0.9809\n",
            "Epoch 76/100\n",
            "185/185 [==============================] - 1s 5ms/step - loss: 0.0436 - accuracy: 0.9846\n",
            "Epoch 77/100\n",
            "185/185 [==============================] - 1s 5ms/step - loss: 0.0446 - accuracy: 0.9839\n",
            "Epoch 78/100\n",
            "185/185 [==============================] - 1s 4ms/step - loss: 0.0385 - accuracy: 0.9861\n",
            "Epoch 79/100\n",
            "185/185 [==============================] - 1s 4ms/step - loss: 0.0420 - accuracy: 0.9856\n",
            "Epoch 80/100\n",
            "185/185 [==============================] - 1s 4ms/step - loss: 0.0538 - accuracy: 0.9811\n",
            "Epoch 81/100\n",
            "185/185 [==============================] - 1s 4ms/step - loss: 0.0829 - accuracy: 0.9770\n",
            "Epoch 82/100\n",
            "185/185 [==============================] - 1s 4ms/step - loss: 0.0870 - accuracy: 0.9714\n",
            "Epoch 83/100\n",
            "185/185 [==============================] - 1s 4ms/step - loss: 0.0852 - accuracy: 0.9755\n",
            "Epoch 84/100\n",
            "185/185 [==============================] - 1s 5ms/step - loss: 0.0638 - accuracy: 0.9757\n",
            "Epoch 85/100\n",
            "185/185 [==============================] - 1s 5ms/step - loss: 0.0401 - accuracy: 0.9844\n",
            "Epoch 86/100\n",
            "185/185 [==============================] - 1s 4ms/step - loss: 0.0303 - accuracy: 0.9902\n",
            "Epoch 87/100\n",
            "185/185 [==============================] - 1s 5ms/step - loss: 0.0325 - accuracy: 0.9883\n",
            "Epoch 88/100\n",
            "185/185 [==============================] - 1s 5ms/step - loss: 0.0320 - accuracy: 0.9892\n",
            "Epoch 89/100\n",
            "185/185 [==============================] - 1s 4ms/step - loss: 0.0417 - accuracy: 0.9861\n",
            "Epoch 90/100\n",
            "185/185 [==============================] - 1s 6ms/step - loss: 0.0354 - accuracy: 0.9880\n",
            "Epoch 91/100\n",
            "185/185 [==============================] - 1s 5ms/step - loss: 0.0341 - accuracy: 0.9878\n",
            "Epoch 92/100\n",
            "185/185 [==============================] - 1s 5ms/step - loss: 0.0371 - accuracy: 0.9875\n",
            "Epoch 93/100\n",
            "185/185 [==============================] - 1s 6ms/step - loss: 0.0477 - accuracy: 0.9844\n",
            "Epoch 94/100\n",
            "185/185 [==============================] - 1s 5ms/step - loss: 0.0535 - accuracy: 0.9814\n",
            "Epoch 95/100\n",
            "185/185 [==============================] - 1s 5ms/step - loss: 0.0694 - accuracy: 0.9752\n",
            "Epoch 96/100\n",
            "185/185 [==============================] - 1s 6ms/step - loss: 0.0620 - accuracy: 0.9790\n",
            "Epoch 97/100\n",
            "185/185 [==============================] - 1s 5ms/step - loss: 0.0359 - accuracy: 0.9878\n",
            "Epoch 98/100\n",
            "185/185 [==============================] - 1s 6ms/step - loss: 0.0307 - accuracy: 0.9890\n",
            "Epoch 99/100\n",
            "185/185 [==============================] - 1s 6ms/step - loss: 0.0408 - accuracy: 0.9890\n",
            "Epoch 100/100\n",
            "185/185 [==============================] - 1s 5ms/step - loss: 0.0304 - accuracy: 0.9895\n"
          ]
        }
      ]
    },
    {
      "cell_type": "code",
      "metadata": {
        "colab": {
          "base_uri": "https://localhost:8080/"
        },
        "id": "0InDYbPFauCk",
        "outputId": "1f5f36a0-9731-44a8-b6ff-5f845634e869"
      },
      "source": [
        "import numpy as np\n",
        "loss = np.mean(history.history['loss'])\n",
        "accuracy = np.mean(history.history['accuracy'])\n",
        "print(\"Training Loss: \",loss)\n",
        "print(\"Training Accuracy: \",accuracy)"
      ],
      "execution_count": null,
      "outputs": [
        {
          "output_type": "stream",
          "name": "stdout",
          "text": [
            "Training Loss:  0.12275674495846033\n",
            "Training Accuracy:  0.949795469045639\n"
          ]
        }
      ]
    },
    {
      "cell_type": "code",
      "metadata": {
        "colab": {
          "base_uri": "https://localhost:8080/",
          "height": 516
        },
        "id": "8klozE5QbS0M",
        "outputId": "230eebcb-747b-4f13-889d-115897f26bee"
      },
      "source": [
        "acc = history.history['accuracy']\n",
        "loss = history.history['loss']\n",
        "plt.figure(figsize=(15,8))\n",
        "plt.subplot(1,2,1)\n",
        "plt.plot(range(100),acc,label='Training Accuracy')\n",
        "plt.legend(loc='lower right')\n",
        "plt.title(\"Training Accuracy\")\n",
        "\n",
        "plt.subplot(1,2,2)\n",
        "plt.plot(range(100),loss,label='Training Loss')\n",
        "plt.legend(loc='upper right')\n",
        "plt.title(\"Training Loss\")"
      ],
      "execution_count": null,
      "outputs": [
        {
          "output_type": "execute_result",
          "data": {
            "text/plain": [
              "Text(0.5, 1.0, 'Training Loss')"
            ]
          },
          "metadata": {},
          "execution_count": 12
        },
        {
          "output_type": "display_data",
          "data": {
            "image/png": "[encoded data removed]",
            "text/plain": [
              "<Figure size 1080x576 with 2 Axes>"
            ]
          },
          "metadata": {
            "needs_background": "light"
          }
        }
      ]
    },
    {
      "cell_type": "code",
      "metadata": {
        "colab": {
          "base_uri": "https://localhost:8080/"
        },
        "id": "Z5kj_Jy0ZTyU",
        "outputId": "adac9fca-7546-4328-8065-40be24b055cb"
      },
      "source": [
        "ann.evaluate(x_test,y_test)"
      ],
      "execution_count": null,
      "outputs": [
        {
          "output_type": "stream",
          "name": "stdout",
          "text": [
            "47/47 [==============================] - 0s 2ms/step - loss: 0.6253 - accuracy: 0.8993\n"
          ]
        },
        {
          "output_type": "execute_result",
          "data": {
            "text/plain": [
              "[0.6252630949020386, 0.8993242979049683]"
            ]
          },
          "metadata": {},
          "execution_count": 13
        }
      ]
    },
    {
      "cell_type": "code",
      "metadata": {
        "colab": {
          "base_uri": "https://localhost:8080/"
        },
        "id": "zUm91r_YbeDl",
        "outputId": "3f91d199-8fb5-4446-a2d5-02b8fac1213c"
      },
      "source": [
        "y_pred = ann.predict(x_test)\n",
        "y_pred"
      ],
      "execution_count": null,
      "outputs": [
        {
          "output_type": "execute_result",
          "data": {
            "text/plain": [
              "array([[9.9981439e-01],\n",
              "       [5.4418382e-07],\n",
              "       [1.0000000e+00],\n",
              "       ...,\n",
              "       [9.9870235e-01],\n",
              "       [9.9985689e-01],\n",
              "       [1.0000000e+00]], dtype=float32)"
            ]
          },
          "metadata": {},
          "execution_count": 14
        }
      ]
    },
    {
      "cell_type": "code",
      "metadata": {
        "colab": {
          "base_uri": "https://localhost:8080/"
        },
        "id": "UFbme-CEbj1E",
        "outputId": "de040d6a-8140-4dc2-dd18-fccf49f1753a"
      },
      "source": [
        "y_pred = np.round(y_pred)\n",
        "y_pred"
      ],
      "execution_count": null,
      "outputs": [
        {
          "output_type": "execute_result",
          "data": {
            "text/plain": [
              "array([[1.],\n",
              "       [0.],\n",
              "       [1.],\n",
              "       ...,\n",
              "       [1.],\n",
              "       [1.],\n",
              "       [1.]], dtype=float32)"
            ]
          },
          "metadata": {},
          "execution_count": 15
        }
      ]
    },
    {
      "cell_type": "code",
      "metadata": {
        "colab": {
          "base_uri": "https://localhost:8080/"
        },
        "id": "wtqcJOaabqb8",
        "outputId": "ef021dd4-24d2-4b51-bcbe-eb98145204b5"
      },
      "source": [
        "y_pred = y_pred[:,0]\n",
        "y_pred"
      ],
      "execution_count": null,
      "outputs": [
        {
          "output_type": "execute_result",
          "data": {
            "text/plain": [
              "array([1., 0., 1., ..., 1., 1., 1.], dtype=float32)"
            ]
          },
          "metadata": {},
          "execution_count": 16
        }
      ]
    },
    {
      "cell_type": "code",
      "metadata": {
        "colab": {
          "base_uri": "https://localhost:8080/"
        },
        "id": "5lhyk3RbbtCE",
        "outputId": "71991b09-bd4a-4d45-d2d5-ae148b3d0dc5"
      },
      "source": [
        "y_test[:20]"
      ],
      "execution_count": null,
      "outputs": [
        {
          "output_type": "execute_result",
          "data": {
            "text/plain": [
              "468     1\n",
              "113     0\n",
              "196     1\n",
              "4520    0\n",
              "1981    0\n",
              "1924    0\n",
              "1115    0\n",
              "2497    0\n",
              "6924    1\n",
              "4805    1\n",
              "2595    1\n",
              "3631    0\n",
              "3833    0\n",
              "47      0\n",
              "1464    0\n",
              "6474    1\n",
              "1815    0\n",
              "2716    0\n",
              "4510    0\n",
              "1974    1\n",
              "Name: good_credit, dtype: int64"
            ]
          },
          "metadata": {},
          "execution_count": 17
        }
      ]
    },
    {
      "cell_type": "code",
      "metadata": {
        "colab": {
          "base_uri": "https://localhost:8080/"
        },
        "id": "QMUwgkymbwZs",
        "outputId": "6a639522-7ebf-48d4-d35a-4fa555ceb0af"
      },
      "source": [
        "y_pred[:20]"
      ],
      "execution_count": null,
      "outputs": [
        {
          "output_type": "execute_result",
          "data": {
            "text/plain": [
              "array([1., 0., 1., 1., 0., 0., 0., 0., 1., 1., 0., 0., 0., 1., 0., 1., 0.,\n",
              "       0., 0., 1.], dtype=float32)"
            ]
          },
          "metadata": {},
          "execution_count": 18
        }
      ]
    },
    {
      "cell_type": "code",
      "metadata": {
        "colab": {
          "base_uri": "https://localhost:8080/",
          "height": 97
        },
        "id": "3dmA47cvb468",
        "outputId": "e8333bc8-3403-4fc0-bdfb-6063c338f7e1"
      },
      "source": [
        "import math\n",
        "from sklearn.metrics import accuracy_score,precision_score,recall_score,f1_score,roc_auc_score,mean_absolute_error,mean_squared_error,matthews_corrcoef\n",
        "# accuracy: (tp + tn) / (p + n)\n",
        "scores = ann.evaluate(x_test,y_test)\n",
        "\n",
        "accuracy = accuracy_score(y_test, y_pred)\n",
        "# precision tp / (tp + fp)\n",
        "precision = precision_score(y_test, y_pred)\n",
        "# recall: tp / (tp + fn)\n",
        "recall = recall_score(y_test, y_pred)\n",
        "# f1: 2 tp / (2 tp + fp + fn)\n",
        "f1 = f1_score(y_test, y_pred)\n",
        "\n",
        "auc = roc_auc_score(y_test, ann.predict(x_test))\n",
        "mae = mean_absolute_error(y_test,y_pred)\n",
        "mse = mean_squared_error(y_test,y_pred)\n",
        "rmse = math.sqrt(mse)\n",
        "mcc = matthews_corrcoef(y_test,y_pred)\n",
        "\n",
        "results_deep_learning = []\n",
        "results_deep_learning.append({\n",
        "    'model': \"ANN\",\n",
        "    'Training Loss': np.mean(history.history['loss']),\n",
        "    'Training Accuracy': np.mean(history.history['accuracy']),\n",
        "    'Testing Loss': scores[0],\n",
        "    'Accuracy_Score':accuracy,\n",
        "    'Precision': precision,\n",
        "    'Recall': recall,\n",
        "    'F1-Score': f1,\n",
        "    'AUC': auc,\n",
        "    'MAE': mae,\n",
        "    'RMSE': rmse,\n",
        "    'MCC': mcc\n",
        "})\n",
        "\n",
        "df = pd.DataFrame(results_deep_learning,columns = ['model','Training Loss','Training Accuracy','Testing Loss','Accuracy_Score','Precision','Recall','F1-Score','AUC','MAE','RMSE','MCC'])\n",
        "df"
      ],
      "execution_count": null,
      "outputs": [
        {
          "output_type": "stream",
          "name": "stdout",
          "text": [
            "47/47 [==============================] - 0s 2ms/step - loss: 0.6253 - accuracy: 0.8993\n"
          ]
        },
        {
          "output_type": "execute_result",
          "data": {
            "text/html": [
              "<div>\n",
              "<style scoped>\n",
              "    .dataframe tbody tr th:only-of-type {\n",
              "        vertical-align: middle;\n",
              "    }\n",
              "\n",
              "    .dataframe tbody tr th {\n",
              "        vertical-align: top;\n",
              "    }\n",
              "\n",
              "    .dataframe thead th {\n",
              "        text-align: right;\n",
              "    }\n",
              "</style>\n",
              "<table border=\"1\" class=\"dataframe\">\n",
              "  <thead>\n",
              "    <tr style=\"text-align: right;\">\n",
              "      <th></th>\n",
              "      <th>model</th>\n",
              "      <th>Training Loss</th>\n",
              "      <th>Training Accuracy</th>\n",
              "      <th>Testing Loss</th>\n",
              "      <th>Accuracy_Score</th>\n",
              "      <th>Precision</th>\n",
              "      <th>Recall</th>\n",
              "      <th>F1-Score</th>\n",
              "      <th>AUC</th>\n",
              "      <th>MAE</th>\n",
              "      <th>RMSE</th>\n",
              "      <th>MCC</th>\n",
              "    </tr>\n",
              "  </thead>\n",
              "  <tbody>\n",
              "    <tr>\n",
              "      <th>0</th>\n",
              "      <td>ANN</td>\n",
              "      <td>0.122757</td>\n",
              "      <td>0.949795</td>\n",
              "      <td>0.625263</td>\n",
              "      <td>0.899324</td>\n",
              "      <td>0.89243</td>\n",
              "      <td>0.908108</td>\n",
              "      <td>0.900201</td>\n",
              "      <td>0.949425</td>\n",
              "      <td>0.100676</td>\n",
              "      <td>0.317294</td>\n",
              "      <td>0.798772</td>\n",
              "    </tr>\n",
              "  </tbody>\n",
              "</table>\n",
              "</div>"
            ],
            "text/plain": [
              "  model  Training Loss  Training Accuracy  ...       MAE      RMSE       MCC\n",
              "0   ANN       0.122757           0.949795  ...  0.100676  0.317294  0.798772\n",
              "\n",
              "[1 rows x 12 columns]"
            ]
          },
          "metadata": {},
          "execution_count": 19
        }
      ]
    },
    {
      "cell_type": "code",
      "metadata": {
        "colab": {
          "base_uri": "https://localhost:8080/",
          "height": 295
        },
        "id": "dTlqcwomcBIU",
        "outputId": "e36f78aa-af1f-4cf9-c6fe-51cbaf13b3c7"
      },
      "source": [
        "from sklearn.metrics import roc_curve\n",
        "fpr, tpr, thresholds = roc_curve(y_test, ann.predict(x_test))\n",
        "auc = roc_auc_score(y_test,ann.predict(x_test))\n",
        "plt.plot(fpr, tpr, label='%s ROC (area = %0.2f)' % ('ANN', auc))\n",
        "\n",
        "plt.plot([0, 1], [0, 1],'k--')\n",
        "plt.xlim([0.0, 1.0])\n",
        "plt.ylim([0.0, 1.05])\n",
        "plt.xlabel('False Positive Rate')\n",
        "plt.ylabel('True Positive Rate')\n",
        "plt.title('Receiver Operating Characteristic Curve')\n",
        "plt.legend(loc=\"lower right\")\n",
        "plt.show()"
      ],
      "execution_count": null,
      "outputs": [
        {
          "output_type": "display_data",
          "data": {
            "image/png": "[encoded data removed]",
            "text/plain": [
              "<Figure size 432x288 with 1 Axes>"
            ]
          },
          "metadata": {
            "needs_background": "light"
          }
        }
      ]
    },
    {
      "cell_type": "code",
      "metadata": {
        "colab": {
          "base_uri": "https://localhost:8080/",
          "height": 459
        },
        "id": "TW-GRGSHc-5L",
        "outputId": "f9097b77-13c3-4305-f771-57527b678eec"
      },
      "source": [
        "con_matrix = tf.math.confusion_matrix(labels=y_test,predictions=y_pred)\n",
        "plt.figure(figsize=(10,7))\n",
        "sns.heatmap(con_matrix,annot=True,fmt='d')\n",
        "plt.xlabel('Predicted Output')\n",
        "plt.ylabel('True Output')"
      ],
      "execution_count": null,
      "outputs": [
        {
          "output_type": "execute_result",
          "data": {
            "text/plain": [
              "Text(69.0, 0.5, 'True Output')"
            ]
          },
          "metadata": {},
          "execution_count": 21
        },
        {
          "output_type": "display_data",
          "data": {
            "image/png": "[encoded data removed]",
            "text/plain": [
              "<Figure size 720x504 with 2 Axes>"
            ]
          },
          "metadata": {
            "needs_background": "light"
          }
        }
      ]
    },
    {
      "cell_type": "code",
      "metadata": {
        "colab": {
          "base_uri": "https://localhost:8080/"
        },
        "id": "E6wdsc7sdEUb",
        "outputId": "fa88a7f1-e59f-4b6a-ffcc-8e78ad01a939"
      },
      "source": [
        "from sklearn.metrics import classification_report\n",
        "print(classification_report(y_test,y_pred))"
      ],
      "execution_count": null,
      "outputs": [
        {
          "output_type": "stream",
          "name": "stdout",
          "text": [
            "              precision    recall  f1-score   support\n",
            "\n",
            "           0       0.91      0.89      0.90       740\n",
            "           1       0.89      0.91      0.90       740\n",
            "\n",
            "    accuracy                           0.90      1480\n",
            "   macro avg       0.90      0.90      0.90      1480\n",
            "weighted avg       0.90      0.90      0.90      1480\n",
            "\n"
          ]
        }
      ]
    },
    {
      "cell_type": "markdown",
      "metadata": {
        "id": "lG5ktu7WfByb"
      },
      "source": [
        "### **MLP**"
      ]
    },
    {
      "cell_type": "code",
      "metadata": {
        "id": "sMUDeoRfdHWL"
      },
      "source": [
        "from sklearn.neural_network import MLPClassifier\n",
        "\n",
        "mlp = MLPClassifier(hidden_layer_sizes=(800,700),max_iter=8000,activation='relu')\n",
        "history = mlp.fit(x_train,y_train)"
      ],
      "execution_count": null,
      "outputs": []
    },
    {
      "cell_type": "code",
      "metadata": {
        "colab": {
          "base_uri": "https://localhost:8080/"
        },
        "id": "__6KZ_eEfLTz",
        "outputId": "ce5e7037-5919-40ec-91b3-08e17348497a"
      },
      "source": [
        "mlp.score(x_test,y_test)"
      ],
      "execution_count": null,
      "outputs": [
        {
          "output_type": "execute_result",
          "data": {
            "text/plain": [
              "0.8864864864864865"
            ]
          },
          "metadata": {},
          "execution_count": 24
        }
      ]
    },
    {
      "cell_type": "code",
      "metadata": {
        "colab": {
          "base_uri": "https://localhost:8080/"
        },
        "id": "48FOyQ3FhiUE",
        "outputId": "faa0e5d5-5718-4eb8-c8ec-b8ee2298f02c"
      },
      "source": [
        "y_pred = mlp.predict(x_test)\n",
        "y_pred"
      ],
      "execution_count": null,
      "outputs": [
        {
          "output_type": "execute_result",
          "data": {
            "text/plain": [
              "array([1, 0, 1, ..., 1, 1, 1])"
            ]
          },
          "metadata": {},
          "execution_count": 25
        }
      ]
    },
    {
      "cell_type": "code",
      "metadata": {
        "colab": {
          "base_uri": "https://localhost:8080/"
        },
        "id": "43aUFRzKhluq",
        "outputId": "8877776f-5174-439f-f803-47ab0fdd20fc"
      },
      "source": [
        "y_test[:20]"
      ],
      "execution_count": null,
      "outputs": [
        {
          "output_type": "execute_result",
          "data": {
            "text/plain": [
              "468     1\n",
              "113     0\n",
              "196     1\n",
              "4520    0\n",
              "1981    0\n",
              "1924    0\n",
              "1115    0\n",
              "2497    0\n",
              "6924    1\n",
              "4805    1\n",
              "2595    1\n",
              "3631    0\n",
              "3833    0\n",
              "47      0\n",
              "1464    0\n",
              "6474    1\n",
              "1815    0\n",
              "2716    0\n",
              "4510    0\n",
              "1974    1\n",
              "Name: good_credit, dtype: int64"
            ]
          },
          "metadata": {},
          "execution_count": 26
        }
      ]
    },
    {
      "cell_type": "code",
      "metadata": {
        "colab": {
          "base_uri": "https://localhost:8080/"
        },
        "id": "sqxDp34whnu5",
        "outputId": "4ee55efb-dbf8-49c9-ac13-841ce32af7fb"
      },
      "source": [
        "y_pred[:20]"
      ],
      "execution_count": null,
      "outputs": [
        {
          "output_type": "execute_result",
          "data": {
            "text/plain": [
              "array([1, 0, 1, 1, 0, 1, 0, 0, 1, 1, 0, 0, 0, 1, 0, 1, 0, 0, 0, 1])"
            ]
          },
          "metadata": {},
          "execution_count": 27
        }
      ]
    },
    {
      "cell_type": "code",
      "metadata": {
        "colab": {
          "base_uri": "https://localhost:8080/",
          "height": 110
        },
        "id": "QnLyjt_Jhp6J",
        "outputId": "6edaebc1-64b4-4c19-b782-73de0a216532"
      },
      "source": [
        "import math\n",
        "from sklearn.metrics import accuracy_score,precision_score,recall_score,f1_score,roc_auc_score,mean_absolute_error,mean_squared_error,matthews_corrcoef\n",
        "# accuracy: (tp + tn) / (p + n)\n",
        "\n",
        "accuracy = accuracy_score(y_test, y_pred)\n",
        "# precision tp / (tp + fp)\n",
        "precision = precision_score(y_test, y_pred)\n",
        "# recall: tp / (tp + fn)\n",
        "recall = recall_score(y_test, y_pred)\n",
        "# f1: 2 tp / (2 tp + fp + fn)\n",
        "f1 = f1_score(y_test, y_pred)\n",
        "\n",
        "auc = roc_auc_score(y_test, mlp.predict_proba(x_test)[:,1])\n",
        "mae = mean_absolute_error(y_test,y_pred)\n",
        "mse = mean_squared_error(y_test,y_pred)\n",
        "rmse = math.sqrt(mse)\n",
        "mcc = matthews_corrcoef(y_test,y_pred)\n",
        "\n",
        "results_deep_learning.append({\n",
        "    'model': \"MLP\",\n",
        "    # 'Training Loss': np.mean(history.history['loss']),\n",
        "    # 'Training Accuracy': np.mean(history.history['accuracy']),\n",
        "    # 'Testing Loss': scores[0],\n",
        "    'Accuracy_Score':accuracy,\n",
        "    'Precision': precision,\n",
        "    'Recall': recall,\n",
        "    'F1-Score': f1,\n",
        "    'AUC': auc,\n",
        "    'MAE': mae,\n",
        "    'RMSE': rmse,\n",
        "    'MCC': mcc\n",
        "})\n",
        "\n",
        "df = pd.DataFrame(results_deep_learning,columns = ['model','Training Loss','Training Accuracy','Testing Loss','Accuracy_Score','Precision','Recall','F1-Score','AUC','MAE','RMSE','MCC'])\n",
        "df"
      ],
      "execution_count": null,
      "outputs": [
        {
          "output_type": "execute_result",
          "data": {
            "text/html": [
              "<div>\n",
              "<style scoped>\n",
              "    .dataframe tbody tr th:only-of-type {\n",
              "        vertical-align: middle;\n",
              "    }\n",
              "\n",
              "    .dataframe tbody tr th {\n",
              "        vertical-align: top;\n",
              "    }\n",
              "\n",
              "    .dataframe thead th {\n",
              "        text-align: right;\n",
              "    }\n",
              "</style>\n",
              "<table border=\"1\" class=\"dataframe\">\n",
              "  <thead>\n",
              "    <tr style=\"text-align: right;\">\n",
              "      <th></th>\n",
              "      <th>model</th>\n",
              "      <th>Training Loss</th>\n",
              "      <th>Training Accuracy</th>\n",
              "      <th>Testing Loss</th>\n",
              "      <th>Accuracy_Score</th>\n",
              "      <th>Precision</th>\n",
              "      <th>Recall</th>\n",
              "      <th>F1-Score</th>\n",
              "      <th>AUC</th>\n",
              "      <th>MAE</th>\n",
              "      <th>RMSE</th>\n",
              "      <th>MCC</th>\n",
              "    </tr>\n",
              "  </thead>\n",
              "  <tbody>\n",
              "    <tr>\n",
              "      <th>0</th>\n",
              "      <td>ANN</td>\n",
              "      <td>0.122757</td>\n",
              "      <td>0.949795</td>\n",
              "      <td>0.625263</td>\n",
              "      <td>0.899324</td>\n",
              "      <td>0.892430</td>\n",
              "      <td>0.908108</td>\n",
              "      <td>0.900201</td>\n",
              "      <td>0.949425</td>\n",
              "      <td>0.100676</td>\n",
              "      <td>0.317294</td>\n",
              "      <td>0.798772</td>\n",
              "    </tr>\n",
              "    <tr>\n",
              "      <th>1</th>\n",
              "      <td>MLP</td>\n",
              "      <td>NaN</td>\n",
              "      <td>NaN</td>\n",
              "      <td>NaN</td>\n",
              "      <td>0.886486</td>\n",
              "      <td>0.874346</td>\n",
              "      <td>0.902703</td>\n",
              "      <td>0.888298</td>\n",
              "      <td>0.944779</td>\n",
              "      <td>0.113514</td>\n",
              "      <td>0.336918</td>\n",
              "      <td>0.773380</td>\n",
              "    </tr>\n",
              "  </tbody>\n",
              "</table>\n",
              "</div>"
            ],
            "text/plain": [
              "  model  Training Loss  Training Accuracy  ...       MAE      RMSE       MCC\n",
              "0   ANN       0.122757           0.949795  ...  0.100676  0.317294  0.798772\n",
              "1   MLP            NaN                NaN  ...  0.113514  0.336918  0.773380\n",
              "\n",
              "[2 rows x 12 columns]"
            ]
          },
          "metadata": {},
          "execution_count": 28
        }
      ]
    },
    {
      "cell_type": "code",
      "metadata": {
        "colab": {
          "base_uri": "https://localhost:8080/",
          "height": 295
        },
        "id": "wXemzxNJhxQx",
        "outputId": "2d2cf5d7-401d-4b61-9045-dfe544800182"
      },
      "source": [
        "from sklearn.metrics import roc_curve\n",
        "fpr, tpr, thresholds = roc_curve(y_test, mlp.predict_proba(x_test)[:,1])\n",
        "auc = roc_auc_score(y_test,mlp.predict_proba(x_test)[:,1])\n",
        "plt.plot(fpr, tpr, label='%s ROC (area = %0.2f)' % ('MLP', auc))\n",
        "\n",
        "plt.plot([0, 1], [0, 1],'k--')\n",
        "plt.xlim([0.0, 1.0])\n",
        "plt.ylim([0.0, 1.05])\n",
        "plt.xlabel('False Positive Rate')\n",
        "plt.ylabel('True Positive Rate')\n",
        "plt.title('Receiver Operating Characteristic Curve')\n",
        "plt.legend(loc=\"lower right\")\n",
        "plt.show()"
      ],
      "execution_count": null,
      "outputs": [
        {
          "output_type": "display_data",
          "data": {
            "image/png": "[encoded data removed]",
            "text/plain": [
              "<Figure size 432x288 with 1 Axes>"
            ]
          },
          "metadata": {
            "needs_background": "light"
          }
        }
      ]
    },
    {
      "cell_type": "code",
      "metadata": {
        "colab": {
          "base_uri": "https://localhost:8080/",
          "height": 459
        },
        "id": "0_RCX0zLh9kR",
        "outputId": "091c6b23-32f0-45f3-c0d2-392d3da76fed"
      },
      "source": [
        "con_matrix = tf.math.confusion_matrix(labels=y_test,predictions=y_pred)\n",
        "plt.figure(figsize=(10,7))\n",
        "sns.heatmap(con_matrix,annot=True,fmt='d')\n",
        "plt.xlabel('Predicted Output')\n",
        "plt.ylabel('True Output')"
      ],
      "execution_count": null,
      "outputs": [
        {
          "output_type": "execute_result",
          "data": {
            "text/plain": [
              "Text(69.0, 0.5, 'True Output')"
            ]
          },
          "metadata": {},
          "execution_count": 30
        },
        {
          "output_type": "display_data",
          "data": {
            "image/png": "[encoded data removed]",
            "text/plain": [
              "<Figure size 720x504 with 2 Axes>"
            ]
          },
          "metadata": {
            "needs_background": "light"
          }
        }
      ]
    },
    {
      "cell_type": "code",
      "metadata": {
        "colab": {
          "base_uri": "https://localhost:8080/"
        },
        "id": "DmBsPfJOiDo6",
        "outputId": "ae8d2c6e-7e14-47e2-b749-453d400cb2ab"
      },
      "source": [
        "from sklearn.metrics import classification_report\n",
        "print(classification_report(y_test,y_pred))"
      ],
      "execution_count": null,
      "outputs": [
        {
          "output_type": "stream",
          "name": "stdout",
          "text": [
            "              precision    recall  f1-score   support\n",
            "\n",
            "           0       0.90      0.87      0.88       740\n",
            "           1       0.87      0.90      0.89       740\n",
            "\n",
            "    accuracy                           0.89      1480\n",
            "   macro avg       0.89      0.89      0.89      1480\n",
            "weighted avg       0.89      0.89      0.89      1480\n",
            "\n"
          ]
        }
      ]
    },
    {
      "cell_type": "markdown",
      "metadata": {
        "id": "C-B3dg-QiONx"
      },
      "source": [
        "### **CNN**"
      ]
    },
    {
      "cell_type": "code",
      "metadata": {
        "colab": {
          "base_uri": "https://localhost:8080/"
        },
        "id": "_Ij8EnShiG5q",
        "outputId": "0ec1750c-d6cb-453c-c22a-0c8df57577de"
      },
      "source": [
        "print(x_train.shape)\n",
        "print(x_test.shape)"
      ],
      "execution_count": null,
      "outputs": [
        {
          "output_type": "stream",
          "name": "stdout",
          "text": [
            "(5916, 42)\n",
            "(1480, 42)\n"
          ]
        }
      ]
    },
    {
      "cell_type": "code",
      "metadata": {
        "colab": {
          "base_uri": "https://localhost:8080/"
        },
        "id": "Ma5U9-u-iLLB",
        "outputId": "83464a54-bf67-48f4-c322-e6c8e84c6aa3"
      },
      "source": [
        "x_train = x_train.reshape((len(x_train),42,1))\n",
        "x_train.shape"
      ],
      "execution_count": null,
      "outputs": [
        {
          "output_type": "execute_result",
          "data": {
            "text/plain": [
              "(5916, 42, 1)"
            ]
          },
          "metadata": {},
          "execution_count": 33
        }
      ]
    },
    {
      "cell_type": "code",
      "metadata": {
        "colab": {
          "base_uri": "https://localhost:8080/"
        },
        "id": "ZqW71tkeiSiZ",
        "outputId": "c0628c20-4251-4d48-9651-b66bd58a300b"
      },
      "source": [
        "x_test = x_test.reshape((len(x_test),42,1))\n",
        "x_test.shape"
      ],
      "execution_count": null,
      "outputs": [
        {
          "output_type": "execute_result",
          "data": {
            "text/plain": [
              "(1480, 42, 1)"
            ]
          },
          "metadata": {},
          "execution_count": 34
        }
      ]
    },
    {
      "cell_type": "code",
      "metadata": {
        "colab": {
          "base_uri": "https://localhost:8080/"
        },
        "id": "BCPP0BLjiZ4x",
        "outputId": "b0879c37-ad41-4993-904b-78443d497694"
      },
      "source": [
        "cnn = keras.Sequential([\n",
        "        keras.layers.Conv1D(filters=200,kernel_size=3,padding='same',activation='relu',input_shape=(42,1)),\n",
        "        keras.layers.MaxPooling1D((2,)),\n",
        "    \n",
        "        keras.layers.Conv1D(filters=100,kernel_size=3,padding='same',activation='relu'),\n",
        "        keras.layers.MaxPooling1D((2,)),                           \n",
        "        \n",
        "        keras.layers.Conv1D(filters=50,kernel_size=3,padding='same',activation='relu'),\n",
        "        keras.layers.MaxPooling1D((2,)),                           \n",
        "        \n",
        "        keras.layers.Conv1D(filters=30,kernel_size=3,padding='same',activation='relu'),\n",
        "        keras.layers.MaxPooling1D((2,)),\n",
        "\n",
        "        keras.layers.Flatten(),\n",
        "        keras.layers.Dense(500,activation='relu'),\n",
        "        keras.layers.Dense(1,activation='sigmoid'),                           \n",
        "])\n",
        "\n",
        "cnn.compile(loss='binary_crossentropy', optimizer='adam', metrics=['accuracy'])\n",
        "history = cnn.fit(x_train, y_train, epochs=100)"
      ],
      "execution_count": null,
      "outputs": [
        {
          "output_type": "stream",
          "name": "stdout",
          "text": [
            "Epoch 1/100\n",
            "185/185 [==============================] - 4s 18ms/step - loss: 0.5454 - accuracy: 0.7101\n",
            "Epoch 2/100\n",
            "185/185 [==============================] - 3s 18ms/step - loss: 0.4451 - accuracy: 0.7875\n",
            "Epoch 3/100\n",
            "185/185 [==============================] - 3s 18ms/step - loss: 0.4188 - accuracy: 0.8019\n",
            "Epoch 4/100\n",
            "185/185 [==============================] - 3s 18ms/step - loss: 0.4013 - accuracy: 0.8127\n",
            "Epoch 5/100\n",
            "185/185 [==============================] - 3s 19ms/step - loss: 0.3765 - accuracy: 0.8281\n",
            "Epoch 6/100\n",
            "185/185 [==============================] - 3s 18ms/step - loss: 0.3572 - accuracy: 0.8425\n",
            "Epoch 7/100\n",
            "185/185 [==============================] - 3s 18ms/step - loss: 0.3452 - accuracy: 0.8469\n",
            "Epoch 8/100\n",
            "185/185 [==============================] - 3s 17ms/step - loss: 0.3311 - accuracy: 0.8553\n",
            "Epoch 9/100\n",
            "185/185 [==============================] - 4s 19ms/step - loss: 0.3190 - accuracy: 0.8595\n",
            "Epoch 10/100\n",
            "185/185 [==============================] - 3s 18ms/step - loss: 0.3118 - accuracy: 0.8697\n",
            "Epoch 11/100\n",
            "185/185 [==============================] - 3s 18ms/step - loss: 0.2951 - accuracy: 0.8734\n",
            "Epoch 12/100\n",
            "185/185 [==============================] - 3s 17ms/step - loss: 0.2733 - accuracy: 0.8861\n",
            "Epoch 13/100\n",
            "185/185 [==============================] - 3s 18ms/step - loss: 0.2644 - accuracy: 0.8874\n",
            "Epoch 14/100\n",
            "185/185 [==============================] - 4s 19ms/step - loss: 0.2578 - accuracy: 0.8930\n",
            "Epoch 15/100\n",
            "185/185 [==============================] - 3s 18ms/step - loss: 0.2475 - accuracy: 0.8906\n",
            "Epoch 16/100\n",
            "185/185 [==============================] - 3s 18ms/step - loss: 0.2414 - accuracy: 0.9016\n",
            "Epoch 17/100\n",
            "185/185 [==============================] - 3s 19ms/step - loss: 0.2215 - accuracy: 0.9052\n",
            "Epoch 18/100\n",
            "185/185 [==============================] - 3s 18ms/step - loss: 0.2086 - accuracy: 0.9148\n",
            "Epoch 19/100\n",
            "185/185 [==============================] - 3s 18ms/step - loss: 0.2100 - accuracy: 0.9146\n",
            "Epoch 20/100\n",
            "185/185 [==============================] - 3s 19ms/step - loss: 0.2030 - accuracy: 0.9160\n",
            "Epoch 21/100\n",
            "185/185 [==============================] - 4s 19ms/step - loss: 0.1907 - accuracy: 0.9212\n",
            "Epoch 22/100\n",
            "185/185 [==============================] - 4s 19ms/step - loss: 0.1877 - accuracy: 0.9216\n",
            "Epoch 23/100\n",
            "185/185 [==============================] - 4s 19ms/step - loss: 0.2036 - accuracy: 0.9192\n",
            "Epoch 24/100\n",
            "185/185 [==============================] - 3s 18ms/step - loss: 0.1801 - accuracy: 0.9258\n",
            "Epoch 25/100\n",
            "185/185 [==============================] - 3s 18ms/step - loss: 0.1622 - accuracy: 0.9337\n",
            "Epoch 26/100\n",
            "185/185 [==============================] - 3s 19ms/step - loss: 0.1638 - accuracy: 0.9326\n",
            "Epoch 27/100\n",
            "185/185 [==============================] - 3s 19ms/step - loss: 0.1564 - accuracy: 0.9375\n",
            "Epoch 28/100\n",
            "185/185 [==============================] - 3s 18ms/step - loss: 0.1597 - accuracy: 0.9381\n",
            "Epoch 29/100\n",
            "185/185 [==============================] - 3s 18ms/step - loss: 0.1438 - accuracy: 0.9415\n",
            "Epoch 30/100\n",
            "185/185 [==============================] - 3s 17ms/step - loss: 0.1397 - accuracy: 0.9451\n",
            "Epoch 31/100\n",
            "185/185 [==============================] - 3s 19ms/step - loss: 0.1345 - accuracy: 0.9442\n",
            "Epoch 32/100\n",
            "185/185 [==============================] - 4s 19ms/step - loss: 0.1286 - accuracy: 0.9471\n",
            "Epoch 33/100\n",
            "185/185 [==============================] - 4s 19ms/step - loss: 0.1327 - accuracy: 0.9434\n",
            "Epoch 34/100\n",
            "185/185 [==============================] - 4s 20ms/step - loss: 0.1165 - accuracy: 0.9530\n",
            "Epoch 35/100\n",
            "185/185 [==============================] - 4s 20ms/step - loss: 0.1221 - accuracy: 0.9478\n",
            "Epoch 36/100\n",
            "185/185 [==============================] - 4s 19ms/step - loss: 0.1215 - accuracy: 0.9510\n",
            "Epoch 37/100\n",
            "185/185 [==============================] - 3s 18ms/step - loss: 0.1183 - accuracy: 0.9501\n",
            "Epoch 38/100\n",
            "185/185 [==============================] - 3s 18ms/step - loss: 0.1039 - accuracy: 0.9549\n",
            "Epoch 39/100\n",
            "185/185 [==============================] - 4s 19ms/step - loss: 0.1002 - accuracy: 0.9591\n",
            "Epoch 40/100\n",
            "185/185 [==============================] - 4s 19ms/step - loss: 0.1188 - accuracy: 0.9550\n",
            "Epoch 41/100\n",
            "185/185 [==============================] - 3s 19ms/step - loss: 0.1113 - accuracy: 0.9562\n",
            "Epoch 42/100\n",
            "185/185 [==============================] - 3s 19ms/step - loss: 0.0932 - accuracy: 0.9613\n",
            "Epoch 43/100\n",
            "185/185 [==============================] - 3s 19ms/step - loss: 0.1155 - accuracy: 0.9569\n",
            "Epoch 44/100\n",
            "185/185 [==============================] - 3s 18ms/step - loss: 0.0844 - accuracy: 0.9664\n",
            "Epoch 45/100\n",
            "185/185 [==============================] - 4s 20ms/step - loss: 0.1069 - accuracy: 0.9572\n",
            "Epoch 46/100\n",
            "185/185 [==============================] - 4s 19ms/step - loss: 0.1038 - accuracy: 0.9586\n",
            "Epoch 47/100\n",
            "185/185 [==============================] - 3s 19ms/step - loss: 0.0884 - accuracy: 0.9669\n",
            "Epoch 48/100\n",
            "185/185 [==============================] - 3s 18ms/step - loss: 0.0837 - accuracy: 0.9674\n",
            "Epoch 49/100\n",
            "185/185 [==============================] - 3s 18ms/step - loss: 0.0704 - accuracy: 0.9714\n",
            "Epoch 50/100\n",
            "185/185 [==============================] - 3s 18ms/step - loss: 0.0865 - accuracy: 0.9672\n",
            "Epoch 51/100\n",
            "185/185 [==============================] - 4s 19ms/step - loss: 0.0872 - accuracy: 0.9667\n",
            "Epoch 52/100\n",
            "185/185 [==============================] - 3s 19ms/step - loss: 0.0719 - accuracy: 0.9706\n",
            "Epoch 53/100\n",
            "185/185 [==============================] - 4s 20ms/step - loss: 0.0632 - accuracy: 0.9770\n",
            "Epoch 54/100\n",
            "185/185 [==============================] - 4s 20ms/step - loss: 0.0951 - accuracy: 0.9645\n",
            "Epoch 55/100\n",
            "185/185 [==============================] - 3s 19ms/step - loss: 0.1059 - accuracy: 0.9593\n",
            "Epoch 56/100\n",
            "185/185 [==============================] - 3s 18ms/step - loss: 0.0704 - accuracy: 0.9743\n",
            "Epoch 57/100\n",
            "185/185 [==============================] - 4s 19ms/step - loss: 0.0664 - accuracy: 0.9748\n",
            "Epoch 58/100\n",
            "185/185 [==============================] - 3s 19ms/step - loss: 0.0621 - accuracy: 0.9768\n",
            "Epoch 59/100\n",
            "185/185 [==============================] - 4s 19ms/step - loss: 0.0795 - accuracy: 0.9677\n",
            "Epoch 60/100\n",
            "185/185 [==============================] - 4s 19ms/step - loss: 0.0800 - accuracy: 0.9687\n",
            "Epoch 61/100\n",
            "185/185 [==============================] - 3s 19ms/step - loss: 0.0693 - accuracy: 0.9730\n",
            "Epoch 62/100\n",
            "185/185 [==============================] - 4s 20ms/step - loss: 0.0799 - accuracy: 0.9699\n",
            "Epoch 63/100\n",
            "185/185 [==============================] - 3s 19ms/step - loss: 0.0623 - accuracy: 0.9755\n",
            "Epoch 64/100\n",
            "185/185 [==============================] - 3s 19ms/step - loss: 0.0502 - accuracy: 0.9787\n",
            "Epoch 65/100\n",
            "185/185 [==============================] - 3s 19ms/step - loss: 0.0617 - accuracy: 0.9801\n",
            "Epoch 66/100\n",
            "185/185 [==============================] - 3s 19ms/step - loss: 0.0873 - accuracy: 0.9670\n",
            "Epoch 67/100\n",
            "185/185 [==============================] - 3s 19ms/step - loss: 0.0555 - accuracy: 0.9787\n",
            "Epoch 68/100\n",
            "185/185 [==============================] - 4s 20ms/step - loss: 0.0484 - accuracy: 0.9809\n",
            "Epoch 69/100\n",
            "185/185 [==============================] - 3s 19ms/step - loss: 0.0514 - accuracy: 0.9799\n",
            "Epoch 70/100\n",
            "185/185 [==============================] - 3s 19ms/step - loss: 0.0869 - accuracy: 0.9667\n",
            "Epoch 71/100\n",
            "185/185 [==============================] - 3s 18ms/step - loss: 0.0599 - accuracy: 0.9785\n",
            "Epoch 72/100\n",
            "185/185 [==============================] - 3s 18ms/step - loss: 0.0566 - accuracy: 0.9782\n",
            "Epoch 73/100\n",
            "185/185 [==============================] - 4s 20ms/step - loss: 0.0503 - accuracy: 0.9817\n",
            "Epoch 74/100\n",
            "185/185 [==============================] - 4s 19ms/step - loss: 0.0593 - accuracy: 0.9780\n",
            "Epoch 75/100\n",
            "185/185 [==============================] - 3s 18ms/step - loss: 0.0624 - accuracy: 0.9758\n",
            "Epoch 76/100\n",
            "185/185 [==============================] - 3s 18ms/step - loss: 0.1173 - accuracy: 0.9632\n",
            "Epoch 77/100\n",
            "185/185 [==============================] - 3s 19ms/step - loss: 0.0648 - accuracy: 0.9746\n",
            "Epoch 78/100\n",
            "185/185 [==============================] - 4s 19ms/step - loss: 0.0545 - accuracy: 0.9811\n",
            "Epoch 79/100\n",
            "185/185 [==============================] - 4s 20ms/step - loss: 0.0512 - accuracy: 0.9804\n",
            "Epoch 80/100\n",
            "185/185 [==============================] - 3s 19ms/step - loss: 0.0373 - accuracy: 0.9858\n",
            "Epoch 81/100\n",
            "185/185 [==============================] - 3s 19ms/step - loss: 0.0369 - accuracy: 0.9853\n",
            "Epoch 82/100\n",
            "185/185 [==============================] - 4s 19ms/step - loss: 0.0282 - accuracy: 0.9877\n",
            "Epoch 83/100\n",
            "185/185 [==============================] - 4s 20ms/step - loss: 0.0377 - accuracy: 0.9861\n",
            "Epoch 84/100\n",
            "185/185 [==============================] - 3s 19ms/step - loss: 0.0433 - accuracy: 0.9816\n",
            "Epoch 85/100\n",
            "185/185 [==============================] - 4s 19ms/step - loss: 0.0358 - accuracy: 0.9855\n",
            "Epoch 86/100\n",
            "185/185 [==============================] - 4s 19ms/step - loss: 0.0711 - accuracy: 0.9772\n",
            "Epoch 87/100\n",
            "185/185 [==============================] - 3s 19ms/step - loss: 0.0787 - accuracy: 0.9699\n",
            "Epoch 88/100\n",
            "185/185 [==============================] - 3s 19ms/step - loss: 0.0432 - accuracy: 0.9834\n",
            "Epoch 89/100\n",
            "185/185 [==============================] - 4s 19ms/step - loss: 0.0343 - accuracy: 0.9873\n",
            "Epoch 90/100\n",
            "185/185 [==============================] - 3s 18ms/step - loss: 0.0400 - accuracy: 0.9846\n",
            "Epoch 91/100\n",
            "185/185 [==============================] - 3s 18ms/step - loss: 0.0429 - accuracy: 0.9839\n",
            "Epoch 92/100\n",
            "185/185 [==============================] - 3s 18ms/step - loss: 0.0250 - accuracy: 0.9904\n",
            "Epoch 93/100\n",
            "185/185 [==============================] - 3s 18ms/step - loss: 0.0383 - accuracy: 0.9855\n",
            "Epoch 94/100\n",
            "185/185 [==============================] - 4s 19ms/step - loss: 0.0411 - accuracy: 0.9846\n",
            "Epoch 95/100\n",
            "185/185 [==============================] - 3s 18ms/step - loss: 0.0655 - accuracy: 0.9748\n",
            "Epoch 96/100\n",
            "185/185 [==============================] - 3s 18ms/step - loss: 0.0449 - accuracy: 0.9839\n",
            "Epoch 97/100\n",
            "185/185 [==============================] - 4s 19ms/step - loss: 0.0330 - accuracy: 0.9875\n",
            "Epoch 98/100\n",
            "185/185 [==============================] - 3s 18ms/step - loss: 0.0392 - accuracy: 0.9872\n",
            "Epoch 99/100\n",
            "185/185 [==============================] - 3s 18ms/step - loss: 0.0725 - accuracy: 0.9789\n",
            "Epoch 100/100\n",
            "185/185 [==============================] - 3s 18ms/step - loss: 0.0437 - accuracy: 0.9824\n"
          ]
        }
      ]
    },
    {
      "cell_type": "code",
      "metadata": {
        "colab": {
          "base_uri": "https://localhost:8080/"
        },
        "id": "p39HP_fRidDJ",
        "outputId": "c918ad48-2d66-4de3-cd1d-cbb92ac4af2c"
      },
      "source": [
        "import numpy as np\n",
        "loss = np.mean(history.history['loss'])\n",
        "accuracy = np.mean(history.history['accuracy'])\n",
        "print(\"Training Loss: \",loss)\n",
        "print(\"Training Accuracy: \",accuracy)"
      ],
      "execution_count": null,
      "outputs": [
        {
          "output_type": "stream",
          "name": "stdout",
          "text": [
            "Training Loss:  0.13046738026663662\n",
            "Training Accuracy:  0.9454411774873733\n"
          ]
        }
      ]
    },
    {
      "cell_type": "code",
      "metadata": {
        "colab": {
          "base_uri": "https://localhost:8080/",
          "height": 516
        },
        "id": "fb-qZ7AQjxC4",
        "outputId": "10122a38-379b-4bf3-99a1-40ac80d18c66"
      },
      "source": [
        "acc = history.history['accuracy']\n",
        "loss = history.history['loss']\n",
        "plt.figure(figsize=(15,8))\n",
        "plt.subplot(1,2,1)\n",
        "plt.plot(range(100),acc,label='Training Accuracy')\n",
        "plt.legend(loc='lower right')\n",
        "plt.title(\"Training Accuracy\")\n",
        "\n",
        "plt.subplot(1,2,2)\n",
        "plt.plot(range(100),loss,label='Training Loss')\n",
        "plt.legend(loc='upper right')\n",
        "plt.title(\"Training Loss\")"
      ],
      "execution_count": null,
      "outputs": [
        {
          "output_type": "execute_result",
          "data": {
            "text/plain": [
              "Text(0.5, 1.0, 'Training Loss')"
            ]
          },
          "metadata": {},
          "execution_count": 37
        },
        {
          "output_type": "display_data",
          "data": {
            "image/png": "[encoded data removed]",
            "text/plain": [
              "<Figure size 1080x576 with 2 Axes>"
            ]
          },
          "metadata": {
            "needs_background": "light"
          }
        }
      ]
    },
    {
      "cell_type": "code",
      "metadata": {
        "colab": {
          "base_uri": "https://localhost:8080/"
        },
        "id": "X5dKHHCOj6bJ",
        "outputId": "dd63324d-fa1d-4d7e-b0fb-d8b8f511a6de"
      },
      "source": [
        "cnn.evaluate(x_test, y_test)"
      ],
      "execution_count": null,
      "outputs": [
        {
          "output_type": "stream",
          "name": "stdout",
          "text": [
            "47/47 [==============================] - 0s 6ms/step - loss: 0.6389 - accuracy: 0.8878\n"
          ]
        },
        {
          "output_type": "execute_result",
          "data": {
            "text/plain": [
              "[0.638944149017334, 0.887837827205658]"
            ]
          },
          "metadata": {},
          "execution_count": 38
        }
      ]
    },
    {
      "cell_type": "code",
      "metadata": {
        "colab": {
          "base_uri": "https://localhost:8080/"
        },
        "id": "ARGKFQ4ikSKo",
        "outputId": "41b9e796-9ac1-4cf8-8843-303056c4199d"
      },
      "source": [
        "y_pred = cnn.predict(x_test)\n",
        "y_pred"
      ],
      "execution_count": null,
      "outputs": [
        {
          "output_type": "execute_result",
          "data": {
            "text/plain": [
              "array([[9.6443456e-01],\n",
              "       [1.0537152e-06],\n",
              "       [1.0000000e+00],\n",
              "       ...,\n",
              "       [9.9972540e-01],\n",
              "       [9.8914802e-01],\n",
              "       [1.0000000e+00]], dtype=float32)"
            ]
          },
          "metadata": {},
          "execution_count": 39
        }
      ]
    },
    {
      "cell_type": "code",
      "metadata": {
        "colab": {
          "base_uri": "https://localhost:8080/"
        },
        "id": "PVAlxJCPkXVI",
        "outputId": "b8564f4a-8249-49d7-d341-bfe86de8add3"
      },
      "source": [
        "y_pred = np.round(y_pred)\n",
        "y_pred"
      ],
      "execution_count": null,
      "outputs": [
        {
          "output_type": "execute_result",
          "data": {
            "text/plain": [
              "array([[1.],\n",
              "       [0.],\n",
              "       [1.],\n",
              "       ...,\n",
              "       [1.],\n",
              "       [1.],\n",
              "       [1.]], dtype=float32)"
            ]
          },
          "metadata": {},
          "execution_count": 40
        }
      ]
    },
    {
      "cell_type": "code",
      "metadata": {
        "colab": {
          "base_uri": "https://localhost:8080/"
        },
        "id": "-qbBftlLkbNA",
        "outputId": "943981ff-d2a4-4c87-d4ca-4d3fd128283e"
      },
      "source": [
        "y_pred = y_pred[:,0]\n",
        "y_pred"
      ],
      "execution_count": null,
      "outputs": [
        {
          "output_type": "execute_result",
          "data": {
            "text/plain": [
              "array([1., 0., 1., ..., 1., 1., 1.], dtype=float32)"
            ]
          },
          "metadata": {},
          "execution_count": 41
        }
      ]
    },
    {
      "cell_type": "code",
      "metadata": {
        "colab": {
          "base_uri": "https://localhost:8080/"
        },
        "id": "H11do_cskmQI",
        "outputId": "5fb98110-2e11-4a7c-ac96-18f3477c4bd2"
      },
      "source": [
        "y_test[:20]"
      ],
      "execution_count": null,
      "outputs": [
        {
          "output_type": "execute_result",
          "data": {
            "text/plain": [
              "468     1\n",
              "113     0\n",
              "196     1\n",
              "4520    0\n",
              "1981    0\n",
              "1924    0\n",
              "1115    0\n",
              "2497    0\n",
              "6924    1\n",
              "4805    1\n",
              "2595    1\n",
              "3631    0\n",
              "3833    0\n",
              "47      0\n",
              "1464    0\n",
              "6474    1\n",
              "1815    0\n",
              "2716    0\n",
              "4510    0\n",
              "1974    1\n",
              "Name: good_credit, dtype: int64"
            ]
          },
          "metadata": {},
          "execution_count": 42
        }
      ]
    },
    {
      "cell_type": "code",
      "metadata": {
        "colab": {
          "base_uri": "https://localhost:8080/"
        },
        "id": "DZZ66qx0kpYQ",
        "outputId": "0bf2397c-961b-40e5-a0b7-8d8f1193b3ee"
      },
      "source": [
        "y_pred[:20]"
      ],
      "execution_count": null,
      "outputs": [
        {
          "output_type": "execute_result",
          "data": {
            "text/plain": [
              "array([1., 0., 1., 1., 0., 0., 0., 0., 1., 1., 0., 0., 0., 0., 0., 1., 0.,\n",
              "       0., 0., 1.], dtype=float32)"
            ]
          },
          "metadata": {},
          "execution_count": 43
        }
      ]
    },
    {
      "cell_type": "code",
      "metadata": {
        "colab": {
          "base_uri": "https://localhost:8080/",
          "height": 158
        },
        "id": "wWXZM2H0kr6Q",
        "outputId": "69203da8-7038-48c0-a704-922b508b1b27"
      },
      "source": [
        "import math\n",
        "from sklearn.metrics import accuracy_score,precision_score,recall_score,f1_score,roc_auc_score,mean_absolute_error,mean_squared_error,matthews_corrcoef\n",
        "# accuracy: (tp + tn) / (p + n)\n",
        "scores = cnn.evaluate(x_test,y_test)\n",
        "\n",
        "accuracy = accuracy_score(y_test, y_pred)\n",
        "# precision tp / (tp + fp)\n",
        "precision = precision_score(y_test, y_pred)\n",
        "# recall: tp / (tp + fn)\n",
        "recall = recall_score(y_test, y_pred)\n",
        "# f1: 2 tp / (2 tp + fp + fn)\n",
        "f1 = f1_score(y_test, y_pred)\n",
        "\n",
        "auc = roc_auc_score(y_test, cnn.predict(x_test))\n",
        "mae = mean_absolute_error(y_test,y_pred)\n",
        "mse = mean_squared_error(y_test,y_pred)\n",
        "rmse = math.sqrt(mse)\n",
        "mcc = matthews_corrcoef(y_test,y_pred)\n",
        "\n",
        "results_deep_learning.append({\n",
        "    'model': \"CNN\",\n",
        "    'Training Loss': np.mean(history.history['loss']),\n",
        "    'Training Accuracy': np.mean(history.history['accuracy']),\n",
        "    'Testing Loss': scores[0],\n",
        "    'Accuracy_Score':accuracy,\n",
        "    'Precision': precision,\n",
        "    'Recall': recall,\n",
        "    'F1-Score': f1,\n",
        "    'AUC': auc,\n",
        "    'MAE': mae,\n",
        "    'RMSE': rmse,\n",
        "    'MCC': mcc\n",
        "})\n",
        "\n",
        "df = pd.DataFrame(results_deep_learning,columns = ['model','Training Loss','Training Accuracy','Testing Loss','Accuracy_Score','Precision','Recall','F1-Score','AUC','MAE','RMSE','MCC'])\n",
        "df"
      ],
      "execution_count": null,
      "outputs": [
        {
          "output_type": "stream",
          "name": "stdout",
          "text": [
            "47/47 [==============================] - 0s 5ms/step - loss: 0.6389 - accuracy: 0.8878\n"
          ]
        },
        {
          "output_type": "execute_result",
          "data": {
            "text/html": [
              "<div>\n",
              "<style scoped>\n",
              "    .dataframe tbody tr th:only-of-type {\n",
              "        vertical-align: middle;\n",
              "    }\n",
              "\n",
              "    .dataframe tbody tr th {\n",
              "        vertical-align: top;\n",
              "    }\n",
              "\n",
              "    .dataframe thead th {\n",
              "        text-align: right;\n",
              "    }\n",
              "</style>\n",
              "<table border=\"1\" class=\"dataframe\">\n",
              "  <thead>\n",
              "    <tr style=\"text-align: right;\">\n",
              "      <th></th>\n",
              "      <th>model</th>\n",
              "      <th>Training Loss</th>\n",
              "      <th>Training Accuracy</th>\n",
              "      <th>Testing Loss</th>\n",
              "      <th>Accuracy_Score</th>\n",
              "      <th>Precision</th>\n",
              "      <th>Recall</th>\n",
              "      <th>F1-Score</th>\n",
              "      <th>AUC</th>\n",
              "      <th>MAE</th>\n",
              "      <th>RMSE</th>\n",
              "      <th>MCC</th>\n",
              "    </tr>\n",
              "  </thead>\n",
              "  <tbody>\n",
              "    <tr>\n",
              "      <th>0</th>\n",
              "      <td>ANN</td>\n",
              "      <td>0.122757</td>\n",
              "      <td>0.949795</td>\n",
              "      <td>0.625263</td>\n",
              "      <td>0.899324</td>\n",
              "      <td>0.892430</td>\n",
              "      <td>0.908108</td>\n",
              "      <td>0.900201</td>\n",
              "      <td>0.949425</td>\n",
              "      <td>0.100676</td>\n",
              "      <td>0.317294</td>\n",
              "      <td>0.798772</td>\n",
              "    </tr>\n",
              "    <tr>\n",
              "      <th>1</th>\n",
              "      <td>MLP</td>\n",
              "      <td>NaN</td>\n",
              "      <td>NaN</td>\n",
              "      <td>NaN</td>\n",
              "      <td>0.886486</td>\n",
              "      <td>0.874346</td>\n",
              "      <td>0.902703</td>\n",
              "      <td>0.888298</td>\n",
              "      <td>0.944779</td>\n",
              "      <td>0.113514</td>\n",
              "      <td>0.336918</td>\n",
              "      <td>0.773380</td>\n",
              "    </tr>\n",
              "    <tr>\n",
              "      <th>2</th>\n",
              "      <td>CNN</td>\n",
              "      <td>0.130467</td>\n",
              "      <td>0.945441</td>\n",
              "      <td>0.638944</td>\n",
              "      <td>0.887838</td>\n",
              "      <td>0.894231</td>\n",
              "      <td>0.879730</td>\n",
              "      <td>0.886921</td>\n",
              "      <td>0.948784</td>\n",
              "      <td>0.112162</td>\n",
              "      <td>0.334906</td>\n",
              "      <td>0.775778</td>\n",
              "    </tr>\n",
              "  </tbody>\n",
              "</table>\n",
              "</div>"
            ],
            "text/plain": [
              "  model  Training Loss  Training Accuracy  ...       MAE      RMSE       MCC\n",
              "0   ANN       0.122757           0.949795  ...  0.100676  0.317294  0.798772\n",
              "1   MLP            NaN                NaN  ...  0.113514  0.336918  0.773380\n",
              "2   CNN       0.130467           0.945441  ...  0.112162  0.334906  0.775778\n",
              "\n",
              "[3 rows x 12 columns]"
            ]
          },
          "metadata": {},
          "execution_count": 44
        }
      ]
    },
    {
      "cell_type": "code",
      "metadata": {
        "colab": {
          "base_uri": "https://localhost:8080/",
          "height": 295
        },
        "id": "NWall7vwkzP3",
        "outputId": "b9dc6089-4c44-4b12-cbfe-625a886c2566"
      },
      "source": [
        "from sklearn.metrics import roc_curve\n",
        "fpr, tpr, thresholds = roc_curve(y_test, cnn.predict(x_test))\n",
        "auc = roc_auc_score(y_test,cnn.predict(x_test))\n",
        "plt.plot(fpr, tpr, label='%s ROC (area = %0.2f)' % ('CNN', auc))\n",
        "\n",
        "plt.plot([0, 1], [0, 1],'k--')\n",
        "plt.xlim([0.0, 1.0])\n",
        "plt.ylim([0.0, 1.05])\n",
        "plt.xlabel('False Positive Rate')\n",
        "plt.ylabel('True Positive Rate')\n",
        "plt.title('Receiver Operating Characteristic Curve')\n",
        "plt.legend(loc=\"lower right\")\n",
        "plt.show()"
      ],
      "execution_count": null,
      "outputs": [
        {
          "output_type": "display_data",
          "data": {
            "image/png": "[encoded data removed]",
            "text/plain": [
              "<Figure size 432x288 with 1 Axes>"
            ]
          },
          "metadata": {
            "needs_background": "light"
          }
        }
      ]
    },
    {
      "cell_type": "code",
      "metadata": {
        "colab": {
          "base_uri": "https://localhost:8080/",
          "height": 459
        },
        "id": "qDr521Wwk67_",
        "outputId": "fd0a9547-2007-49b5-8060-0338d427e792"
      },
      "source": [
        "con_matrix = tf.math.confusion_matrix(labels=y_test,predictions=y_pred)\n",
        "plt.figure(figsize=(10,7))\n",
        "sns.heatmap(con_matrix,annot=True,fmt='d')\n",
        "plt.xlabel('Predicted Output')\n",
        "plt.ylabel('True Output')"
      ],
      "execution_count": null,
      "outputs": [
        {
          "output_type": "execute_result",
          "data": {
            "text/plain": [
              "Text(69.0, 0.5, 'True Output')"
            ]
          },
          "metadata": {},
          "execution_count": 46
        },
        {
          "output_type": "display_data",
          "data": {
            "image/png": "[encoded data removed]",
            "text/plain": [
              "<Figure size 720x504 with 2 Axes>"
            ]
          },
          "metadata": {
            "needs_background": "light"
          }
        }
      ]
    },
    {
      "cell_type": "code",
      "metadata": {
        "colab": {
          "base_uri": "https://localhost:8080/"
        },
        "id": "rwulhkHAk99A",
        "outputId": "aa4c02f0-87a2-4e16-bb13-fa19070314c0"
      },
      "source": [
        "from sklearn.metrics import classification_report\n",
        "print(classification_report(y_test,y_pred))"
      ],
      "execution_count": null,
      "outputs": [
        {
          "output_type": "stream",
          "name": "stdout",
          "text": [
            "              precision    recall  f1-score   support\n",
            "\n",
            "           0       0.88      0.90      0.89       740\n",
            "           1       0.89      0.88      0.89       740\n",
            "\n",
            "    accuracy                           0.89      1480\n",
            "   macro avg       0.89      0.89      0.89      1480\n",
            "weighted avg       0.89      0.89      0.89      1480\n",
            "\n"
          ]
        }
      ]
    },
    {
      "cell_type": "markdown",
      "metadata": {
        "id": "S2PasLwhl_Gw"
      },
      "source": [
        "### **RNN**"
      ]
    },
    {
      "cell_type": "code",
      "metadata": {
        "colab": {
          "base_uri": "https://localhost:8080/"
        },
        "id": "XA1pa562lBTw",
        "outputId": "a913c867-cb7a-49a7-eb73-c87311a2649b"
      },
      "source": [
        "rnn = keras.Sequential([\n",
        "        keras.layers.SimpleRNN(500,input_shape=(42,1),activation='relu'),\n",
        "        keras.layers.Dense(500,activation='relu'),\n",
        "        keras.layers.Dense(1,activation='sigmoid'),                            \n",
        "])\n",
        "\n",
        "rnn.compile(loss='binary_crossentropy', optimizer='adam', metrics=['accuracy'])\n",
        "history = rnn.fit(x_train, y_train, epochs=100)"
      ],
      "execution_count": null,
      "outputs": [
        {
          "output_type": "stream",
          "name": "stdout",
          "text": [
            "Epoch 1/100\n",
            "185/185 [==============================] - 21s 105ms/step - loss: 0.5900 - accuracy: 0.6753\n",
            "Epoch 2/100\n",
            "185/185 [==============================] - 19s 105ms/step - loss: 0.5505 - accuracy: 0.6979\n",
            "Epoch 3/100\n",
            "185/185 [==============================] - 20s 107ms/step - loss: 0.5440 - accuracy: 0.7006\n",
            "Epoch 4/100\n",
            "185/185 [==============================] - 20s 109ms/step - loss: 0.5350 - accuracy: 0.7115\n",
            "Epoch 5/100\n",
            "185/185 [==============================] - 20s 108ms/step - loss: 0.5243 - accuracy: 0.7140\n",
            "Epoch 6/100\n",
            "185/185 [==============================] - 19s 104ms/step - loss: 0.5238 - accuracy: 0.7213\n",
            "Epoch 7/100\n",
            "185/185 [==============================] - 20s 108ms/step - loss: 0.5149 - accuracy: 0.7245\n",
            "Epoch 8/100\n",
            "185/185 [==============================] - 20s 107ms/step - loss: 0.5084 - accuracy: 0.7245\n",
            "Epoch 9/100\n",
            "185/185 [==============================] - 20s 105ms/step - loss: 0.5005 - accuracy: 0.7392\n",
            "Epoch 10/100\n",
            "185/185 [==============================] - 20s 109ms/step - loss: 0.5048 - accuracy: 0.7388\n",
            "Epoch 11/100\n",
            "185/185 [==============================] - 20s 106ms/step - loss: 0.4906 - accuracy: 0.7422\n",
            "Epoch 12/100\n",
            "185/185 [==============================] - 20s 109ms/step - loss: 0.4841 - accuracy: 0.7492\n",
            "Epoch 13/100\n",
            "185/185 [==============================] - 19s 105ms/step - loss: 0.4790 - accuracy: 0.7530\n",
            "Epoch 14/100\n",
            "185/185 [==============================] - 20s 108ms/step - loss: 0.5029 - accuracy: 0.7436\n",
            "Epoch 15/100\n",
            "185/185 [==============================] - 20s 107ms/step - loss: 0.4742 - accuracy: 0.7563\n",
            "Epoch 16/100\n",
            "185/185 [==============================] - 20s 107ms/step - loss: 0.4728 - accuracy: 0.7552\n",
            "Epoch 17/100\n",
            "185/185 [==============================] - 20s 108ms/step - loss: 0.4666 - accuracy: 0.7613\n",
            "Epoch 18/100\n",
            "185/185 [==============================] - 20s 108ms/step - loss: 0.4815 - accuracy: 0.7559\n",
            "Epoch 19/100\n",
            "185/185 [==============================] - 20s 107ms/step - loss: 0.4693 - accuracy: 0.7644\n",
            "Epoch 20/100\n",
            "185/185 [==============================] - 20s 107ms/step - loss: 0.4744 - accuracy: 0.7581\n",
            "Epoch 21/100\n",
            "185/185 [==============================] - 20s 108ms/step - loss: 0.4566 - accuracy: 0.7691\n",
            "Epoch 22/100\n",
            "185/185 [==============================] - 20s 107ms/step - loss: 0.4481 - accuracy: 0.7797\n",
            "Epoch 23/100\n",
            "185/185 [==============================] - 20s 109ms/step - loss: 0.4496 - accuracy: 0.7730\n",
            "Epoch 24/100\n",
            "185/185 [==============================] - 20s 108ms/step - loss: 0.4487 - accuracy: 0.7769\n",
            "Epoch 25/100\n",
            "185/185 [==============================] - 20s 110ms/step - loss: 0.4514 - accuracy: 0.7762\n",
            "Epoch 26/100\n",
            "185/185 [==============================] - 21s 113ms/step - loss: 0.4368 - accuracy: 0.7862\n",
            "Epoch 27/100\n",
            "185/185 [==============================] - 21s 112ms/step - loss: 0.4346 - accuracy: 0.7884\n",
            "Epoch 28/100\n",
            "185/185 [==============================] - 20s 111ms/step - loss: 0.4351 - accuracy: 0.7809\n",
            "Epoch 29/100\n",
            "185/185 [==============================] - 21s 111ms/step - loss: 0.4240 - accuracy: 0.7919\n",
            "Epoch 30/100\n",
            "185/185 [==============================] - 21s 113ms/step - loss: 0.4164 - accuracy: 0.7955\n",
            "Epoch 31/100\n",
            "185/185 [==============================] - 21s 112ms/step - loss: 0.4190 - accuracy: 0.7945\n",
            "Epoch 32/100\n",
            "185/185 [==============================] - 20s 109ms/step - loss: 0.4233 - accuracy: 0.7945\n",
            "Epoch 33/100\n",
            "185/185 [==============================] - 21s 115ms/step - loss: 0.4144 - accuracy: 0.7977\n",
            "Epoch 34/100\n",
            "185/185 [==============================] - 21s 111ms/step - loss: 0.4172 - accuracy: 0.7978\n",
            "Epoch 35/100\n",
            "185/185 [==============================] - 20s 110ms/step - loss: 0.4036 - accuracy: 0.8034\n",
            "Epoch 36/100\n",
            "185/185 [==============================] - 20s 107ms/step - loss: 0.4172 - accuracy: 0.7992\n",
            "Epoch 37/100\n",
            "185/185 [==============================] - 20s 108ms/step - loss: 0.4146 - accuracy: 0.7995\n",
            "Epoch 38/100\n",
            "185/185 [==============================] - 20s 109ms/step - loss: 0.4215 - accuracy: 0.7929\n",
            "Epoch 39/100\n",
            "185/185 [==============================] - 20s 108ms/step - loss: 0.4276 - accuracy: 0.7921\n",
            "Epoch 40/100\n",
            "185/185 [==============================] - 20s 108ms/step - loss: 0.4187 - accuracy: 0.7892\n",
            "Epoch 41/100\n",
            "185/185 [==============================] - 20s 108ms/step - loss: 0.4126 - accuracy: 0.7958\n",
            "Epoch 42/100\n",
            "185/185 [==============================] - 20s 107ms/step - loss: 0.4983 - accuracy: 0.7818\n",
            "Epoch 43/100\n",
            "185/185 [==============================] - 20s 106ms/step - loss: 0.4326 - accuracy: 0.7796\n",
            "Epoch 44/100\n",
            "185/185 [==============================] - 20s 109ms/step - loss: 0.4040 - accuracy: 0.8027\n",
            "Epoch 45/100\n",
            "185/185 [==============================] - 23s 123ms/step - loss: 0.3911 - accuracy: 0.8109\n",
            "Epoch 46/100\n",
            "185/185 [==============================] - 20s 108ms/step - loss: 0.3895 - accuracy: 0.8142\n",
            "Epoch 47/100\n",
            "185/185 [==============================] - 19s 105ms/step - loss: 0.4024 - accuracy: 0.8085\n",
            "Epoch 48/100\n",
            "185/185 [==============================] - 20s 107ms/step - loss: 0.3931 - accuracy: 0.8103\n",
            "Epoch 49/100\n",
            "185/185 [==============================] - 20s 106ms/step - loss: 0.3905 - accuracy: 0.8122\n",
            "Epoch 50/100\n",
            "185/185 [==============================] - 20s 110ms/step - loss: 0.3786 - accuracy: 0.8196\n",
            "Epoch 51/100\n",
            "185/185 [==============================] - 20s 108ms/step - loss: 0.3798 - accuracy: 0.8203\n",
            "Epoch 52/100\n",
            "185/185 [==============================] - 20s 110ms/step - loss: 0.3746 - accuracy: 0.8230\n",
            "Epoch 53/100\n",
            "185/185 [==============================] - 20s 107ms/step - loss: 0.3697 - accuracy: 0.8251\n",
            "Epoch 54/100\n",
            "185/185 [==============================] - 21s 111ms/step - loss: 0.3683 - accuracy: 0.8293\n",
            "Epoch 55/100\n",
            "185/185 [==============================] - 20s 106ms/step - loss: 0.3687 - accuracy: 0.8281\n",
            "Epoch 56/100\n",
            "185/185 [==============================] - 19s 105ms/step - loss: 0.3773 - accuracy: 0.8168\n",
            "Epoch 57/100\n",
            "185/185 [==============================] - 21s 113ms/step - loss: 0.3731 - accuracy: 0.8222\n",
            "Epoch 58/100\n",
            "185/185 [==============================] - 20s 108ms/step - loss: 0.3582 - accuracy: 0.8294\n",
            "Epoch 59/100\n",
            "185/185 [==============================] - 19s 105ms/step - loss: 0.3794 - accuracy: 0.8180\n",
            "Epoch 60/100\n",
            "185/185 [==============================] - 21s 112ms/step - loss: 0.3770 - accuracy: 0.8234\n",
            "Epoch 61/100\n",
            "185/185 [==============================] - 20s 109ms/step - loss: 0.3759 - accuracy: 0.8244\n",
            "Epoch 62/100\n",
            "185/185 [==============================] - 21s 111ms/step - loss: 0.3528 - accuracy: 0.8352\n",
            "Epoch 63/100\n",
            "185/185 [==============================] - 20s 108ms/step - loss: 0.3727 - accuracy: 0.8244\n",
            "Epoch 64/100\n",
            "185/185 [==============================] - 20s 109ms/step - loss: 0.3824 - accuracy: 0.8227\n",
            "Epoch 65/100\n",
            "185/185 [==============================] - 21s 115ms/step - loss: 0.3535 - accuracy: 0.8392\n",
            "Epoch 66/100\n",
            "185/185 [==============================] - 21s 113ms/step - loss: 0.3450 - accuracy: 0.8357\n",
            "Epoch 67/100\n",
            "185/185 [==============================] - 20s 108ms/step - loss: 0.3539 - accuracy: 0.8376\n",
            "Epoch 68/100\n",
            "185/185 [==============================] - 20s 110ms/step - loss: 0.3554 - accuracy: 0.8396\n",
            "Epoch 69/100\n",
            "185/185 [==============================] - 21s 112ms/step - loss: 0.3319 - accuracy: 0.8504\n",
            "Epoch 70/100\n",
            "185/185 [==============================] - 20s 110ms/step - loss: 0.3281 - accuracy: 0.8479\n",
            "Epoch 71/100\n",
            "185/185 [==============================] - 21s 114ms/step - loss: 0.3301 - accuracy: 0.8531\n",
            "Epoch 72/100\n",
            "185/185 [==============================] - 21s 114ms/step - loss: 0.3337 - accuracy: 0.8501\n",
            "Epoch 73/100\n",
            "185/185 [==============================] - 21s 111ms/step - loss: 0.3235 - accuracy: 0.8546\n",
            "Epoch 74/100\n",
            "185/185 [==============================] - 19s 105ms/step - loss: 0.3360 - accuracy: 0.8440\n",
            "Epoch 75/100\n",
            "185/185 [==============================] - 20s 106ms/step - loss: 0.3119 - accuracy: 0.8594\n",
            "Epoch 76/100\n",
            "185/185 [==============================] - 19s 104ms/step - loss: 0.3292 - accuracy: 0.8546\n",
            "Epoch 77/100\n",
            "185/185 [==============================] - 19s 105ms/step - loss: 0.3263 - accuracy: 0.8531\n",
            "Epoch 78/100\n",
            "185/185 [==============================] - 20s 108ms/step - loss: 0.3164 - accuracy: 0.8556\n",
            "Epoch 79/100\n",
            "185/185 [==============================] - 20s 106ms/step - loss: 0.3237 - accuracy: 0.8519\n",
            "Epoch 80/100\n",
            "185/185 [==============================] - 20s 110ms/step - loss: 0.3097 - accuracy: 0.8599\n",
            "Epoch 81/100\n",
            "185/185 [==============================] - 20s 111ms/step - loss: 0.3170 - accuracy: 0.8533\n",
            "Epoch 82/100\n",
            "185/185 [==============================] - 21s 112ms/step - loss: 0.3873 - accuracy: 0.8171\n",
            "Epoch 83/100\n",
            "185/185 [==============================] - 21s 112ms/step - loss: 0.3409 - accuracy: 0.8438\n",
            "Epoch 84/100\n",
            "185/185 [==============================] - 21s 114ms/step - loss: 0.3323 - accuracy: 0.8426\n",
            "Epoch 85/100\n",
            "185/185 [==============================] - 20s 108ms/step - loss: 0.3233 - accuracy: 0.8513\n",
            "Epoch 86/100\n",
            "185/185 [==============================] - 20s 111ms/step - loss: 0.3171 - accuracy: 0.8529\n",
            "Epoch 87/100\n",
            "185/185 [==============================] - 20s 110ms/step - loss: 0.3194 - accuracy: 0.8518\n",
            "Epoch 88/100\n",
            "185/185 [==============================] - 20s 110ms/step - loss: 0.3016 - accuracy: 0.8609\n",
            "Epoch 89/100\n",
            "185/185 [==============================] - 21s 114ms/step - loss: 0.3073 - accuracy: 0.8634\n",
            "Epoch 90/100\n",
            "185/185 [==============================] - 22s 121ms/step - loss: 0.3217 - accuracy: 0.8536\n",
            "Epoch 91/100\n",
            "185/185 [==============================] - 22s 118ms/step - loss: 0.3125 - accuracy: 0.8573\n",
            "Epoch 92/100\n",
            "185/185 [==============================] - 21s 114ms/step - loss: 0.3184 - accuracy: 0.8545\n",
            "Epoch 93/100\n",
            "185/185 [==============================] - 21s 114ms/step - loss: 0.3054 - accuracy: 0.8622\n",
            "Epoch 94/100\n",
            "185/185 [==============================] - 24s 131ms/step - loss: 0.3082 - accuracy: 0.8589\n",
            "Epoch 95/100\n",
            "185/185 [==============================] - 24s 130ms/step - loss: 0.3158 - accuracy: 0.8509\n",
            "Epoch 96/100\n",
            "185/185 [==============================] - 22s 119ms/step - loss: 0.2959 - accuracy: 0.8688\n",
            "Epoch 97/100\n",
            "185/185 [==============================] - 24s 132ms/step - loss: 0.2882 - accuracy: 0.8719\n",
            "Epoch 98/100\n",
            "185/185 [==============================] - 24s 131ms/step - loss: 0.2824 - accuracy: 0.8712\n",
            "Epoch 99/100\n",
            "185/185 [==============================] - 23s 127ms/step - loss: 0.3199 - accuracy: 0.8558\n",
            "Epoch 100/100\n",
            "185/185 [==============================] - 21s 113ms/step - loss: 0.3065 - accuracy: 0.8658\n"
          ]
        }
      ]
    },
    {
      "cell_type": "code",
      "metadata": {
        "colab": {
          "base_uri": "https://localhost:8080/"
        },
        "id": "oKfpz2-umI_I",
        "outputId": "d1704d82-32d9-4c46-a112-8f7646e7c5b6"
      },
      "source": [
        "import numpy as np\n",
        "loss = np.mean(history.history['loss'])\n",
        "accuracy = np.mean(history.history['accuracy'])\n",
        "print(\"Training Loss: \",loss)\n",
        "print(\"Training Accuracy: \",accuracy)"
      ],
      "execution_count": null,
      "outputs": [
        {
          "output_type": "stream",
          "name": "stdout",
          "text": [
            "Training Loss:  0.39601056307554244\n",
            "Training Accuracy:  0.8073782914876938\n"
          ]
        }
      ]
    },
    {
      "cell_type": "code",
      "metadata": {
        "colab": {
          "base_uri": "https://localhost:8080/",
          "height": 516
        },
        "id": "ty1alEB94WkA",
        "outputId": "b53869dd-c089-4381-afbf-40b39d49eae6"
      },
      "source": [
        "acc = history.history['accuracy']\n",
        "loss = history.history['loss']\n",
        "plt.figure(figsize=(15,8))\n",
        "plt.subplot(1,2,1)\n",
        "plt.plot(range(100),acc,label='Training Accuracy')\n",
        "plt.legend(loc='lower right')\n",
        "plt.title(\"Training Accuracy\")\n",
        "\n",
        "plt.subplot(1,2,2)\n",
        "plt.plot(range(100),loss,label='Training Loss')\n",
        "plt.legend(loc='upper right')\n",
        "plt.title(\"Training Loss\")"
      ],
      "execution_count": null,
      "outputs": [
        {
          "output_type": "execute_result",
          "data": {
            "text/plain": [
              "Text(0.5, 1.0, 'Training Loss')"
            ]
          },
          "metadata": {},
          "execution_count": 50
        },
        {
          "output_type": "display_data",
          "data": {
            "image/png": "[encoded data removed]",
            "text/plain": [
              "<Figure size 1080x576 with 2 Axes>"
            ]
          },
          "metadata": {
            "needs_background": "light"
          }
        }
      ]
    },
    {
      "cell_type": "code",
      "metadata": {
        "colab": {
          "base_uri": "https://localhost:8080/"
        },
        "id": "daoAHVXN4JuZ",
        "outputId": "39ab8f71-c161-435f-b53e-b9d1e6ae22c3"
      },
      "source": [
        "rnn.evaluate(x_test, y_test)"
      ],
      "execution_count": null,
      "outputs": [
        {
          "output_type": "stream",
          "name": "stdout",
          "text": [
            "47/47 [==============================] - 2s 37ms/step - loss: 0.4812 - accuracy: 0.7953\n"
          ]
        },
        {
          "output_type": "execute_result",
          "data": {
            "text/plain": [
              "[0.48115476965904236, 0.7952702641487122]"
            ]
          },
          "metadata": {},
          "execution_count": 51
        }
      ]
    },
    {
      "cell_type": "code",
      "metadata": {
        "colab": {
          "base_uri": "https://localhost:8080/"
        },
        "id": "TRcyQgUt5Pt4",
        "outputId": "0f799e69-f712-4a36-fa5f-06ec8b4d1aea"
      },
      "source": [
        "y_pred = rnn.predict(x_test)\n",
        "y_pred"
      ],
      "execution_count": null,
      "outputs": [
        {
          "output_type": "execute_result",
          "data": {
            "text/plain": [
              "array([[0.7915573 ],\n",
              "       [0.70438755],\n",
              "       [0.99999976],\n",
              "       ...,\n",
              "       [0.38848397],\n",
              "       [0.09141219],\n",
              "       [0.9999975 ]], dtype=float32)"
            ]
          },
          "metadata": {},
          "execution_count": 52
        }
      ]
    },
    {
      "cell_type": "code",
      "metadata": {
        "colab": {
          "base_uri": "https://localhost:8080/"
        },
        "id": "11Gb24nA5fGL",
        "outputId": "354aff9e-bb0a-42a0-e9e6-a748cba0e046"
      },
      "source": [
        "y_pred = np.round(y_pred)\n",
        "y_pred"
      ],
      "execution_count": null,
      "outputs": [
        {
          "output_type": "execute_result",
          "data": {
            "text/plain": [
              "array([[1.],\n",
              "       [1.],\n",
              "       [1.],\n",
              "       ...,\n",
              "       [0.],\n",
              "       [0.],\n",
              "       [1.]], dtype=float32)"
            ]
          },
          "metadata": {},
          "execution_count": 53
        }
      ]
    },
    {
      "cell_type": "code",
      "metadata": {
        "colab": {
          "base_uri": "https://localhost:8080/"
        },
        "id": "ntNyqrMz5jGQ",
        "outputId": "e8eec823-9dd5-44d2-fb7d-963e20aa27f6"
      },
      "source": [
        "y_pred = y_pred[:,0]\n",
        "y_pred"
      ],
      "execution_count": null,
      "outputs": [
        {
          "output_type": "execute_result",
          "data": {
            "text/plain": [
              "array([1., 1., 1., ..., 0., 0., 1.], dtype=float32)"
            ]
          },
          "metadata": {},
          "execution_count": 54
        }
      ]
    },
    {
      "cell_type": "code",
      "metadata": {
        "colab": {
          "base_uri": "https://localhost:8080/"
        },
        "id": "IQb8WQRI5lvQ",
        "outputId": "a9165f12-e529-497d-b8cf-96931ca6e5ed"
      },
      "source": [
        "y_test[:20]"
      ],
      "execution_count": null,
      "outputs": [
        {
          "output_type": "execute_result",
          "data": {
            "text/plain": [
              "468     1\n",
              "113     0\n",
              "196     1\n",
              "4520    0\n",
              "1981    0\n",
              "1924    0\n",
              "1115    0\n",
              "2497    0\n",
              "6924    1\n",
              "4805    1\n",
              "2595    1\n",
              "3631    0\n",
              "3833    0\n",
              "47      0\n",
              "1464    0\n",
              "6474    1\n",
              "1815    0\n",
              "2716    0\n",
              "4510    0\n",
              "1974    1\n",
              "Name: good_credit, dtype: int64"
            ]
          },
          "metadata": {},
          "execution_count": 55
        }
      ]
    },
    {
      "cell_type": "code",
      "metadata": {
        "colab": {
          "base_uri": "https://localhost:8080/"
        },
        "id": "Wd1YAAQf5oNw",
        "outputId": "17e5629b-df22-4790-d1d6-6bb3dcdaea50"
      },
      "source": [
        "y_pred[:20]"
      ],
      "execution_count": null,
      "outputs": [
        {
          "output_type": "execute_result",
          "data": {
            "text/plain": [
              "array([1., 1., 1., 0., 0., 1., 0., 0., 0., 1., 1., 0., 0., 1., 1., 1., 0.,\n",
              "       0., 0., 0.], dtype=float32)"
            ]
          },
          "metadata": {},
          "execution_count": 56
        }
      ]
    },
    {
      "cell_type": "code",
      "metadata": {
        "colab": {
          "base_uri": "https://localhost:8080/",
          "height": 189
        },
        "id": "1PS6oVm55qMw",
        "outputId": "53d7f949-3b88-4ab6-f3ee-571b94b35d03"
      },
      "source": [
        "import math\n",
        "from sklearn.metrics import accuracy_score,precision_score,recall_score,f1_score,roc_auc_score,mean_absolute_error,mean_squared_error,matthews_corrcoef\n",
        "# accuracy: (tp + tn) / (p + n)\n",
        "scores = rnn.evaluate(x_test,y_test)\n",
        "\n",
        "accuracy = accuracy_score(y_test, y_pred)\n",
        "# precision tp / (tp + fp)\n",
        "precision = precision_score(y_test, y_pred)\n",
        "# recall: tp / (tp + fn)\n",
        "recall = recall_score(y_test, y_pred)\n",
        "# f1: 2 tp / (2 tp + fp + fn)\n",
        "f1 = f1_score(y_test, y_pred)\n",
        "\n",
        "auc = roc_auc_score(y_test, rnn.predict(x_test))\n",
        "mae = mean_absolute_error(y_test,y_pred)\n",
        "mse = mean_squared_error(y_test,y_pred)\n",
        "rmse = math.sqrt(mse)\n",
        "mcc = matthews_corrcoef(y_test,y_pred)\n",
        "\n",
        "results_deep_learning.append({\n",
        "    'model': \"RNN\",\n",
        "    'Training Loss': np.mean(history.history['loss']),\n",
        "    'Training Accuracy': np.mean(history.history['accuracy']),\n",
        "    'Testing Loss': scores[0],\n",
        "    'Accuracy_Score':accuracy,\n",
        "    'Precision': precision,\n",
        "    'Recall': recall,\n",
        "    'F1-Score': f1,\n",
        "    'AUC': auc,\n",
        "    'MAE': mae,\n",
        "    'RMSE': rmse,\n",
        "    'MCC': mcc\n",
        "})\n",
        "\n",
        "df = pd.DataFrame(results_deep_learning,columns = ['model','Training Loss','Training Accuracy','Testing Loss','Accuracy_Score','Precision','Recall','F1-Score','AUC','MAE','RMSE','MCC'])\n",
        "df"
      ],
      "execution_count": null,
      "outputs": [
        {
          "output_type": "stream",
          "name": "stdout",
          "text": [
            "47/47 [==============================] - 2s 36ms/step - loss: 0.4812 - accuracy: 0.7953\n"
          ]
        },
        {
          "output_type": "execute_result",
          "data": {
            "text/html": [
              "<div>\n",
              "<style scoped>\n",
              "    .dataframe tbody tr th:only-of-type {\n",
              "        vertical-align: middle;\n",
              "    }\n",
              "\n",
              "    .dataframe tbody tr th {\n",
              "        vertical-align: top;\n",
              "    }\n",
              "\n",
              "    .dataframe thead th {\n",
              "        text-align: right;\n",
              "    }\n",
              "</style>\n",
              "<table border=\"1\" class=\"dataframe\">\n",
              "  <thead>\n",
              "    <tr style=\"text-align: right;\">\n",
              "      <th></th>\n",
              "      <th>model</th>\n",
              "      <th>Training Loss</th>\n",
              "      <th>Training Accuracy</th>\n",
              "      <th>Testing Loss</th>\n",
              "      <th>Accuracy_Score</th>\n",
              "      <th>Precision</th>\n",
              "      <th>Recall</th>\n",
              "      <th>F1-Score</th>\n",
              "      <th>AUC</th>\n",
              "      <th>MAE</th>\n",
              "      <th>RMSE</th>\n",
              "      <th>MCC</th>\n",
              "    </tr>\n",
              "  </thead>\n",
              "  <tbody>\n",
              "    <tr>\n",
              "      <th>0</th>\n",
              "      <td>ANN</td>\n",
              "      <td>0.122757</td>\n",
              "      <td>0.949795</td>\n",
              "      <td>0.625263</td>\n",
              "      <td>0.899324</td>\n",
              "      <td>0.892430</td>\n",
              "      <td>0.908108</td>\n",
              "      <td>0.900201</td>\n",
              "      <td>0.949425</td>\n",
              "      <td>0.100676</td>\n",
              "      <td>0.317294</td>\n",
              "      <td>0.798772</td>\n",
              "    </tr>\n",
              "    <tr>\n",
              "      <th>1</th>\n",
              "      <td>MLP</td>\n",
              "      <td>NaN</td>\n",
              "      <td>NaN</td>\n",
              "      <td>NaN</td>\n",
              "      <td>0.886486</td>\n",
              "      <td>0.874346</td>\n",
              "      <td>0.902703</td>\n",
              "      <td>0.888298</td>\n",
              "      <td>0.944779</td>\n",
              "      <td>0.113514</td>\n",
              "      <td>0.336918</td>\n",
              "      <td>0.773380</td>\n",
              "    </tr>\n",
              "    <tr>\n",
              "      <th>2</th>\n",
              "      <td>CNN</td>\n",
              "      <td>0.130467</td>\n",
              "      <td>0.945441</td>\n",
              "      <td>0.638944</td>\n",
              "      <td>0.887838</td>\n",
              "      <td>0.894231</td>\n",
              "      <td>0.879730</td>\n",
              "      <td>0.886921</td>\n",
              "      <td>0.948784</td>\n",
              "      <td>0.112162</td>\n",
              "      <td>0.334906</td>\n",
              "      <td>0.775778</td>\n",
              "    </tr>\n",
              "    <tr>\n",
              "      <th>3</th>\n",
              "      <td>RNN</td>\n",
              "      <td>0.396011</td>\n",
              "      <td>0.807378</td>\n",
              "      <td>0.481155</td>\n",
              "      <td>0.795270</td>\n",
              "      <td>0.820852</td>\n",
              "      <td>0.755405</td>\n",
              "      <td>0.786770</td>\n",
              "      <td>0.867286</td>\n",
              "      <td>0.204730</td>\n",
              "      <td>0.452471</td>\n",
              "      <td>0.592427</td>\n",
              "    </tr>\n",
              "  </tbody>\n",
              "</table>\n",
              "</div>"
            ],
            "text/plain": [
              "  model  Training Loss  Training Accuracy  ...       MAE      RMSE       MCC\n",
              "0   ANN       0.122757           0.949795  ...  0.100676  0.317294  0.798772\n",
              "1   MLP            NaN                NaN  ...  0.113514  0.336918  0.773380\n",
              "2   CNN       0.130467           0.945441  ...  0.112162  0.334906  0.775778\n",
              "3   RNN       0.396011           0.807378  ...  0.204730  0.452471  0.592427\n",
              "\n",
              "[4 rows x 12 columns]"
            ]
          },
          "metadata": {},
          "execution_count": 57
        }
      ]
    },
    {
      "cell_type": "code",
      "metadata": {
        "colab": {
          "base_uri": "https://localhost:8080/",
          "height": 295
        },
        "id": "ggNSrhKO5vL4",
        "outputId": "1650f693-e02b-4b93-d27d-4c83d963f523"
      },
      "source": [
        "from sklearn.metrics import roc_curve\n",
        "fpr, tpr, thresholds = roc_curve(y_test, rnn.predict(x_test))\n",
        "auc = roc_auc_score(y_test,rnn.predict(x_test))\n",
        "plt.plot(fpr, tpr, label='%s ROC (area = %0.2f)' % ('RNN', auc))\n",
        "\n",
        "plt.plot([0, 1], [0, 1],'k--')\n",
        "plt.xlim([0.0, 1.0])\n",
        "plt.ylim([0.0, 1.05])\n",
        "plt.xlabel('False Positive Rate')\n",
        "plt.ylabel('True Positive Rate')\n",
        "plt.title('Receiver Operating Characteristic Curve')\n",
        "plt.legend(loc=\"lower right\")\n",
        "plt.show()"
      ],
      "execution_count": null,
      "outputs": [
        {
          "output_type": "display_data",
          "data": {
            "image/png": "[encoded data removed]",
            "text/plain": [
              "<Figure size 432x288 with 1 Axes>"
            ]
          },
          "metadata": {
            "needs_background": "light"
          }
        }
      ]
    },
    {
      "cell_type": "code",
      "metadata": {
        "colab": {
          "base_uri": "https://localhost:8080/",
          "height": 459
        },
        "id": "Ia29MHyb58jg",
        "outputId": "1a8f8d05-411d-4be3-ea8f-8eeec9a16752"
      },
      "source": [
        "con_matrix = tf.math.confusion_matrix(labels=y_test,predictions=y_pred)\n",
        "plt.figure(figsize=(10,7))\n",
        "sns.heatmap(con_matrix,annot=True,fmt='d')\n",
        "plt.xlabel('Predicted Output')\n",
        "plt.ylabel('True Output')"
      ],
      "execution_count": null,
      "outputs": [
        {
          "output_type": "execute_result",
          "data": {
            "text/plain": [
              "Text(69.0, 0.5, 'True Output')"
            ]
          },
          "metadata": {},
          "execution_count": 59
        },
        {
          "output_type": "display_data",
          "data": {
            "image/png": "[encoded data removed]",
            "text/plain": [
              "<Figure size 720x504 with 2 Axes>"
            ]
          },
          "metadata": {
            "needs_background": "light"
          }
        }
      ]
    },
    {
      "cell_type": "code",
      "metadata": {
        "colab": {
          "base_uri": "https://localhost:8080/"
        },
        "id": "8QeQhnQV6ABA",
        "outputId": "1e89eeed-ea0b-419b-e6aa-f5a53743b12b"
      },
      "source": [
        "from sklearn.metrics import classification_report\n",
        "print(classification_report(y_test,y_pred))"
      ],
      "execution_count": null,
      "outputs": [
        {
          "output_type": "stream",
          "name": "stdout",
          "text": [
            "              precision    recall  f1-score   support\n",
            "\n",
            "           0       0.77      0.84      0.80       740\n",
            "           1       0.82      0.76      0.79       740\n",
            "\n",
            "    accuracy                           0.80      1480\n",
            "   macro avg       0.80      0.80      0.79      1480\n",
            "weighted avg       0.80      0.80      0.79      1480\n",
            "\n"
          ]
        }
      ]
    },
    {
      "cell_type": "markdown",
      "metadata": {
        "id": "5vfReSxW7XFf"
      },
      "source": [
        "### **LSTM**"
      ]
    },
    {
      "cell_type": "code",
      "metadata": {
        "colab": {
          "base_uri": "https://localhost:8080/"
        },
        "id": "Vu20Juvj6Cxo",
        "outputId": "6b44e1b2-d1b3-451f-a3b2-685f7f9079c2"
      },
      "source": [
        "lstm = keras.Sequential([\n",
        "        keras.layers.Dense(512,kernel_initializer='uniform',input_shape=(42,1)),                    \n",
        "        keras.layers.LSTM(64,return_sequences=True,dropout=0.1, recurrent_dropout=0.1,activation='relu'),                  \n",
        "        keras.layers.LSTM(64,activation='relu'),                  \n",
        "        keras.layers.Dense(64, activation='relu'),\n",
        "        keras.layers.Dropout(0.2),\n",
        "        keras.layers.Dense(1, activation='sigmoid')                  \n",
        "])\n",
        "\n",
        "lstm.compile(optimizer='adam', loss='binary_crossentropy', metrics=['accuracy'])\n",
        "history = lstm.fit(x_train, y_train, epochs=100)"
      ],
      "execution_count": null,
      "outputs": [
        {
          "output_type": "stream",
          "name": "stdout",
          "text": [
            "Epoch 1/100\n",
            "185/185 [==============================] - 38s 180ms/step - loss: 0.6532 - accuracy: 0.6285\n",
            "Epoch 2/100\n",
            "185/185 [==============================] - 33s 178ms/step - loss: 0.5717 - accuracy: 0.6875\n",
            "Epoch 3/100\n",
            "185/185 [==============================] - 33s 177ms/step - loss: 0.6142 - accuracy: 0.6751\n",
            "Epoch 4/100\n",
            "185/185 [==============================] - 33s 179ms/step - loss: 0.5508 - accuracy: 0.7005\n",
            "Epoch 5/100\n",
            "185/185 [==============================] - 33s 179ms/step - loss: 0.5241 - accuracy: 0.7020\n",
            "Epoch 6/100\n",
            "185/185 [==============================] - 33s 181ms/step - loss: 0.5161 - accuracy: 0.7211\n",
            "Epoch 7/100\n",
            "185/185 [==============================] - 34s 182ms/step - loss: 0.5171 - accuracy: 0.7230\n",
            "Epoch 8/100\n",
            "185/185 [==============================] - 33s 178ms/step - loss: 0.5043 - accuracy: 0.7253\n",
            "Epoch 9/100\n",
            "185/185 [==============================] - 34s 181ms/step - loss: 0.4966 - accuracy: 0.7333\n",
            "Epoch 10/100\n",
            "185/185 [==============================] - 34s 182ms/step - loss: 0.5837 - accuracy: 0.6670\n",
            "Epoch 11/100\n",
            "185/185 [==============================] - 34s 181ms/step - loss: 0.5346 - accuracy: 0.7123\n",
            "Epoch 12/100\n",
            "185/185 [==============================] - 33s 181ms/step - loss: 0.5109 - accuracy: 0.7181\n",
            "Epoch 13/100\n",
            "185/185 [==============================] - 34s 181ms/step - loss: 0.4971 - accuracy: 0.7304\n",
            "Epoch 14/100\n",
            "185/185 [==============================] - 33s 180ms/step - loss: 0.4875 - accuracy: 0.7415\n",
            "Epoch 15/100\n",
            "185/185 [==============================] - 33s 180ms/step - loss: 0.4743 - accuracy: 0.7547\n",
            "Epoch 16/100\n",
            "185/185 [==============================] - 34s 184ms/step - loss: 0.4686 - accuracy: 0.7628\n",
            "Epoch 17/100\n",
            "185/185 [==============================] - 35s 192ms/step - loss: 0.4649 - accuracy: 0.7711\n",
            "Epoch 18/100\n",
            "185/185 [==============================] - 35s 187ms/step - loss: 0.4641 - accuracy: 0.7671\n",
            "Epoch 19/100\n",
            "185/185 [==============================] - 34s 185ms/step - loss: 0.4575 - accuracy: 0.7748\n",
            "Epoch 20/100\n",
            "185/185 [==============================] - 33s 179ms/step - loss: 0.4491 - accuracy: 0.7830\n",
            "Epoch 21/100\n",
            "185/185 [==============================] - 33s 176ms/step - loss: 0.4445 - accuracy: 0.7874\n",
            "Epoch 22/100\n",
            "185/185 [==============================] - 33s 177ms/step - loss: 0.4372 - accuracy: 0.7934\n",
            "Epoch 23/100\n",
            "185/185 [==============================] - 33s 179ms/step - loss: 0.4283 - accuracy: 0.8004\n",
            "Epoch 24/100\n",
            "185/185 [==============================] - 34s 181ms/step - loss: 0.4320 - accuracy: 0.7978\n",
            "Epoch 25/100\n",
            "185/185 [==============================] - 35s 187ms/step - loss: 0.4186 - accuracy: 0.8036\n",
            "Epoch 26/100\n",
            "185/185 [==============================] - 36s 194ms/step - loss: 0.4157 - accuracy: 0.8049\n",
            "Epoch 27/100\n",
            "185/185 [==============================] - 35s 188ms/step - loss: 0.4173 - accuracy: 0.8071\n",
            "Epoch 28/100\n",
            "185/185 [==============================] - 38s 204ms/step - loss: 0.4132 - accuracy: 0.8044\n",
            "Epoch 29/100\n",
            "185/185 [==============================] - 36s 195ms/step - loss: 0.4055 - accuracy: 0.8124\n",
            "Epoch 30/100\n",
            "185/185 [==============================] - 35s 190ms/step - loss: 0.3963 - accuracy: 0.8147\n",
            "Epoch 31/100\n",
            "185/185 [==============================] - 37s 202ms/step - loss: 0.4002 - accuracy: 0.8146\n",
            "Epoch 32/100\n",
            "185/185 [==============================] - 37s 201ms/step - loss: 0.3897 - accuracy: 0.8181\n",
            "Epoch 33/100\n",
            "185/185 [==============================] - 37s 199ms/step - loss: 0.3963 - accuracy: 0.8132\n",
            "Epoch 34/100\n",
            "185/185 [==============================] - 37s 200ms/step - loss: 0.3909 - accuracy: 0.8244\n",
            "Epoch 35/100\n",
            "185/185 [==============================] - 36s 194ms/step - loss: 0.3813 - accuracy: 0.8289\n",
            "Epoch 36/100\n",
            "185/185 [==============================] - 38s 206ms/step - loss: 0.3856 - accuracy: 0.8237\n",
            "Epoch 37/100\n",
            "185/185 [==============================] - 36s 196ms/step - loss: 0.4260 - accuracy: 0.7989\n",
            "Epoch 38/100\n",
            "185/185 [==============================] - 35s 187ms/step - loss: 0.4184 - accuracy: 0.8034\n",
            "Epoch 39/100\n",
            "185/185 [==============================] - 38s 204ms/step - loss: 0.4022 - accuracy: 0.8147\n",
            "Epoch 40/100\n",
            "185/185 [==============================] - 40s 217ms/step - loss: 0.3923 - accuracy: 0.8171\n",
            "Epoch 41/100\n",
            "185/185 [==============================] - 41s 223ms/step - loss: 0.3847 - accuracy: 0.8274\n",
            "Epoch 42/100\n",
            "185/185 [==============================] - 36s 196ms/step - loss: 0.3854 - accuracy: 0.8235\n",
            "Epoch 43/100\n",
            "185/185 [==============================] - 38s 205ms/step - loss: 0.3706 - accuracy: 0.8343\n",
            "Epoch 44/100\n",
            "185/185 [==============================] - 40s 213ms/step - loss: 0.3718 - accuracy: 0.8310\n",
            "Epoch 45/100\n",
            "185/185 [==============================] - 38s 204ms/step - loss: 0.3649 - accuracy: 0.8328\n",
            "Epoch 46/100\n",
            "185/185 [==============================] - 37s 198ms/step - loss: 0.3615 - accuracy: 0.8398\n",
            "Epoch 47/100\n",
            "185/185 [==============================] - 38s 206ms/step - loss: 0.3516 - accuracy: 0.8406\n",
            "Epoch 48/100\n",
            "185/185 [==============================] - 44s 237ms/step - loss: 0.3674 - accuracy: 0.8364\n",
            "Epoch 49/100\n",
            "185/185 [==============================] - 39s 210ms/step - loss: 0.3546 - accuracy: 0.8391\n",
            "Epoch 50/100\n",
            "185/185 [==============================] - 35s 188ms/step - loss: 0.3483 - accuracy: 0.8428\n",
            "Epoch 51/100\n",
            "185/185 [==============================] - 36s 194ms/step - loss: 0.3480 - accuracy: 0.8494\n",
            "Epoch 52/100\n",
            "185/185 [==============================] - 35s 188ms/step - loss: 0.3484 - accuracy: 0.8480\n",
            "Epoch 53/100\n",
            "185/185 [==============================] - 36s 193ms/step - loss: 0.3409 - accuracy: 0.8494\n",
            "Epoch 54/100\n",
            "185/185 [==============================] - 35s 188ms/step - loss: 0.3279 - accuracy: 0.8572\n",
            "Epoch 55/100\n",
            "185/185 [==============================] - 34s 184ms/step - loss: 0.3323 - accuracy: 0.8506\n",
            "Epoch 56/100\n",
            "185/185 [==============================] - 35s 190ms/step - loss: 0.3231 - accuracy: 0.8602\n",
            "Epoch 57/100\n",
            "185/185 [==============================] - 34s 183ms/step - loss: 0.3344 - accuracy: 0.8516\n",
            "Epoch 58/100\n",
            "185/185 [==============================] - 37s 201ms/step - loss: 0.3344 - accuracy: 0.8536\n",
            "Epoch 59/100\n",
            "185/185 [==============================] - 34s 184ms/step - loss: 0.3225 - accuracy: 0.8587\n",
            "Epoch 60/100\n",
            "185/185 [==============================] - 34s 184ms/step - loss: 0.3150 - accuracy: 0.8646\n",
            "Epoch 61/100\n",
            "185/185 [==============================] - 33s 180ms/step - loss: 0.3277 - accuracy: 0.8605\n",
            "Epoch 62/100\n",
            "185/185 [==============================] - 34s 182ms/step - loss: 0.3313 - accuracy: 0.8602\n",
            "Epoch 63/100\n",
            "185/185 [==============================] - 33s 179ms/step - loss: 0.3178 - accuracy: 0.8643\n",
            "Epoch 64/100\n",
            "185/185 [==============================] - 33s 177ms/step - loss: 0.3045 - accuracy: 0.8638\n",
            "Epoch 65/100\n",
            "185/185 [==============================] - 33s 181ms/step - loss: 0.3059 - accuracy: 0.8643\n",
            "Epoch 66/100\n",
            "185/185 [==============================] - 33s 179ms/step - loss: 0.3046 - accuracy: 0.8666\n",
            "Epoch 67/100\n",
            "185/185 [==============================] - 33s 177ms/step - loss: 0.2939 - accuracy: 0.8715\n",
            "Epoch 68/100\n",
            "185/185 [==============================] - 33s 176ms/step - loss: 0.2944 - accuracy: 0.8714\n",
            "Epoch 69/100\n",
            "185/185 [==============================] - 33s 179ms/step - loss: 0.2989 - accuracy: 0.8692\n",
            "Epoch 70/100\n",
            "185/185 [==============================] - 35s 190ms/step - loss: 0.4953 - accuracy: 0.7483\n",
            "Epoch 71/100\n",
            "185/185 [==============================] - 34s 184ms/step - loss: 0.4674 - accuracy: 0.7654\n",
            "Epoch 72/100\n",
            "185/185 [==============================] - 34s 185ms/step - loss: 0.4505 - accuracy: 0.7757\n",
            "Epoch 73/100\n",
            "185/185 [==============================] - 34s 182ms/step - loss: 0.4174 - accuracy: 0.7995\n",
            "Epoch 74/100\n",
            "185/185 [==============================] - 34s 181ms/step - loss: 0.4065 - accuracy: 0.8048\n",
            "Epoch 75/100\n",
            "185/185 [==============================] - 32s 175ms/step - loss: 0.3867 - accuracy: 0.8196\n",
            "Epoch 76/100\n",
            "185/185 [==============================] - 35s 189ms/step - loss: 0.4139 - accuracy: 0.7983\n",
            "Epoch 77/100\n",
            "185/185 [==============================] - 33s 181ms/step - loss: 0.3833 - accuracy: 0.8193\n",
            "Epoch 78/100\n",
            "185/185 [==============================] - 34s 184ms/step - loss: 0.3758 - accuracy: 0.8215\n",
            "Epoch 79/100\n",
            "185/185 [==============================] - 34s 182ms/step - loss: 0.3693 - accuracy: 0.8296\n",
            "Epoch 80/100\n",
            "185/185 [==============================] - 35s 190ms/step - loss: 0.3698 - accuracy: 0.8355\n",
            "Epoch 81/100\n",
            "185/185 [==============================] - 35s 188ms/step - loss: 0.3540 - accuracy: 0.8387\n",
            "Epoch 82/100\n",
            "185/185 [==============================] - 34s 183ms/step - loss: 0.3435 - accuracy: 0.8418\n",
            "Epoch 83/100\n",
            "185/185 [==============================] - 34s 182ms/step - loss: 0.3285 - accuracy: 0.8540\n",
            "Epoch 84/100\n",
            "185/185 [==============================] - 34s 184ms/step - loss: 0.3138 - accuracy: 0.8575\n",
            "Epoch 85/100\n",
            "185/185 [==============================] - 34s 184ms/step - loss: 0.3117 - accuracy: 0.8589\n",
            "Epoch 86/100\n",
            "185/185 [==============================] - 34s 185ms/step - loss: 0.3229 - accuracy: 0.8516\n",
            "Epoch 87/100\n",
            "185/185 [==============================] - 33s 180ms/step - loss: 0.3055 - accuracy: 0.8671\n",
            "Epoch 88/100\n",
            "185/185 [==============================] - 34s 184ms/step - loss: 0.3039 - accuracy: 0.8631\n",
            "Epoch 89/100\n",
            "185/185 [==============================] - 34s 185ms/step - loss: 0.2930 - accuracy: 0.8751\n",
            "Epoch 90/100\n",
            "185/185 [==============================] - 35s 190ms/step - loss: 0.2904 - accuracy: 0.8739\n",
            "Epoch 91/100\n",
            "185/185 [==============================] - 35s 190ms/step - loss: 0.2953 - accuracy: 0.8725\n",
            "Epoch 92/100\n",
            "185/185 [==============================] - 37s 198ms/step - loss: 0.2876 - accuracy: 0.8786\n",
            "Epoch 93/100\n",
            "185/185 [==============================] - 37s 203ms/step - loss: 0.2778 - accuracy: 0.8827\n",
            "Epoch 94/100\n",
            "185/185 [==============================] - 39s 212ms/step - loss: 0.2757 - accuracy: 0.8839\n",
            "Epoch 95/100\n",
            "185/185 [==============================] - 38s 206ms/step - loss: 0.2750 - accuracy: 0.8856\n",
            "Epoch 96/100\n",
            "185/185 [==============================] - 37s 199ms/step - loss: 0.2725 - accuracy: 0.8824\n",
            "Epoch 97/100\n",
            "185/185 [==============================] - 35s 190ms/step - loss: 0.2604 - accuracy: 0.8896\n",
            "Epoch 98/100\n",
            "185/185 [==============================] - 37s 197ms/step - loss: 0.2605 - accuracy: 0.8876\n",
            "Epoch 99/100\n",
            "185/185 [==============================] - 35s 187ms/step - loss: 0.2705 - accuracy: 0.8876\n",
            "Epoch 100/100\n",
            "185/185 [==============================] - 35s 189ms/step - loss: 0.2683 - accuracy: 0.8903\n"
          ]
        }
      ]
    },
    {
      "cell_type": "code",
      "metadata": {
        "id": "_vVqBTQf8DR_",
        "colab": {
          "base_uri": "https://localhost:8080/"
        },
        "outputId": "67b8ecc5-63c2-4024-b070-806a3223b560"
      },
      "source": [
        "import numpy as np\n",
        "loss = np.mean(history.history['loss'])\n",
        "accuracy = np.mean(history.history['accuracy'])\n",
        "print(\"Training Loss: \",loss)\n",
        "print(\"Training Accuracy: \",accuracy)"
      ],
      "execution_count": null,
      "outputs": [
        {
          "output_type": "stream",
          "name": "stdout",
          "text": [
            "Training Loss:  0.38745808362960815\n",
            "Training Accuracy:  0.8158502370119095\n"
          ]
        }
      ]
    },
    {
      "cell_type": "code",
      "metadata": {
        "id": "jUGWKpDjv7rn",
        "colab": {
          "base_uri": "https://localhost:8080/",
          "height": 516
        },
        "outputId": "5e0ee545-ab5b-4788-aec1-c4c0cf2f7d49"
      },
      "source": [
        "acc = history.history['accuracy']\n",
        "loss = history.history['loss']\n",
        "plt.figure(figsize=(15,8))\n",
        "plt.subplot(1,2,1)\n",
        "plt.plot(range(100),acc,label='Training Accuracy')\n",
        "plt.legend(loc='lower right')\n",
        "plt.title(\"Training Accuracy\")\n",
        "\n",
        "plt.subplot(1,2,2)\n",
        "plt.plot(range(100),loss,label='Training Loss')\n",
        "plt.legend(loc='upper right')\n",
        "plt.title(\"Training Loss\")"
      ],
      "execution_count": null,
      "outputs": [
        {
          "output_type": "execute_result",
          "data": {
            "text/plain": [
              "Text(0.5, 1.0, 'Training Loss')"
            ]
          },
          "metadata": {},
          "execution_count": 68
        },
        {
          "output_type": "display_data",
          "data": {
            "image/png": "[encoded data removed]",
            "text/plain": [
              "<Figure size 1080x576 with 2 Axes>"
            ]
          },
          "metadata": {
            "needs_background": "light"
          }
        }
      ]
    },
    {
      "cell_type": "code",
      "metadata": {
        "id": "lWDYfUgCuXME",
        "colab": {
          "base_uri": "https://localhost:8080/"
        },
        "outputId": "7cf3948b-39d0-4da3-c989-11731c0abf63"
      },
      "source": [
        "lstm.evaluate(x_test, y_test)"
      ],
      "execution_count": null,
      "outputs": [
        {
          "output_type": "stream",
          "name": "stdout",
          "text": [
            "47/47 [==============================] - 2s 29ms/step - loss: 0.3869 - accuracy: 0.8480\n"
          ]
        },
        {
          "output_type": "execute_result",
          "data": {
            "text/plain": [
              "[0.38687577843666077, 0.8479729890823364]"
            ]
          },
          "metadata": {},
          "execution_count": 69
        }
      ]
    },
    {
      "cell_type": "code",
      "metadata": {
        "id": "vSNuZIfmuXxU",
        "colab": {
          "base_uri": "https://localhost:8080/"
        },
        "outputId": "57b5e895-e3a2-4262-df6e-ce847b9c951e"
      },
      "source": [
        "y_pred = lstm.predict(x_test)\n",
        "y_pred"
      ],
      "execution_count": null,
      "outputs": [
        {
          "output_type": "execute_result",
          "data": {
            "text/plain": [
              "array([[0.35935766],\n",
              "       [0.00540444],\n",
              "       [0.9999991 ],\n",
              "       ...,\n",
              "       [0.1063368 ],\n",
              "       [0.99062186],\n",
              "       [0.99999905]], dtype=float32)"
            ]
          },
          "metadata": {},
          "execution_count": 70
        }
      ]
    },
    {
      "cell_type": "code",
      "metadata": {
        "id": "wdBN7Ix2uaRM",
        "colab": {
          "base_uri": "https://localhost:8080/"
        },
        "outputId": "05cb98ed-4e50-4247-eb27-139c424fa696"
      },
      "source": [
        "y_pred = np.round(y_pred)\n",
        "y_pred"
      ],
      "execution_count": null,
      "outputs": [
        {
          "output_type": "execute_result",
          "data": {
            "text/plain": [
              "array([[0.],\n",
              "       [0.],\n",
              "       [1.],\n",
              "       ...,\n",
              "       [0.],\n",
              "       [1.],\n",
              "       [1.]], dtype=float32)"
            ]
          },
          "metadata": {},
          "execution_count": 71
        }
      ]
    },
    {
      "cell_type": "code",
      "metadata": {
        "id": "t7p-W4Jducjb",
        "colab": {
          "base_uri": "https://localhost:8080/"
        },
        "outputId": "ddd43021-4877-4ae2-9361-122c2b5fbec0"
      },
      "source": [
        "y_pred = y_pred[:,0]\n",
        "y_pred"
      ],
      "execution_count": null,
      "outputs": [
        {
          "output_type": "execute_result",
          "data": {
            "text/plain": [
              "array([0., 0., 1., ..., 0., 1., 1.], dtype=float32)"
            ]
          },
          "metadata": {},
          "execution_count": 72
        }
      ]
    },
    {
      "cell_type": "code",
      "metadata": {
        "id": "wWpIPdqHulNL",
        "colab": {
          "base_uri": "https://localhost:8080/"
        },
        "outputId": "4897a75d-3b41-4846-c7fd-b17f40b4375d"
      },
      "source": [
        "y_test[:20]"
      ],
      "execution_count": null,
      "outputs": [
        {
          "output_type": "execute_result",
          "data": {
            "text/plain": [
              "468     1\n",
              "113     0\n",
              "196     1\n",
              "4520    0\n",
              "1981    0\n",
              "1924    0\n",
              "1115    0\n",
              "2497    0\n",
              "6924    1\n",
              "4805    1\n",
              "2595    1\n",
              "3631    0\n",
              "3833    0\n",
              "47      0\n",
              "1464    0\n",
              "6474    1\n",
              "1815    0\n",
              "2716    0\n",
              "4510    0\n",
              "1974    1\n",
              "Name: good_credit, dtype: int64"
            ]
          },
          "metadata": {},
          "execution_count": 73
        }
      ]
    },
    {
      "cell_type": "code",
      "metadata": {
        "id": "251cncBNum9j",
        "colab": {
          "base_uri": "https://localhost:8080/"
        },
        "outputId": "ef340ccd-1140-4634-d3b8-05f2db51c313"
      },
      "source": [
        "y_pred[:20]"
      ],
      "execution_count": null,
      "outputs": [
        {
          "output_type": "execute_result",
          "data": {
            "text/plain": [
              "array([0., 0., 1., 0., 0., 0., 0., 0., 1., 1., 0., 0., 0., 0., 0., 1., 0.,\n",
              "       0., 0., 0.], dtype=float32)"
            ]
          },
          "metadata": {},
          "execution_count": 74
        }
      ]
    },
    {
      "cell_type": "code",
      "metadata": {
        "id": "xqbkp8mbuo47",
        "colab": {
          "base_uri": "https://localhost:8080/",
          "height": 220
        },
        "outputId": "d1ae7d1e-ca5d-4a66-cd1f-1e89b6c3f985"
      },
      "source": [
        "import math\n",
        "from sklearn.metrics import accuracy_score,precision_score,recall_score,f1_score,roc_auc_score,mean_absolute_error,mean_squared_error,matthews_corrcoef\n",
        "# accuracy: (tp + tn) / (p + n)\n",
        "scores = lstm.evaluate(x_test,y_test)\n",
        "\n",
        "accuracy = accuracy_score(y_test, y_pred)\n",
        "# precision tp / (tp + fp)\n",
        "precision = precision_score(y_test, y_pred)\n",
        "# recall: tp / (tp + fn)\n",
        "recall = recall_score(y_test, y_pred)\n",
        "# f1: 2 tp / (2 tp + fp + fn)\n",
        "f1 = f1_score(y_test, y_pred)\n",
        "\n",
        "auc = roc_auc_score(y_test, lstm.predict(x_test))\n",
        "mae = mean_absolute_error(y_test,y_pred)\n",
        "mse = mean_squared_error(y_test,y_pred)\n",
        "rmse = math.sqrt(mse)\n",
        "mcc = matthews_corrcoef(y_test,y_pred)\n",
        "\n",
        "results_deep_learning.append({\n",
        "    'model': \"LSTM\",\n",
        "    'Training Loss': np.mean(history.history['loss']),\n",
        "    'Training Accuracy': np.mean(history.history['accuracy']),\n",
        "    'Testing Loss': scores[0],\n",
        "    'Accuracy_Score':accuracy,\n",
        "    'Precision': precision,\n",
        "    'Recall': recall,\n",
        "    'F1-Score': f1,\n",
        "    'AUC': auc,\n",
        "    'MAE': mae,\n",
        "    'RMSE': rmse,\n",
        "    'MCC': mcc\n",
        "})\n",
        "\n",
        "df = pd.DataFrame(results_deep_learning,columns = ['model','Training Loss','Training Accuracy','Testing Loss','Accuracy_Score','Precision','Recall','F1-Score','AUC','MAE','RMSE','MCC'])\n",
        "df"
      ],
      "execution_count": null,
      "outputs": [
        {
          "output_type": "stream",
          "name": "stdout",
          "text": [
            "47/47 [==============================] - 1s 29ms/step - loss: 0.3869 - accuracy: 0.8480\n"
          ]
        },
        {
          "output_type": "execute_result",
          "data": {
            "text/html": [
              "<div>\n",
              "<style scoped>\n",
              "    .dataframe tbody tr th:only-of-type {\n",
              "        vertical-align: middle;\n",
              "    }\n",
              "\n",
              "    .dataframe tbody tr th {\n",
              "        vertical-align: top;\n",
              "    }\n",
              "\n",
              "    .dataframe thead th {\n",
              "        text-align: right;\n",
              "    }\n",
              "</style>\n",
              "<table border=\"1\" class=\"dataframe\">\n",
              "  <thead>\n",
              "    <tr style=\"text-align: right;\">\n",
              "      <th></th>\n",
              "      <th>model</th>\n",
              "      <th>Training Loss</th>\n",
              "      <th>Training Accuracy</th>\n",
              "      <th>Testing Loss</th>\n",
              "      <th>Accuracy_Score</th>\n",
              "      <th>Precision</th>\n",
              "      <th>Recall</th>\n",
              "      <th>F1-Score</th>\n",
              "      <th>AUC</th>\n",
              "      <th>MAE</th>\n",
              "      <th>RMSE</th>\n",
              "      <th>MCC</th>\n",
              "    </tr>\n",
              "  </thead>\n",
              "  <tbody>\n",
              "    <tr>\n",
              "      <th>0</th>\n",
              "      <td>ANN</td>\n",
              "      <td>0.122757</td>\n",
              "      <td>0.949795</td>\n",
              "      <td>0.625263</td>\n",
              "      <td>0.899324</td>\n",
              "      <td>0.892430</td>\n",
              "      <td>0.908108</td>\n",
              "      <td>0.900201</td>\n",
              "      <td>0.949425</td>\n",
              "      <td>0.100676</td>\n",
              "      <td>0.317294</td>\n",
              "      <td>0.798772</td>\n",
              "    </tr>\n",
              "    <tr>\n",
              "      <th>1</th>\n",
              "      <td>MLP</td>\n",
              "      <td>NaN</td>\n",
              "      <td>NaN</td>\n",
              "      <td>NaN</td>\n",
              "      <td>0.886486</td>\n",
              "      <td>0.874346</td>\n",
              "      <td>0.902703</td>\n",
              "      <td>0.888298</td>\n",
              "      <td>0.944779</td>\n",
              "      <td>0.113514</td>\n",
              "      <td>0.336918</td>\n",
              "      <td>0.773380</td>\n",
              "    </tr>\n",
              "    <tr>\n",
              "      <th>2</th>\n",
              "      <td>CNN</td>\n",
              "      <td>0.130467</td>\n",
              "      <td>0.945441</td>\n",
              "      <td>0.638944</td>\n",
              "      <td>0.887838</td>\n",
              "      <td>0.894231</td>\n",
              "      <td>0.879730</td>\n",
              "      <td>0.886921</td>\n",
              "      <td>0.948784</td>\n",
              "      <td>0.112162</td>\n",
              "      <td>0.334906</td>\n",
              "      <td>0.775778</td>\n",
              "    </tr>\n",
              "    <tr>\n",
              "      <th>3</th>\n",
              "      <td>RNN</td>\n",
              "      <td>0.396011</td>\n",
              "      <td>0.807378</td>\n",
              "      <td>0.481155</td>\n",
              "      <td>0.795270</td>\n",
              "      <td>0.820852</td>\n",
              "      <td>0.755405</td>\n",
              "      <td>0.786770</td>\n",
              "      <td>0.867286</td>\n",
              "      <td>0.204730</td>\n",
              "      <td>0.452471</td>\n",
              "      <td>0.592427</td>\n",
              "    </tr>\n",
              "    <tr>\n",
              "      <th>4</th>\n",
              "      <td>LSTM</td>\n",
              "      <td>0.387458</td>\n",
              "      <td>0.815850</td>\n",
              "      <td>0.386876</td>\n",
              "      <td>0.847973</td>\n",
              "      <td>0.894334</td>\n",
              "      <td>0.789189</td>\n",
              "      <td>0.838478</td>\n",
              "      <td>0.909832</td>\n",
              "      <td>0.152027</td>\n",
              "      <td>0.389906</td>\n",
              "      <td>0.700806</td>\n",
              "    </tr>\n",
              "  </tbody>\n",
              "</table>\n",
              "</div>"
            ],
            "text/plain": [
              "  model  Training Loss  Training Accuracy  ...       MAE      RMSE       MCC\n",
              "0   ANN       0.122757           0.949795  ...  0.100676  0.317294  0.798772\n",
              "1   MLP            NaN                NaN  ...  0.113514  0.336918  0.773380\n",
              "2   CNN       0.130467           0.945441  ...  0.112162  0.334906  0.775778\n",
              "3   RNN       0.396011           0.807378  ...  0.204730  0.452471  0.592427\n",
              "4  LSTM       0.387458           0.815850  ...  0.152027  0.389906  0.700806\n",
              "\n",
              "[5 rows x 12 columns]"
            ]
          },
          "metadata": {},
          "execution_count": 75
        }
      ]
    },
    {
      "cell_type": "code",
      "metadata": {
        "id": "KHk016qKuu8j",
        "colab": {
          "base_uri": "https://localhost:8080/",
          "height": 295
        },
        "outputId": "c497e3d3-4e32-4c37-b701-c014dcd59fe4"
      },
      "source": [
        "from sklearn.metrics import roc_curve\n",
        "fpr, tpr, thresholds = roc_curve(y_test, lstm.predict(x_test))\n",
        "auc = roc_auc_score(y_test,lstm.predict(x_test))\n",
        "plt.plot(fpr, tpr, label='%s ROC (area = %0.2f)' % ('LSTM', auc))\n",
        "\n",
        "plt.plot([0, 1], [0, 1],'k--')\n",
        "plt.xlim([0.0, 1.0])\n",
        "plt.ylim([0.0, 1.05])\n",
        "plt.xlabel('False Positive Rate')\n",
        "plt.ylabel('True Positive Rate')\n",
        "plt.title('Receiver Operating Characteristic Curve')\n",
        "plt.legend(loc=\"lower right\")\n",
        "plt.show()"
      ],
      "execution_count": null,
      "outputs": [
        {
          "output_type": "display_data",
          "data": {
            "image/png": "[encoded data removed]",
            "text/plain": [
              "<Figure size 432x288 with 1 Axes>"
            ]
          },
          "metadata": {
            "needs_background": "light"
          }
        }
      ]
    },
    {
      "cell_type": "code",
      "metadata": {
        "id": "puGjlrrTuvxb",
        "colab": {
          "base_uri": "https://localhost:8080/",
          "height": 459
        },
        "outputId": "54920d97-5970-4580-a20f-45b6e5a59547"
      },
      "source": [
        "con_matrix = tf.math.confusion_matrix(labels=y_test,predictions=y_pred)\n",
        "plt.figure(figsize=(10,7))\n",
        "sns.heatmap(con_matrix,annot=True,fmt='d')\n",
        "plt.xlabel('Predicted Output')\n",
        "plt.ylabel('True Output')"
      ],
      "execution_count": null,
      "outputs": [
        {
          "output_type": "execute_result",
          "data": {
            "text/plain": [
              "Text(69.0, 0.5, 'True Output')"
            ]
          },
          "metadata": {},
          "execution_count": 77
        },
        {
          "output_type": "display_data",
          "data": {
            "image/png": "[encoded data removed]",
            "text/plain": [
              "<Figure size 720x504 with 2 Axes>"
            ]
          },
          "metadata": {
            "needs_background": "light"
          }
        }
      ]
    },
    {
      "cell_type": "code",
      "metadata": {
        "id": "kezF5tK0u4C3",
        "colab": {
          "base_uri": "https://localhost:8080/"
        },
        "outputId": "5b42821c-b1a5-4cc1-d2fb-746f6c85039f"
      },
      "source": [
        "from sklearn.metrics import classification_report\n",
        "print(classification_report(y_test,y_pred))"
      ],
      "execution_count": null,
      "outputs": [
        {
          "output_type": "stream",
          "name": "stdout",
          "text": [
            "              precision    recall  f1-score   support\n",
            "\n",
            "           0       0.81      0.91      0.86       740\n",
            "           1       0.89      0.79      0.84       740\n",
            "\n",
            "    accuracy                           0.85      1480\n",
            "   macro avg       0.85      0.85      0.85      1480\n",
            "weighted avg       0.85      0.85      0.85      1480\n",
            "\n"
          ]
        }
      ]
    },
    {
      "cell_type": "markdown",
      "metadata": {
        "id": "OLHWipcnVFPZ"
      },
      "source": [
        "### **GRU**"
      ]
    },
    {
      "cell_type": "code",
      "metadata": {
        "colab": {
          "base_uri": "https://localhost:8080/"
        },
        "id": "eJmuEV_DU8Uw",
        "outputId": "823a13b0-dd50-49d0-9d60-87686f6838f4"
      },
      "source": [
        "gru = keras.Sequential([\n",
        "        keras.layers.Dense(512,kernel_initializer='uniform',input_shape=(42,1)),                    \n",
        "        keras.layers.GRU(64,return_sequences=True,activation='relu'),                  \n",
        "        keras.layers.GRU(64,activation='relu'),                  \n",
        "        keras.layers.Dense(64, activation='relu'),\n",
        "        keras.layers.Dropout(0.2),\n",
        "        keras.layers.Dense(1, activation='sigmoid')                  \n",
        "])\n",
        "\n",
        "gru.compile(optimizer='adam', loss='binary_crossentropy', metrics=['accuracy'])\n",
        "history = gru.fit(x_train, y_train, epochs=100)"
      ],
      "execution_count": null,
      "outputs": [
        {
          "output_type": "stream",
          "name": "stdout",
          "text": [
            "Epoch 1/100\n",
            "185/185 [==============================] - 20s 94ms/step - loss: 0.6127 - accuracy: 0.6464\n",
            "Epoch 2/100\n",
            "185/185 [==============================] - 18s 95ms/step - loss: 0.5484 - accuracy: 0.7010\n",
            "Epoch 3/100\n",
            "185/185 [==============================] - 17s 91ms/step - loss: 0.5322 - accuracy: 0.7115\n",
            "Epoch 4/100\n",
            "185/185 [==============================] - 17s 94ms/step - loss: 0.5122 - accuracy: 0.7228\n",
            "Epoch 5/100\n",
            "185/185 [==============================] - 17s 93ms/step - loss: 0.4955 - accuracy: 0.7365\n",
            "Epoch 6/100\n",
            "185/185 [==============================] - 17s 94ms/step - loss: 0.4848 - accuracy: 0.7473\n",
            "Epoch 7/100\n",
            "185/185 [==============================] - 17s 93ms/step - loss: 0.4809 - accuracy: 0.7529\n",
            "Epoch 8/100\n",
            "185/185 [==============================] - 17s 91ms/step - loss: 0.4653 - accuracy: 0.7732\n",
            "Epoch 9/100\n",
            "185/185 [==============================] - 17s 93ms/step - loss: 0.4528 - accuracy: 0.7748\n",
            "Epoch 10/100\n",
            "185/185 [==============================] - 17s 90ms/step - loss: 0.4437 - accuracy: 0.7828\n",
            "Epoch 11/100\n",
            "185/185 [==============================] - 17s 93ms/step - loss: 0.4309 - accuracy: 0.7860\n",
            "Epoch 12/100\n",
            "185/185 [==============================] - 17s 91ms/step - loss: 0.4277 - accuracy: 0.7955\n",
            "Epoch 13/100\n",
            "185/185 [==============================] - 17s 91ms/step - loss: 0.4100 - accuracy: 0.8009\n",
            "Epoch 14/100\n",
            "185/185 [==============================] - 17s 93ms/step - loss: 0.3966 - accuracy: 0.8134\n",
            "Epoch 15/100\n",
            "185/185 [==============================] - 17s 90ms/step - loss: 0.3890 - accuracy: 0.8178\n",
            "Epoch 16/100\n",
            "185/185 [==============================] - 17s 90ms/step - loss: 0.3724 - accuracy: 0.8249\n",
            "Epoch 17/100\n",
            "185/185 [==============================] - 17s 92ms/step - loss: 0.3639 - accuracy: 0.8286\n",
            "Epoch 18/100\n",
            "185/185 [==============================] - 17s 91ms/step - loss: 0.3577 - accuracy: 0.8364\n",
            "Epoch 19/100\n",
            "185/185 [==============================] - 17s 93ms/step - loss: 0.3470 - accuracy: 0.8445\n",
            "Epoch 20/100\n",
            "185/185 [==============================] - 18s 96ms/step - loss: 0.3403 - accuracy: 0.8435\n",
            "Epoch 21/100\n",
            "185/185 [==============================] - 18s 96ms/step - loss: 0.3242 - accuracy: 0.8536\n",
            "Epoch 22/100\n",
            "185/185 [==============================] - 18s 98ms/step - loss: 0.3234 - accuracy: 0.8497\n",
            "Epoch 23/100\n",
            "185/185 [==============================] - 17s 93ms/step - loss: 0.3135 - accuracy: 0.8604\n",
            "Epoch 24/100\n",
            "185/185 [==============================] - 17s 93ms/step - loss: 0.3095 - accuracy: 0.8580\n",
            "Epoch 25/100\n",
            "185/185 [==============================] - 18s 95ms/step - loss: 0.2968 - accuracy: 0.8683\n",
            "Epoch 26/100\n",
            "185/185 [==============================] - 17s 90ms/step - loss: 0.2874 - accuracy: 0.8712\n",
            "Epoch 27/100\n",
            "185/185 [==============================] - 17s 92ms/step - loss: 0.2838 - accuracy: 0.8758\n",
            "Epoch 28/100\n",
            "185/185 [==============================] - 17s 94ms/step - loss: 0.2892 - accuracy: 0.8744\n",
            "Epoch 29/100\n",
            "185/185 [==============================] - 17s 92ms/step - loss: 0.2889 - accuracy: 0.8749\n",
            "Epoch 30/100\n",
            "185/185 [==============================] - 18s 98ms/step - loss: 0.2930 - accuracy: 0.8720\n",
            "Epoch 31/100\n",
            "185/185 [==============================] - 17s 93ms/step - loss: 0.2699 - accuracy: 0.8798\n",
            "Epoch 32/100\n",
            "185/185 [==============================] - 19s 100ms/step - loss: 0.2571 - accuracy: 0.8871\n",
            "Epoch 33/100\n",
            "185/185 [==============================] - 17s 94ms/step - loss: 0.2580 - accuracy: 0.8903\n",
            "Epoch 34/100\n",
            "185/185 [==============================] - 19s 104ms/step - loss: 0.2732 - accuracy: 0.8824\n",
            "Epoch 35/100\n",
            "185/185 [==============================] - 19s 101ms/step - loss: 0.2607 - accuracy: 0.8874\n",
            "Epoch 36/100\n",
            "185/185 [==============================] - 17s 93ms/step - loss: 0.2382 - accuracy: 0.8964\n",
            "Epoch 37/100\n",
            "185/185 [==============================] - 17s 93ms/step - loss: 0.2323 - accuracy: 0.8994\n",
            "Epoch 38/100\n",
            "185/185 [==============================] - 18s 96ms/step - loss: 0.2242 - accuracy: 0.9043\n",
            "Epoch 39/100\n",
            "185/185 [==============================] - 17s 93ms/step - loss: 0.2257 - accuracy: 0.9021\n",
            "Epoch 40/100\n",
            "185/185 [==============================] - 17s 93ms/step - loss: 0.2146 - accuracy: 0.9097\n",
            "Epoch 41/100\n",
            "185/185 [==============================] - 17s 93ms/step - loss: 0.2044 - accuracy: 0.9135\n",
            "Epoch 42/100\n",
            "185/185 [==============================] - 18s 96ms/step - loss: 0.2324 - accuracy: 0.9004\n",
            "Epoch 43/100\n",
            "185/185 [==============================] - 17s 93ms/step - loss: 0.2057 - accuracy: 0.9080\n",
            "Epoch 44/100\n",
            "185/185 [==============================] - 18s 95ms/step - loss: 0.2117 - accuracy: 0.9133\n",
            "Epoch 45/100\n",
            "185/185 [==============================] - 18s 95ms/step - loss: 0.1865 - accuracy: 0.9238\n",
            "Epoch 46/100\n",
            "185/185 [==============================] - 17s 92ms/step - loss: 0.1983 - accuracy: 0.9200\n",
            "Epoch 47/100\n",
            "185/185 [==============================] - 17s 94ms/step - loss: 0.1905 - accuracy: 0.9231\n",
            "Epoch 48/100\n",
            "185/185 [==============================] - 17s 91ms/step - loss: 0.1935 - accuracy: 0.9231\n",
            "Epoch 49/100\n",
            "185/185 [==============================] - 17s 93ms/step - loss: 0.1949 - accuracy: 0.9212\n",
            "Epoch 50/100\n",
            "185/185 [==============================] - 17s 92ms/step - loss: 0.1707 - accuracy: 0.9268\n",
            "Epoch 51/100\n",
            "185/185 [==============================] - 17s 93ms/step - loss: 0.1729 - accuracy: 0.9300\n",
            "Epoch 52/100\n",
            "185/185 [==============================] - 17s 94ms/step - loss: 0.2125 - accuracy: 0.9119\n",
            "Epoch 53/100\n",
            "185/185 [==============================] - 17s 94ms/step - loss: 0.1655 - accuracy: 0.9337\n",
            "Epoch 54/100\n",
            "185/185 [==============================] - 17s 94ms/step - loss: 0.1873 - accuracy: 0.9239\n",
            "Epoch 55/100\n",
            "185/185 [==============================] - 17s 92ms/step - loss: 0.1639 - accuracy: 0.9344\n",
            "Epoch 56/100\n",
            "185/185 [==============================] - 17s 93ms/step - loss: 0.1482 - accuracy: 0.9420\n",
            "Epoch 57/100\n",
            "185/185 [==============================] - 17s 94ms/step - loss: 0.1416 - accuracy: 0.9425\n",
            "Epoch 58/100\n",
            "185/185 [==============================] - 17s 92ms/step - loss: 0.1716 - accuracy: 0.9315\n",
            "Epoch 59/100\n",
            "185/185 [==============================] - 17s 92ms/step - loss: 0.1522 - accuracy: 0.9376\n",
            "Epoch 60/100\n",
            "185/185 [==============================] - 17s 91ms/step - loss: 0.1469 - accuracy: 0.9405\n",
            "Epoch 61/100\n",
            "185/185 [==============================] - 18s 96ms/step - loss: 0.1384 - accuracy: 0.9422\n",
            "Epoch 62/100\n",
            "185/185 [==============================] - 17s 93ms/step - loss: 0.1285 - accuracy: 0.9466\n",
            "Epoch 63/100\n",
            "185/185 [==============================] - 18s 99ms/step - loss: 0.1543 - accuracy: 0.9408\n",
            "Epoch 64/100\n",
            "185/185 [==============================] - 18s 99ms/step - loss: 0.1337 - accuracy: 0.9464\n",
            "Epoch 65/100\n",
            "185/185 [==============================] - 18s 98ms/step - loss: 0.1381 - accuracy: 0.9449\n",
            "Epoch 66/100\n",
            "185/185 [==============================] - 17s 93ms/step - loss: 0.1259 - accuracy: 0.9523\n",
            "Epoch 67/100\n",
            "185/185 [==============================] - 17s 95ms/step - loss: 0.1444 - accuracy: 0.9397\n",
            "Epoch 68/100\n",
            "185/185 [==============================] - 17s 92ms/step - loss: 0.1321 - accuracy: 0.9469\n",
            "Epoch 69/100\n",
            "185/185 [==============================] - 17s 91ms/step - loss: 0.1403 - accuracy: 0.9462\n",
            "Epoch 70/100\n",
            "185/185 [==============================] - 17s 93ms/step - loss: 0.1384 - accuracy: 0.9451\n",
            "Epoch 71/100\n",
            "185/185 [==============================] - 17s 93ms/step - loss: 0.1176 - accuracy: 0.9555\n",
            "Epoch 72/100\n",
            "185/185 [==============================] - 17s 91ms/step - loss: 0.1178 - accuracy: 0.9528\n",
            "Epoch 73/100\n",
            "185/185 [==============================] - 17s 93ms/step - loss: 0.0987 - accuracy: 0.9616\n",
            "Epoch 74/100\n",
            "185/185 [==============================] - 17s 94ms/step - loss: 0.1230 - accuracy: 0.9527\n",
            "Epoch 75/100\n",
            "185/185 [==============================] - 17s 92ms/step - loss: 0.1262 - accuracy: 0.9447\n",
            "Epoch 76/100\n",
            "185/185 [==============================] - 17s 91ms/step - loss: 0.1335 - accuracy: 0.9459\n",
            "Epoch 77/100\n",
            "185/185 [==============================] - 17s 92ms/step - loss: 0.1013 - accuracy: 0.9615\n",
            "Epoch 78/100\n",
            "185/185 [==============================] - 17s 90ms/step - loss: 0.1166 - accuracy: 0.9552\n",
            "Epoch 79/100\n",
            "185/185 [==============================] - 17s 91ms/step - loss: 0.2016 - accuracy: 0.9207\n",
            "Epoch 80/100\n",
            "185/185 [==============================] - 17s 94ms/step - loss: 0.1651 - accuracy: 0.9322\n",
            "Epoch 81/100\n",
            "185/185 [==============================] - 17s 93ms/step - loss: 0.1100 - accuracy: 0.9566\n",
            "Epoch 82/100\n",
            "185/185 [==============================] - 17s 94ms/step - loss: 0.0916 - accuracy: 0.9618\n",
            "Epoch 83/100\n",
            "185/185 [==============================] - 17s 92ms/step - loss: 0.1104 - accuracy: 0.9577\n",
            "Epoch 84/100\n",
            "185/185 [==============================] - 17s 92ms/step - loss: 0.1031 - accuracy: 0.9594\n",
            "Epoch 85/100\n",
            "185/185 [==============================] - 17s 91ms/step - loss: 0.0851 - accuracy: 0.9665\n",
            "Epoch 86/100\n",
            "185/185 [==============================] - 17s 92ms/step - loss: 0.0841 - accuracy: 0.9677\n",
            "Epoch 87/100\n",
            "185/185 [==============================] - 17s 94ms/step - loss: 0.0956 - accuracy: 0.9621\n",
            "Epoch 88/100\n",
            "185/185 [==============================] - 17s 91ms/step - loss: 0.1134 - accuracy: 0.9584\n",
            "Epoch 89/100\n",
            "185/185 [==============================] - 17s 93ms/step - loss: 0.1115 - accuracy: 0.9579\n",
            "Epoch 90/100\n",
            "185/185 [==============================] - 17s 92ms/step - loss: 0.1007 - accuracy: 0.9626\n",
            "Epoch 91/100\n",
            "185/185 [==============================] - 18s 95ms/step - loss: 0.0949 - accuracy: 0.9618\n",
            "Epoch 92/100\n",
            "185/185 [==============================] - 17s 93ms/step - loss: 0.0967 - accuracy: 0.9623\n",
            "Epoch 93/100\n",
            "185/185 [==============================] - 17s 93ms/step - loss: 0.0756 - accuracy: 0.9708\n",
            "Epoch 94/100\n",
            "185/185 [==============================] - 17s 94ms/step - loss: 0.1135 - accuracy: 0.9554\n",
            "Epoch 95/100\n",
            "185/185 [==============================] - 17s 92ms/step - loss: 0.0772 - accuracy: 0.9692\n",
            "Epoch 96/100\n",
            "185/185 [==============================] - 17s 94ms/step - loss: 0.0918 - accuracy: 0.9652\n",
            "Epoch 97/100\n",
            "185/185 [==============================] - 17s 92ms/step - loss: 0.0864 - accuracy: 0.9675\n",
            "Epoch 98/100\n",
            "185/185 [==============================] - 17s 93ms/step - loss: 0.1386 - accuracy: 0.9464\n",
            "Epoch 99/100\n",
            "185/185 [==============================] - 17s 94ms/step - loss: 0.1171 - accuracy: 0.9564\n",
            "Epoch 100/100\n",
            "185/185 [==============================] - 17s 93ms/step - loss: 0.1024 - accuracy: 0.9586\n"
          ]
        }
      ]
    },
    {
      "cell_type": "code",
      "metadata": {
        "colab": {
          "base_uri": "https://localhost:8080/"
        },
        "id": "cxl1yIcOVPH4",
        "outputId": "ba998551-ee42-46b3-de01-2037a437b8b3"
      },
      "source": [
        "import numpy as np\n",
        "loss = np.mean(history.history['loss'])\n",
        "accuracy = np.mean(history.history['accuracy'])\n",
        "print(\"Training Loss: \",loss)\n",
        "print(\"Training Accuracy: \",accuracy)"
      ],
      "execution_count": null,
      "outputs": [
        {
          "output_type": "stream",
          "name": "stdout",
          "text": [
            "Training Loss:  0.22653805904090404\n",
            "Training Accuracy:  0.8979783636331559\n"
          ]
        }
      ]
    },
    {
      "cell_type": "code",
      "metadata": {
        "colab": {
          "base_uri": "https://localhost:8080/",
          "height": 516
        },
        "id": "OKU_SR01VRzo",
        "outputId": "fb15ba06-e794-4686-8394-89f3db37f2a7"
      },
      "source": [
        "acc = history.history['accuracy']\n",
        "loss = history.history['loss']\n",
        "plt.figure(figsize=(15,8))\n",
        "plt.subplot(1,2,1)\n",
        "plt.plot(range(100),acc,label='Training Accuracy')\n",
        "plt.legend(loc='lower right')\n",
        "plt.title(\"Training Accuracy\")\n",
        "\n",
        "plt.subplot(1,2,2)\n",
        "plt.plot(range(100),loss,label='Training Loss')\n",
        "plt.legend(loc='upper right')\n",
        "plt.title(\"Training Loss\")"
      ],
      "execution_count": null,
      "outputs": [
        {
          "output_type": "execute_result",
          "data": {
            "text/plain": [
              "Text(0.5, 1.0, 'Training Loss')"
            ]
          },
          "metadata": {},
          "execution_count": 81
        },
        {
          "output_type": "display_data",
          "data": {
            "image/png": "[encoded data removed]",
            "text/plain": [
              "<Figure size 1080x576 with 2 Axes>"
            ]
          },
          "metadata": {
            "needs_background": "light"
          }
        }
      ]
    },
    {
      "cell_type": "code",
      "metadata": {
        "colab": {
          "base_uri": "https://localhost:8080/"
        },
        "id": "C5J9qGbZVYDp",
        "outputId": "b61902d8-850f-4e6f-e34d-3db37c6be9cb"
      },
      "source": [
        "gru.evaluate(x_test, y_test)"
      ],
      "execution_count": null,
      "outputs": [
        {
          "output_type": "stream",
          "name": "stdout",
          "text": [
            "47/47 [==============================] - 2s 24ms/step - loss: 0.6081 - accuracy: 0.8561\n"
          ]
        },
        {
          "output_type": "execute_result",
          "data": {
            "text/plain": [
              "[0.6080692410469055, 0.8560810685157776]"
            ]
          },
          "metadata": {},
          "execution_count": 82
        }
      ]
    },
    {
      "cell_type": "code",
      "metadata": {
        "colab": {
          "base_uri": "https://localhost:8080/"
        },
        "id": "VKci7wd8VYxp",
        "outputId": "e56c899c-c9ad-4a7b-cc0f-6030aabc0525"
      },
      "source": [
        "y_pred = gru.predict(x_test)\n",
        "y_pred"
      ],
      "execution_count": null,
      "outputs": [
        {
          "output_type": "execute_result",
          "data": {
            "text/plain": [
              "array([[0.9947382 ],\n",
              "       [0.03674969],\n",
              "       [0.99997526],\n",
              "       ...,\n",
              "       [0.98807514],\n",
              "       [0.99999785],\n",
              "       [1.        ]], dtype=float32)"
            ]
          },
          "metadata": {},
          "execution_count": 83
        }
      ]
    },
    {
      "cell_type": "code",
      "metadata": {
        "colab": {
          "base_uri": "https://localhost:8080/"
        },
        "id": "Kev2IA8mVbhd",
        "outputId": "0d786fe6-bc61-4b73-d2e1-1657c6741aa2"
      },
      "source": [
        "y_pred = np.round(y_pred)\n",
        "y_pred"
      ],
      "execution_count": null,
      "outputs": [
        {
          "output_type": "execute_result",
          "data": {
            "text/plain": [
              "array([[1.],\n",
              "       [0.],\n",
              "       [1.],\n",
              "       ...,\n",
              "       [1.],\n",
              "       [1.],\n",
              "       [1.]], dtype=float32)"
            ]
          },
          "metadata": {},
          "execution_count": 84
        }
      ]
    },
    {
      "cell_type": "code",
      "metadata": {
        "colab": {
          "base_uri": "https://localhost:8080/"
        },
        "id": "Y0thfumWVdTH",
        "outputId": "0d324ade-ea3f-40a6-f962-3bb1db895bf2"
      },
      "source": [
        "y_pred = y_pred[:,0]\n",
        "y_pred"
      ],
      "execution_count": null,
      "outputs": [
        {
          "output_type": "execute_result",
          "data": {
            "text/plain": [
              "array([1., 0., 1., ..., 1., 1., 1.], dtype=float32)"
            ]
          },
          "metadata": {},
          "execution_count": 85
        }
      ]
    },
    {
      "cell_type": "code",
      "metadata": {
        "colab": {
          "base_uri": "https://localhost:8080/"
        },
        "id": "O7tKB6GOVfsv",
        "outputId": "8febc7cf-2171-4a62-f065-d173782ccbb7"
      },
      "source": [
        "y_test[:20]"
      ],
      "execution_count": null,
      "outputs": [
        {
          "output_type": "execute_result",
          "data": {
            "text/plain": [
              "468     1\n",
              "113     0\n",
              "196     1\n",
              "4520    0\n",
              "1981    0\n",
              "1924    0\n",
              "1115    0\n",
              "2497    0\n",
              "6924    1\n",
              "4805    1\n",
              "2595    1\n",
              "3631    0\n",
              "3833    0\n",
              "47      0\n",
              "1464    0\n",
              "6474    1\n",
              "1815    0\n",
              "2716    0\n",
              "4510    0\n",
              "1974    1\n",
              "Name: good_credit, dtype: int64"
            ]
          },
          "metadata": {},
          "execution_count": 86
        }
      ]
    },
    {
      "cell_type": "code",
      "metadata": {
        "colab": {
          "base_uri": "https://localhost:8080/"
        },
        "id": "680FI8fHViGC",
        "outputId": "f2c02536-cf48-474e-9dbc-69112caa9d04"
      },
      "source": [
        "y_pred[:20]"
      ],
      "execution_count": null,
      "outputs": [
        {
          "output_type": "execute_result",
          "data": {
            "text/plain": [
              "array([1., 0., 1., 0., 0., 0., 0., 0., 1., 1., 0., 0., 0., 1., 1., 1., 0.,\n",
              "       0., 0., 1.], dtype=float32)"
            ]
          },
          "metadata": {},
          "execution_count": 87
        }
      ]
    },
    {
      "cell_type": "code",
      "metadata": {
        "colab": {
          "base_uri": "https://localhost:8080/",
          "height": 250
        },
        "id": "OT55BnOYVkFL",
        "outputId": "c46d9541-c737-4056-8941-5d6bd7cc7ad8"
      },
      "source": [
        "import math\n",
        "from sklearn.metrics import accuracy_score,precision_score,recall_score,f1_score,roc_auc_score,mean_absolute_error,mean_squared_error,matthews_corrcoef\n",
        "# accuracy: (tp + tn) / (p + n)\n",
        "scores = gru.evaluate(x_test,y_test)\n",
        "\n",
        "accuracy = accuracy_score(y_test, y_pred)\n",
        "# precision tp / (tp + fp)\n",
        "precision = precision_score(y_test, y_pred)\n",
        "# recall: tp / (tp + fn)\n",
        "recall = recall_score(y_test, y_pred)\n",
        "# f1: 2 tp / (2 tp + fp + fn)\n",
        "f1 = f1_score(y_test, y_pred)\n",
        "\n",
        "auc = roc_auc_score(y_test, gru.predict(x_test))\n",
        "mae = mean_absolute_error(y_test,y_pred)\n",
        "mse = mean_squared_error(y_test,y_pred)\n",
        "rmse = math.sqrt(mse)\n",
        "mcc = matthews_corrcoef(y_test,y_pred)\n",
        "\n",
        "results_deep_learning.append({\n",
        "    'model': \"GRU\",\n",
        "    'Training Loss': np.mean(history.history['loss']),\n",
        "    'Training Accuracy': np.mean(history.history['accuracy']),\n",
        "    'Testing Loss': scores[0],\n",
        "    'Accuracy_Score':accuracy,\n",
        "    'Precision': precision,\n",
        "    'Recall': recall,\n",
        "    'F1-Score': f1,\n",
        "    'AUC': auc,\n",
        "    'MAE': mae,\n",
        "    'RMSE': rmse,\n",
        "    'MCC': mcc\n",
        "})\n",
        "\n",
        "df = pd.DataFrame(results_deep_learning,columns = ['model','Training Loss','Training Accuracy','Testing Loss','Accuracy_Score','Precision','Recall','F1-Score','AUC','MAE','RMSE','MCC'])\n",
        "df"
      ],
      "execution_count": null,
      "outputs": [
        {
          "output_type": "stream",
          "name": "stdout",
          "text": [
            "47/47 [==============================] - 1s 22ms/step - loss: 0.6081 - accuracy: 0.8561\n"
          ]
        },
        {
          "output_type": "execute_result",
          "data": {
            "text/html": [
              "<div>\n",
              "<style scoped>\n",
              "    .dataframe tbody tr th:only-of-type {\n",
              "        vertical-align: middle;\n",
              "    }\n",
              "\n",
              "    .dataframe tbody tr th {\n",
              "        vertical-align: top;\n",
              "    }\n",
              "\n",
              "    .dataframe thead th {\n",
              "        text-align: right;\n",
              "    }\n",
              "</style>\n",
              "<table border=\"1\" class=\"dataframe\">\n",
              "  <thead>\n",
              "    <tr style=\"text-align: right;\">\n",
              "      <th></th>\n",
              "      <th>model</th>\n",
              "      <th>Training Loss</th>\n",
              "      <th>Training Accuracy</th>\n",
              "      <th>Testing Loss</th>\n",
              "      <th>Accuracy_Score</th>\n",
              "      <th>Precision</th>\n",
              "      <th>Recall</th>\n",
              "      <th>F1-Score</th>\n",
              "      <th>AUC</th>\n",
              "      <th>MAE</th>\n",
              "      <th>RMSE</th>\n",
              "      <th>MCC</th>\n",
              "    </tr>\n",
              "  </thead>\n",
              "  <tbody>\n",
              "    <tr>\n",
              "      <th>0</th>\n",
              "      <td>ANN</td>\n",
              "      <td>0.122757</td>\n",
              "      <td>0.949795</td>\n",
              "      <td>0.625263</td>\n",
              "      <td>0.899324</td>\n",
              "      <td>0.892430</td>\n",
              "      <td>0.908108</td>\n",
              "      <td>0.900201</td>\n",
              "      <td>0.949425</td>\n",
              "      <td>0.100676</td>\n",
              "      <td>0.317294</td>\n",
              "      <td>0.798772</td>\n",
              "    </tr>\n",
              "    <tr>\n",
              "      <th>1</th>\n",
              "      <td>MLP</td>\n",
              "      <td>NaN</td>\n",
              "      <td>NaN</td>\n",
              "      <td>NaN</td>\n",
              "      <td>0.886486</td>\n",
              "      <td>0.874346</td>\n",
              "      <td>0.902703</td>\n",
              "      <td>0.888298</td>\n",
              "      <td>0.944779</td>\n",
              "      <td>0.113514</td>\n",
              "      <td>0.336918</td>\n",
              "      <td>0.773380</td>\n",
              "    </tr>\n",
              "    <tr>\n",
              "      <th>2</th>\n",
              "      <td>CNN</td>\n",
              "      <td>0.130467</td>\n",
              "      <td>0.945441</td>\n",
              "      <td>0.638944</td>\n",
              "      <td>0.887838</td>\n",
              "      <td>0.894231</td>\n",
              "      <td>0.879730</td>\n",
              "      <td>0.886921</td>\n",
              "      <td>0.948784</td>\n",
              "      <td>0.112162</td>\n",
              "      <td>0.334906</td>\n",
              "      <td>0.775778</td>\n",
              "    </tr>\n",
              "    <tr>\n",
              "      <th>3</th>\n",
              "      <td>RNN</td>\n",
              "      <td>0.396011</td>\n",
              "      <td>0.807378</td>\n",
              "      <td>0.481155</td>\n",
              "      <td>0.795270</td>\n",
              "      <td>0.820852</td>\n",
              "      <td>0.755405</td>\n",
              "      <td>0.786770</td>\n",
              "      <td>0.867286</td>\n",
              "      <td>0.204730</td>\n",
              "      <td>0.452471</td>\n",
              "      <td>0.592427</td>\n",
              "    </tr>\n",
              "    <tr>\n",
              "      <th>4</th>\n",
              "      <td>LSTM</td>\n",
              "      <td>0.387458</td>\n",
              "      <td>0.815850</td>\n",
              "      <td>0.386876</td>\n",
              "      <td>0.847973</td>\n",
              "      <td>0.894334</td>\n",
              "      <td>0.789189</td>\n",
              "      <td>0.838478</td>\n",
              "      <td>0.909832</td>\n",
              "      <td>0.152027</td>\n",
              "      <td>0.389906</td>\n",
              "      <td>0.700806</td>\n",
              "    </tr>\n",
              "    <tr>\n",
              "      <th>5</th>\n",
              "      <td>GRU</td>\n",
              "      <td>0.226538</td>\n",
              "      <td>0.897978</td>\n",
              "      <td>0.608069</td>\n",
              "      <td>0.856081</td>\n",
              "      <td>0.860465</td>\n",
              "      <td>0.850000</td>\n",
              "      <td>0.855201</td>\n",
              "      <td>0.919370</td>\n",
              "      <td>0.143919</td>\n",
              "      <td>0.379366</td>\n",
              "      <td>0.712215</td>\n",
              "    </tr>\n",
              "  </tbody>\n",
              "</table>\n",
              "</div>"
            ],
            "text/plain": [
              "  model  Training Loss  Training Accuracy  ...       MAE      RMSE       MCC\n",
              "0   ANN       0.122757           0.949795  ...  0.100676  0.317294  0.798772\n",
              "1   MLP            NaN                NaN  ...  0.113514  0.336918  0.773380\n",
              "2   CNN       0.130467           0.945441  ...  0.112162  0.334906  0.775778\n",
              "3   RNN       0.396011           0.807378  ...  0.204730  0.452471  0.592427\n",
              "4  LSTM       0.387458           0.815850  ...  0.152027  0.389906  0.700806\n",
              "5   GRU       0.226538           0.897978  ...  0.143919  0.379366  0.712215\n",
              "\n",
              "[6 rows x 12 columns]"
            ]
          },
          "metadata": {},
          "execution_count": 88
        }
      ]
    },
    {
      "cell_type": "code",
      "metadata": {
        "colab": {
          "base_uri": "https://localhost:8080/",
          "height": 295
        },
        "id": "9b4TYtyFVvIj",
        "outputId": "d94c72c8-4ea3-4099-afdf-a035838436d2"
      },
      "source": [
        "from sklearn.metrics import roc_curve\n",
        "fpr, tpr, thresholds = roc_curve(y_test, gru.predict(x_test))\n",
        "auc = roc_auc_score(y_test,gru.predict(x_test))\n",
        "plt.plot(fpr, tpr, label='%s ROC (area = %0.2f)' % ('GRU', auc))\n",
        "\n",
        "plt.plot([0, 1], [0, 1],'k--')\n",
        "plt.xlim([0.0, 1.0])\n",
        "plt.ylim([0.0, 1.05])\n",
        "plt.xlabel('False Positive Rate')\n",
        "plt.ylabel('True Positive Rate')\n",
        "plt.title('Receiver Operating Characteristic Curve')\n",
        "plt.legend(loc=\"lower right\")\n",
        "plt.show()"
      ],
      "execution_count": null,
      "outputs": [
        {
          "output_type": "display_data",
          "data": {
            "image/png": "[encoded data removed]",
            "text/plain": [
              "<Figure size 432x288 with 1 Axes>"
            ]
          },
          "metadata": {
            "needs_background": "light"
          }
        }
      ]
    },
    {
      "cell_type": "code",
      "metadata": {
        "colab": {
          "base_uri": "https://localhost:8080/",
          "height": 459
        },
        "id": "PeF27SrOVvwh",
        "outputId": "a0c742e2-4182-4040-e796-e79029201983"
      },
      "source": [
        "con_matrix = tf.math.confusion_matrix(labels=y_test,predictions=y_pred)\n",
        "plt.figure(figsize=(10,7))\n",
        "sns.heatmap(con_matrix,annot=True,fmt='d')\n",
        "plt.xlabel('Predicted Output')\n",
        "plt.ylabel('True Output')"
      ],
      "execution_count": null,
      "outputs": [
        {
          "output_type": "execute_result",
          "data": {
            "text/plain": [
              "Text(69.0, 0.5, 'True Output')"
            ]
          },
          "metadata": {},
          "execution_count": 90
        },
        {
          "output_type": "display_data",
          "data": {
            "image/png": "[encoded data removed]",
            "text/plain": [
              "<Figure size 720x504 with 2 Axes>"
            ]
          },
          "metadata": {
            "needs_background": "light"
          }
        }
      ]
    },
    {
      "cell_type": "code",
      "metadata": {
        "colab": {
          "base_uri": "https://localhost:8080/"
        },
        "id": "_TEmoJgPVyaX",
        "outputId": "0a3764dd-7e81-4ea6-e08e-b25d24419b3a"
      },
      "source": [
        "from sklearn.metrics import classification_report\n",
        "print(classification_report(y_test,y_pred))"
      ],
      "execution_count": null,
      "outputs": [
        {
          "output_type": "stream",
          "name": "stdout",
          "text": [
            "              precision    recall  f1-score   support\n",
            "\n",
            "           0       0.85      0.86      0.86       740\n",
            "           1       0.86      0.85      0.86       740\n",
            "\n",
            "    accuracy                           0.86      1480\n",
            "   macro avg       0.86      0.86      0.86      1480\n",
            "weighted avg       0.86      0.86      0.86      1480\n",
            "\n"
          ]
        }
      ]
    },
    {
      "cell_type": "code",
      "metadata": {
        "id": "t-kxhpbmcQZV"
      },
      "source": [
        "models = {\n",
        "     'ANN': ann,\n",
        "     'MLP': mlp,\n",
        "     'CNN': cnn,\n",
        "     'RNN': rnn,\n",
        "     'LSTM': lstm,\n",
        "     'GRU': gru,\n",
        "}"
      ],
      "execution_count": null,
      "outputs": []
    },
    {
      "cell_type": "code",
      "metadata": {
        "colab": {
          "base_uri": "https://localhost:8080/"
        },
        "id": "oLrzPjcxcovA",
        "outputId": "5159110a-a7bb-44c2-cbeb-e94fe2af7df8"
      },
      "source": [
        "x_test.shape"
      ],
      "execution_count": null,
      "outputs": [
        {
          "output_type": "execute_result",
          "data": {
            "text/plain": [
              "(1480, 42, 1)"
            ]
          },
          "metadata": {},
          "execution_count": 94
        }
      ]
    },
    {
      "cell_type": "code",
      "metadata": {
        "id": "NYmroFLKcsh1"
      },
      "source": [
        "x_test_2d = x_test\n",
        "x_test_2d = x_test_2d.reshape(x_test_2d.shape[0],x_test_2d.shape[1]*1)"
      ],
      "execution_count": null,
      "outputs": []
    },
    {
      "cell_type": "code",
      "metadata": {
        "colab": {
          "base_uri": "https://localhost:8080/"
        },
        "id": "EyCPDKh_cuU_",
        "outputId": "6464e6e1-7e97-450e-810d-c16ebbf8ef70"
      },
      "source": [
        "x_test_2d.shape"
      ],
      "execution_count": null,
      "outputs": [
        {
          "output_type": "execute_result",
          "data": {
            "text/plain": [
              "(1480, 42)"
            ]
          },
          "metadata": {},
          "execution_count": 96
        }
      ]
    },
    {
      "cell_type": "code",
      "metadata": {
        "colab": {
          "base_uri": "https://localhost:8080/",
          "height": 513
        },
        "id": "7rtY9s84fyTc",
        "outputId": "786933f6-2ab1-4c50-a02c-c028db472b07"
      },
      "source": [
        "from sklearn.metrics import roc_curve\n",
        "\n",
        "plt.figure(figsize=(13,8))\n",
        "# for name,model in list(models.items()):\n",
        "#   fpr, tpr, thresholds = roc_curve(y_test, model.predict(x_test))\n",
        "#   auc = roc_auc_score(y_test,model.predict(x_test))\n",
        "#   plt.plot(fpr, tpr, label='%s ROC (area = %0.2f)' % (name, auc))\n",
        "\n",
        "for key in list(models.keys()):\n",
        "  if key == 'ANN':\n",
        "    fpr, tpr, thresholds = roc_curve(y_test, models[key].predict(x_test_2d))\n",
        "    auc = roc_auc_score(y_test,models[key].predict(x_test_2d))\n",
        "  elif key == 'MLP':\n",
        "    fpr, tpr, thresholds = roc_curve(y_test, models[key].predict_proba(x_test_2d)[:, 1])\n",
        "    auc = roc_auc_score(y_test,models[key].predict_proba(x_test_2d)[:, 1])\n",
        "  else:\n",
        "    fpr, tpr, thresholds = roc_curve(y_test, models[key].predict(x_test))\n",
        "    auc = roc_auc_score(y_test,models[key].predict(x_test))\n",
        "\n",
        "  plt.plot(fpr, tpr, label='%s ROC (area = %0.2f)' % (key, auc))\n",
        "\n",
        "plt.plot([0, 1], [0, 1],'k--')\n",
        "plt.xlim([0.0, 1.0])\n",
        "plt.ylim([0.0, 1.05])\n",
        "plt.xlabel('False Positive Rate')\n",
        "plt.ylabel('True Positive Rate')\n",
        "plt.title('Receiver Operating Characteristic Curve')\n",
        "plt.legend(loc=\"lower right\")\n",
        "plt.grid()\n",
        "plt.show() "
      ],
      "execution_count": null,
      "outputs": [
        {
          "output_type": "display_data",
          "data": {
            "image/png": "[encoded data removed]",
            "text/plain": [
              "<Figure size 936x576 with 1 Axes>"
            ]
          },
          "metadata": {
            "needs_background": "light"
          }
        }
      ]
    },
    {
      "cell_type": "code",
      "metadata": {
        "colab": {
          "base_uri": "https://localhost:8080/",
          "height": 234
        },
        "id": "9loXteascOhb",
        "outputId": "649e3dd6-5640-4544-8f00-9452d5771907"
      },
      "source": [
        "df"
      ],
      "execution_count": null,
      "outputs": [
        {
          "output_type": "execute_result",
          "data": {
            "text/html": [
              "<div>\n",
              "<style scoped>\n",
              "    .dataframe tbody tr th:only-of-type {\n",
              "        vertical-align: middle;\n",
              "    }\n",
              "\n",
              "    .dataframe tbody tr th {\n",
              "        vertical-align: top;\n",
              "    }\n",
              "\n",
              "    .dataframe thead th {\n",
              "        text-align: right;\n",
              "    }\n",
              "</style>\n",
              "<table border=\"1\" class=\"dataframe\">\n",
              "  <thead>\n",
              "    <tr style=\"text-align: right;\">\n",
              "      <th></th>\n",
              "      <th>model</th>\n",
              "      <th>Training Loss</th>\n",
              "      <th>Training Accuracy</th>\n",
              "      <th>Testing Loss</th>\n",
              "      <th>Accuracy_Score</th>\n",
              "      <th>Precision</th>\n",
              "      <th>Recall</th>\n",
              "      <th>F1-Score</th>\n",
              "      <th>AUC</th>\n",
              "      <th>MAE</th>\n",
              "      <th>RMSE</th>\n",
              "      <th>MCC</th>\n",
              "    </tr>\n",
              "  </thead>\n",
              "  <tbody>\n",
              "    <tr>\n",
              "      <th>0</th>\n",
              "      <td>ANN</td>\n",
              "      <td>0.122757</td>\n",
              "      <td>0.949795</td>\n",
              "      <td>0.625263</td>\n",
              "      <td>0.899324</td>\n",
              "      <td>0.892430</td>\n",
              "      <td>0.908108</td>\n",
              "      <td>0.900201</td>\n",
              "      <td>0.949425</td>\n",
              "      <td>0.100676</td>\n",
              "      <td>0.317294</td>\n",
              "      <td>0.798772</td>\n",
              "    </tr>\n",
              "    <tr>\n",
              "      <th>1</th>\n",
              "      <td>MLP</td>\n",
              "      <td>NaN</td>\n",
              "      <td>NaN</td>\n",
              "      <td>NaN</td>\n",
              "      <td>0.886486</td>\n",
              "      <td>0.874346</td>\n",
              "      <td>0.902703</td>\n",
              "      <td>0.888298</td>\n",
              "      <td>0.944779</td>\n",
              "      <td>0.113514</td>\n",
              "      <td>0.336918</td>\n",
              "      <td>0.773380</td>\n",
              "    </tr>\n",
              "    <tr>\n",
              "      <th>2</th>\n",
              "      <td>CNN</td>\n",
              "      <td>0.130467</td>\n",
              "      <td>0.945441</td>\n",
              "      <td>0.638944</td>\n",
              "      <td>0.887838</td>\n",
              "      <td>0.894231</td>\n",
              "      <td>0.879730</td>\n",
              "      <td>0.886921</td>\n",
              "      <td>0.948784</td>\n",
              "      <td>0.112162</td>\n",
              "      <td>0.334906</td>\n",
              "      <td>0.775778</td>\n",
              "    </tr>\n",
              "    <tr>\n",
              "      <th>3</th>\n",
              "      <td>RNN</td>\n",
              "      <td>0.396011</td>\n",
              "      <td>0.807378</td>\n",
              "      <td>0.481155</td>\n",
              "      <td>0.795270</td>\n",
              "      <td>0.820852</td>\n",
              "      <td>0.755405</td>\n",
              "      <td>0.786770</td>\n",
              "      <td>0.867286</td>\n",
              "      <td>0.204730</td>\n",
              "      <td>0.452471</td>\n",
              "      <td>0.592427</td>\n",
              "    </tr>\n",
              "    <tr>\n",
              "      <th>4</th>\n",
              "      <td>LSTM</td>\n",
              "      <td>0.387458</td>\n",
              "      <td>0.815850</td>\n",
              "      <td>0.386876</td>\n",
              "      <td>0.847973</td>\n",
              "      <td>0.894334</td>\n",
              "      <td>0.789189</td>\n",
              "      <td>0.838478</td>\n",
              "      <td>0.909832</td>\n",
              "      <td>0.152027</td>\n",
              "      <td>0.389906</td>\n",
              "      <td>0.700806</td>\n",
              "    </tr>\n",
              "    <tr>\n",
              "      <th>5</th>\n",
              "      <td>GRU</td>\n",
              "      <td>0.226538</td>\n",
              "      <td>0.897978</td>\n",
              "      <td>0.608069</td>\n",
              "      <td>0.856081</td>\n",
              "      <td>0.860465</td>\n",
              "      <td>0.850000</td>\n",
              "      <td>0.855201</td>\n",
              "      <td>0.919370</td>\n",
              "      <td>0.143919</td>\n",
              "      <td>0.379366</td>\n",
              "      <td>0.712215</td>\n",
              "    </tr>\n",
              "  </tbody>\n",
              "</table>\n",
              "</div>"
            ],
            "text/plain": [
              "  model  Training Loss  Training Accuracy  ...       MAE      RMSE       MCC\n",
              "0   ANN       0.122757           0.949795  ...  0.100676  0.317294  0.798772\n",
              "1   MLP            NaN                NaN  ...  0.113514  0.336918  0.773380\n",
              "2   CNN       0.130467           0.945441  ...  0.112162  0.334906  0.775778\n",
              "3   RNN       0.396011           0.807378  ...  0.204730  0.452471  0.592427\n",
              "4  LSTM       0.387458           0.815850  ...  0.152027  0.389906  0.700806\n",
              "5   GRU       0.226538           0.897978  ...  0.143919  0.379366  0.712215\n",
              "\n",
              "[6 rows x 12 columns]"
            ]
          },
          "metadata": {},
          "execution_count": 99
        }
      ]
    },
    {
      "cell_type": "code",
      "metadata": {
        "colab": {
          "base_uri": "https://localhost:8080/",
          "height": 585
        },
        "id": "5VOp9ZAUdB8b",
        "outputId": "95c92a87-1ddb-4dfe-c5ee-9e3114aee0cb"
      },
      "source": [
        "x = np.arange(len(df['model']))  # the label locations\n",
        "width = 0.23  # the width of the bars\n",
        "\n",
        "fig, ax = plt.subplots(figsize=(15, 8))\n",
        "# rects1 = ax.bar(x + width/2, df['Precision'], width, label='F1-Score')\n",
        "rects1 = ax.bar(x-width, df['MAE'], width, label='MAE')\n",
        "rects2 = ax.bar(x - width/15, df['MCC'], width, label='MCC')\n",
        "rects3 = ax.bar(x + width/1.2, df['F1-Score'], width, label='F1-Score')\n",
        "rects4 = ax.bar(x + width/1.2 + width/1.2, df['Accuracy_Score'], width, label='Accuracy')\n",
        "\n",
        "# ax.set_ylabel('MAE, MCC, F1 and Accuracy')\n",
        "ax.set_title('MAE, MCC, F1 and Accuracy Score')\n",
        "ax.set_xticks(x)\n",
        "plt.xticks(rotation=30)\n",
        "ax.set_xticklabels(df['model'])\n",
        "for i in range(len(df['model'])):\n",
        "  plt.text(i-width,round(df['MAE'][i],2), round(df['MAE'][i],2),ha=\"center\",size=13,bbox = {\n",
        "      'faceColor': 'white',  \n",
        "      'alpha': 1,\n",
        "      'pad': 1\n",
        "   })\n",
        "  plt.text(i - width/15,round(df['MCC'][i],2), round(df['MCC'][i],2),ha=\"center\",size=13,bbox = {  \n",
        "      'faceColor': 'white',  \n",
        "      'alpha': 1,\n",
        "      'pad': 1\n",
        "   })\n",
        "  plt.text(i + 0.2/1.2,round(df['F1-Score'][i],2), round(df['F1-Score'][i],2),ha=\"center\",size=13,bbox = {  \n",
        "      'faceColor': 'white',  \n",
        "      'alpha': 1,\n",
        "      'pad': 1\n",
        "   })\n",
        "  plt.text(i + width/1.2 + 0.20,round(df['Accuracy_Score'][i],2), round(df['Accuracy_Score'][i],2),ha=\"center\",size=13,bbox = {\n",
        "      'faceColor': 'white',  \n",
        "      'alpha': 1,\n",
        "      'pad': 1\n",
        "   })\n",
        "ax.legend()\n",
        "\n",
        "fig.tight_layout()  \n",
        "\n",
        "plt.show()"
      ],
      "execution_count": null,
      "outputs": [
        {
          "output_type": "display_data",
          "data": {
            "image/png": "[encoded data removed]",
            "text/plain": [
              "<Figure size 1080x576 with 1 Axes>"
            ]
          },
          "metadata": {
            "needs_background": "light"
          }
        }
      ]
    },
    {
      "cell_type": "code",
      "metadata": {
        "id": "rRzlKuvDdQl7"
      },
      "source": [
        ""
      ],
      "execution_count": null,
      "outputs": []
    }
  ]
}